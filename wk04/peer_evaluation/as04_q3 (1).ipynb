{
 "cells": [
  {
   "cell_type": "markdown",
   "metadata": {
    "Collapsed": "false",
    "id": "4ohPg-Y3GYgD"
   },
   "source": [
    "# Question 3: Backprop using Auto-differentiation\n",
    "Purpose: To derive a version of my Network module that uses AD."
   ]
  },
  {
   "cell_type": "code",
   "execution_count": 75,
   "metadata": {
    "Collapsed": "false",
    "id": "dLYEelLGGYgI"
   },
   "outputs": [],
   "source": [
    "import numpy as np\n",
    "from utils import *\n",
    "from matad import *\n",
    "from copy import deepcopy\n",
    "import matplotlib.pyplot as plt"
   ]
  },
  {
   "cell_type": "markdown",
   "metadata": {
    "Collapsed": "true",
    "id": "f_MS28NYGYgJ"
   },
   "source": [
    "# Dataset"
   ]
  },
  {
   "cell_type": "code",
   "execution_count": 76,
   "metadata": {
    "Collapsed": "false",
    "id": "4qcIOsFSGYgJ"
   },
   "outputs": [],
   "source": [
    "# DiscreteMapping dataset\n",
    "n_classes = 3\n",
    "in_dim = 2\n",
    "\n",
    "np.random.seed(9201)\n",
    "B = np.eye(n_classes)\n",
    "A = 4.*np.random.rand(n_classes, in_dim)\n",
    "ds = DiscreteMapping(A, B, n=300, noise=0.2)"
   ]
  },
  {
   "cell_type": "code",
   "execution_count": 77,
   "metadata": {
    "Collapsed": "false",
    "colab": {
     "base_uri": "https://localhost:8080/",
     "height": 265
    },
    "id": "SqEe17nyGYgK",
    "outputId": "61471676-70b9-4354-ec79-a4a70ca9a37f",
    "scrolled": true
   },
   "outputs": [
    {
     "data": {
      "image/png": "[encoded data removed]",
      "text/plain": [
       "<Figure size 432x288 with 1 Axes>"
      ]
     },
     "metadata": {
      "needs_background": "light",
      "tags": []
     },
     "output_type": "display_data"
    }
   ],
   "source": [
    "ds.plot()"
   ]
  },
  {
   "cell_type": "markdown",
   "metadata": {
    "id": "F7xO7pKbGYgK"
   },
   "source": [
    "# (a) `Mul` class and its wrapper `mul` (action required)"
   ]
  },
  {
   "cell_type": "code",
   "execution_count": 78,
   "metadata": {
    "id": "YRlnoyt1GYgK"
   },
   "outputs": [],
   "source": [
    "# The function \"mul\" is a wrapper for using the MatOperation class Mul.\n",
    "def mul(a, b):\n",
    "    '''\n",
    "     v = mul(a, b)\n",
    "\n",
    "     Matrix multiplication between two Mat objects.\n",
    "     \n",
    "     Inputs:\n",
    "       a   Mat object, DxM\n",
    "       b   Mat object, MxN\n",
    "       \n",
    "     Output:\n",
    "       v   Mat object, DxN\n",
    "       \n",
    "     Note:\n",
    "       v.creator points to the correspdoning Mul object\n",
    "           of the MatOperation class\n",
    "    '''\n",
    "    return Mul([a, b])()\n",
    "\n",
    "class Mul(MatOperation):\n",
    "    def __init__(self, args):\n",
    "        '''\n",
    "         op = Mul(args)\n",
    "         \n",
    "         Creates a Mul object which implements matrix-matrix multiplication\n",
    "         and its derivative.\n",
    "         \n",
    "         Inputs:\n",
    "           args  list of two Mat objects\n",
    "           \n",
    "         Usage:\n",
    "           a = Mat(...)\n",
    "           b = Mat(...)\n",
    "           op = Mul([a,b])  # creates the operation object\n",
    "           v = op()         # evaluates the operation\n",
    "        '''\n",
    "        self.args = args\n",
    "\n",
    "    def __call__(self):\n",
    "        '''\n",
    "         v = op() where op is a Mul object\n",
    "         \n",
    "         Evaluates the multiplication.\n",
    "         The arguments (Mat objects) were specified at instatiation.\n",
    "         \n",
    "         Output:\n",
    "           v   Mat containing the product\n",
    "        '''\n",
    "        c = Mat(self.args[0].val @ self.args[1].val)\n",
    "        c.creator = self\n",
    "        return c\n",
    "\n",
    "    def backward(self, s=None):\n",
    "        '''\n",
    "         op.backward(s=None)\n",
    "         \n",
    "         Computes the 66 of the Mul operation with respect to its arguments,\n",
    "         and applies that (using chain rule) to s, the input derivative.\n",
    "         It then delivers the resulting derivatives to its arguments.\n",
    "         \n",
    "         Input:\n",
    "           s  2D NumPy array (not a Mat object)\n",
    "        '''\n",
    "        # Appropriate backward propogation according to the result of Q2\n",
    "        self.args[0].backward(s@self.args[1].val.T)  \n",
    "        self.args[1].backward(self.args[0].val.T@s)  \n"
   ]
  },
  {
   "cell_type": "markdown",
   "metadata": {
    "Collapsed": "false",
    "id": "ZXRWrTg3GYgL"
   },
   "source": [
    "# `Layer` class and `Population` class"
   ]
  },
  {
   "cell_type": "code",
   "execution_count": 79,
   "metadata": {
    "id": "saSF8v-TGYgL"
   },
   "outputs": [],
   "source": [
    "# Abstract base class for layers\n",
    "class Layer(object):\n",
    "    def __init__(self):\n",
    "        return\n",
    "\n",
    "    def __call__(self, x=None):\n",
    "        raise NotImplementedError"
   ]
  },
  {
   "cell_type": "code",
   "execution_count": 80,
   "metadata": {
    "id": "RkeVujZeGYgL"
   },
   "outputs": [],
   "source": [
    "# Population layer represents a layer of nodes, and applies the\n",
    "# activation function. It also stores the input current (z) and\n",
    "# the node activations (h).\n",
    "class Population(Layer):\n",
    "    '''\n",
    "     lyr = Population(act=logistic)\n",
    "\n",
    "     Creates a layer of nodes, and applies the activation\n",
    "     to its input currents.\n",
    "\n",
    "     Inputs:\n",
    "       act  activation function\n",
    "            This function should take a Mat object as input\n",
    "            and output a Mat object.\n",
    "          \n",
    "     Usage:\n",
    "       lyr.z  # Mat object, stores node input currents\n",
    "       lyr.h  # Mat object, stores node activities\n",
    "       lyr()  # returns lyr.h\n",
    "       lyr(x) # applies activation function to x (Mat object)\n",
    "    '''\n",
    "    def __init__(self, act=logistic):\n",
    "        self.z = None  # Mat object\n",
    "        self.h = None  # Mat object\n",
    "        self.act = act\n",
    "        self.params = []\n",
    "\n",
    "    def __call__(self, x=None):\n",
    "        if x is not None:\n",
    "            self.h = self.act(x)\n",
    "        return self.h"
   ]
  },
  {
   "cell_type": "code",
   "execution_count": 81,
   "metadata": {
    "id": "XCR5c-HIGYgM"
   },
   "outputs": [],
   "source": [
    "class DenseLayer(Layer):\n",
    "    '''\n",
    "     lyr = DenseLayer(from_nodes=1, to_nodes=1, act=logistic)\n",
    "\n",
    "     The DenseLayer class puts the connection weights and\n",
    "     activation function together into a single class.\n",
    "     This compound layer is composed of:\n",
    "       L1: a Connection object, followed by\n",
    "       L2: a Population object.\n",
    "\n",
    "     Inputs:\n",
    "       from_nodes  number of nodes in sending layer\n",
    "       to_nodes    number of nodes in receiving layer\n",
    "       act         activation function\n",
    "                   This function should take a Mat object as input\n",
    "                   and output a Mat object.\n",
    "\n",
    "     Usage:\n",
    "       lyr.L1  # Connection layer object\n",
    "       lyr.L2  # Population layer object\n",
    "       h1 = lyr(h0) # returns activity of receiving layer, after\n",
    "                    # passing h0 through L1 and then L2.\n",
    "       h = lyr()  # returns the activities stored in lyr.L2\n",
    "    '''\n",
    "    def __init__(self, from_nodes=1, to_nodes=1, act=logistic):\n",
    "        self.L1 = Connection(from_nodes=from_nodes, to_nodes=to_nodes)\n",
    "        self.L2 = Population(act=act)\n",
    "        self.params = self.L1.params\n",
    "\n",
    "    def __call__(self, x=None):\n",
    "        if x is None:\n",
    "            return self.L2.h\n",
    "        else:\n",
    "            return self.L2(self.L1(x))"
   ]
  },
  {
   "cell_type": "markdown",
   "metadata": {
    "id": "ee4lEiSOGYgM"
   },
   "source": [
    "# (b) `Connection` class (action required)"
   ]
  },
  {
   "cell_type": "code",
   "execution_count": 82,
   "metadata": {
    "id": "fMLaiZmyGYgM"
   },
   "outputs": [],
   "source": [
    "# Connection class\n",
    "class Connection(Layer):\n",
    "    '''\n",
    "     lyr = Connection(from_nodes=1, to_nodes=1)\n",
    "\n",
    "     Creates a layer of all-to-all connections.\n",
    "\n",
    "     Inputs:\n",
    "       from_nodes  number of nodes in source layer\n",
    "       to_nodes    number of nodes in receiving layer\n",
    "      \n",
    "     Usage:\n",
    "       lyr.W   # holds the connection weights (Mat object)\n",
    "       lyr.b   # holds the biases (Mat object)\n",
    "       lyr.params  # a list of parameters, [W,b]\n",
    "       z = lyr(h)  # projects activities h (Mat) through the\n",
    "                   # connection to get input currents z (Mat)\n",
    "                   # ie. z = h @ W\n",
    "    '''\n",
    "    def __init__(self, from_nodes=1, to_nodes=1):\n",
    "        super().__init__()\n",
    "        self.Nin = from_nodes    # number of nodes in input (lower) layer\n",
    "        self.Nout = to_nodes     # number of nodes in higher layer\n",
    "\n",
    "        self.W = Mat( np.random.randn(self.Nin, self.Nout) / np.sqrt(self.Nin) )\n",
    "        self.b = Mat( np.zeros(self.Nout) )\n",
    "        self.params = [self.W, self.b]\n",
    "\n",
    "    def __call__(self, x):\n",
    "        if x is None:\n",
    "            print('Should not call Connection without arguments.')\n",
    "            return\n",
    "\n",
    "        #This is just x*W + b and return the Operation class instance. \n",
    "        return plus(mul(x,self.W),self.b)  \n"
   ]
  },
  {
   "cell_type": "markdown",
   "metadata": {
    "id": "FBgwut4QGYgN"
   },
   "source": [
    "# (c) `Network` class (action required)"
   ]
  },
  {
   "cell_type": "code",
   "execution_count": 83,
   "metadata": {
    "id": "_zbT6o7FGYgN"
   },
   "outputs": [],
   "source": [
    "class Network(object):\n",
    "    '''\n",
    "     net = Network()\n",
    "\n",
    "     Creates a Network object, which represents a series of\n",
    "     layers, and a cost (loss) function.\n",
    "\n",
    "     Usage:\n",
    "       net.lyr  # returns a list of Layer objects\n",
    "       net.add_layer(L)  # appends the Layer L to the network\n",
    "       y = net(x)  # feeds inputs x through the network\n",
    "                   # x is a 2D numpy array or a Mat object\n",
    "                   # returns y (Mat object)\n",
    "       net.loss    # loss function (MatOperation object)\n",
    "    '''\n",
    "    def __init__(self):\n",
    "        self.lyr = []\n",
    "        self.loss = None\n",
    "\n",
    "    def add_layer(self, L):\n",
    "        self.lyr.append(L)\n",
    "\n",
    "    def __call__(self, x):\n",
    "        if type(x) not in (Mat, ):\n",
    "            x = Mat(x)\n",
    "        for l in self.lyr:\n",
    "            x = l(x)\n",
    "        return x\n",
    "\n",
    "    def parameters(self):\n",
    "        '''\n",
    "         params = net.parameters()\n",
    "         \n",
    "         Returns a list of Mat objects of the connection weights and\n",
    "         biases in the network (from bottom to top).\n",
    "         Note that only Connection layers have these parameters.\n",
    "        '''\n",
    "        params = []\n",
    "        for l in self.lyr:\n",
    "            if l.params:  # skips empty lists\n",
    "                params.append(l.params[0])\n",
    "                params.append(l.params[1])\n",
    "        return params\n",
    "    \n",
    "    def learn(self, ds, lrate=1., epochs=10):\n",
    "        '''\n",
    "         net.learn(ds, lrate=1., epochs=10)\n",
    "\n",
    "         Runs backprop on the network, training on the data from\n",
    "         the Dataset object ds.\n",
    "\n",
    "         Inputs:\n",
    "           ds       a Dataset object\n",
    "           lrate    learning rate\n",
    "           epochs   number of epochs to run\n",
    "        '''\n",
    "        x = ds.inputs()\n",
    "        t = ds.targets()\n",
    "        for epoch in range(epochs):\n",
    "\n",
    "            y = self(x)             # forward pass\n",
    "\n",
    "            #===== YOUR CODE BELOW =====\n",
    "            loss = self.loss(y,t) #calculate the loss so that we can do backprop\n",
    "            loss.zero_grad() #reset all gradients\n",
    "            loss.backward() #calculate gradients\n",
    "            for i in self.parameters():\n",
    "              i.set(i.val-lrate*i.grad) #Do gradient descent on each parameter\n",
    "            # Report progress\n",
    "            if epoch%50==0:\n",
    "                print(f'{epoch}: cost = {loss()[0,0]}')"
   ]
  },
  {
   "cell_type": "markdown",
   "metadata": {
    "id": "fMb1XIq2GYgO"
   },
   "source": [
    "# Create a network"
   ]
  },
  {
   "cell_type": "code",
   "execution_count": 84,
   "metadata": {
    "Collapsed": "false",
    "id": "V6PpwFpjGYgO"
   },
   "outputs": [],
   "source": [
    "# Create a network object\n",
    "# 2 input nodes -> 10 hidden nodes -> 3 output nodes\n",
    "net = Network()\n",
    "input_pop = Population(act=identity)\n",
    "dl1 = DenseLayer(from_nodes=2, to_nodes=10, act=logistic)\n",
    "dl2 = DenseLayer(from_nodes=10, to_nodes=3, act=logistic)\n",
    "net.add_layer(input_pop)\n",
    "net.add_layer(dl1)\n",
    "net.add_layer(dl2)\n",
    "# Loss function\n",
    "net.loss = mean_ce\n",
    "lrate = 1."
   ]
  },
  {
   "cell_type": "markdown",
   "metadata": {
    "id": "ljQay0WoGYgO"
   },
   "source": [
    "# Train and test the network\n",
    "Your edited code should work on these lines"
   ]
  },
  {
   "cell_type": "code",
   "execution_count": 85,
   "metadata": {
    "Collapsed": "false",
    "colab": {
     "base_uri": "https://localhost:8080/"
    },
    "id": "Ym6HSVRDGYgO",
    "outputId": "041b1f0b-2cbb-4ef7-b039-570e4b1fffc6"
   },
   "outputs": [
    {
     "name": "stdout",
     "output_type": "stream",
     "text": [
      "0: cost = 2.09402768668806\n",
      "50: cost = 0.639390933928657\n",
      "100: cost = 0.3109170203201348\n",
      "150: cost = 0.1823889320089321\n",
      "200: cost = 0.12295085425819832\n",
      "250: cost = 0.08978201003180514\n",
      "300: cost = 0.06903884265590426\n",
      "350: cost = 0.055134841867414984\n",
      "400: cost = 0.04534670318582819\n",
      "450: cost = 0.038183634917594696\n"
     ]
    }
   ],
   "source": [
    "# you might have to run this a few times\n",
    "net.learn(ds, lrate=lrate, epochs=500)"
   ]
  },
  {
   "cell_type": "code",
   "execution_count": 86,
   "metadata": {
    "Collapsed": "false",
    "colab": {
     "base_uri": "https://localhost:8080/"
    },
    "id": "BqSwX6qPGYgP",
    "outputId": "9c9c4f87-d6b8-46e7-c011-378d30144abc"
   },
   "outputs": [
    {
     "name": "stdout",
     "output_type": "stream",
     "text": [
      "[[9.52543635e-01 1.46887750e-03 3.90415020e-02]\n",
      " [4.36637919e-05 9.99133665e-01 4.53550676e-03]\n",
      " [4.89202840e-03 6.85400279e-03 9.86365147e-01]\n",
      " [2.25353304e-02 2.69729085e-03 9.76602236e-01]\n",
      " [9.95232517e-01 1.02735145e-03 4.20767962e-03]\n",
      " [5.04890570e-05 9.97483641e-01 1.16332703e-02]]\n"
     ]
    }
   ],
   "source": [
    "y = net.lyr[-1]().val\n",
    "print(y[:6,:])"
   ]
  },
  {
   "cell_type": "code",
   "execution_count": 87,
   "metadata": {
    "Collapsed": "false",
    "colab": {
     "base_uri": "https://localhost:8080/"
    },
    "id": "owRwRZSOGYgP",
    "outputId": "917bf9ef-75b9-4308-c122-aa7a4d88ad43"
   },
   "outputs": [
    {
     "data": {
      "text/plain": [
       "array([[1., 0., 0.],\n",
       "       [0., 1., 0.],\n",
       "       [0., 0., 1.],\n",
       "       [0., 0., 1.],\n",
       "       [1., 0., 0.],\n",
       "       [0., 1., 0.]])"
      ]
     },
     "execution_count": 87,
     "metadata": {
      "tags": []
     },
     "output_type": "execute_result"
    }
   ],
   "source": [
    "ds.targets()[:6,:]"
   ]
  },
  {
   "cell_type": "code",
   "execution_count": 88,
   "metadata": {
    "colab": {
     "base_uri": "https://localhost:8080/",
     "height": 265
    },
    "id": "CUcrrJvUGYgP",
    "outputId": "1230c441-2059-4a36-fb30-648a06132810"
   },
   "outputs": [
    {
     "data": {
      "image/png": "[encoded data removed]",
      "text/plain": [
       "<Figure size 432x288 with 1 Axes>"
      ]
     },
     "metadata": {
      "needs_background": "light",
      "tags": []
     },
     "output_type": "display_data"
    }
   ],
   "source": [
    "ds.plot(labels=y);"
   ]
  },
  {
   "cell_type": "code",
   "execution_count": 89,
   "metadata": {
    "id": "S_DtFHc3wUU2"
   },
   "outputs": [],
   "source": [
    "def accuracy(y, t):\n",
    "    '''\n",
    "     ac = accuracy(y, t)\n",
    "     \n",
    "     Calculates the fraction of correctly classified samples.\n",
    "     A sample is classified correctly if the largest element\n",
    "     in y corresponds to where the 1 is in the target.\n",
    "     \n",
    "     Inputs:\n",
    "       y  a batch of outputs, with one sample per row\n",
    "       t  the corresponding batch of targets\n",
    "       \n",
    "     Output:\n",
    "       ac the fraction of correct classifications (0<=ac<=1)\n",
    "    '''\n",
    "    #===== YOUR CODE HERE =====\n",
    "    # transfer y and t into a 1-dimentional array, where each element is the index of the original larger value\n",
    "    # For example, [[0,1],[1,0]]->[0,1]\n",
    "    yAry = np.argmax(y, axis=1)\n",
    "    tAry = np.argmax(t, axis=1)\n",
    "    \n",
    "    # now create a true/false array which records where y,t has the same/different prediction\n",
    "    accuracyAry = yAry==tAry\n",
    "    \n",
    "    # count the number of True's in the array, the number is how many we have predic\n",
    "    corrects = np.count_nonzero(accuracyAry==True)\n",
    "    \n",
    "    # record the total number of samples as the total length of the array, i.e., sample size\n",
    "    sampleSize = len(tAry)\n",
    "    \n",
    "    # return the correct rate by using the number of correct predictions divided by sample size.\n",
    "    return corrects/sampleSize"
   ]
  },
  {
   "cell_type": "code",
   "execution_count": 90,
   "metadata": {
    "colab": {
     "base_uri": "https://localhost:8080/"
    },
    "id": "cFQLj4040FuF",
    "outputId": "78f45a31-127f-4601-ef88-23c5ddc3e34e"
   },
   "outputs": [
    {
     "data": {
      "text/plain": [
       "1.0"
      ]
     },
     "execution_count": 90,
     "metadata": {
      "tags": []
     },
     "output_type": "execute_result"
    }
   ],
   "source": [
    "accuracy(ds.targets(),y) # Output the accuracy"
   ]
  },
  {
   "cell_type": "markdown",
   "metadata": {
    "id": "SCR5HkvkGYgP"
   },
   "source": [
    "## You can also try your code on the `UClasses` dataset"
   ]
  },
  {
   "cell_type": "code",
   "execution_count": 59,
   "metadata": {
    "colab": {
     "base_uri": "https://localhost:8080/",
     "height": 299
    },
    "id": "8gUtZzVSGYgP",
    "outputId": "9993014c-16b8-4e34-8b84-0bc021360c91",
    "scrolled": true
   },
   "outputs": [
    {
     "name": "stdout",
     "output_type": "stream",
     "text": [
      "Inputs are 2D\n",
      "Targets are one-hot 2-vectors\n"
     ]
    },
    {
     "data": {
      "image/png": "[encoded data removed]",
      "text/plain": [
       "<Figure size 432x288 with 1 Axes>"
      ]
     },
     "metadata": {
      "needs_background": "light",
      "tags": []
     },
     "output_type": "display_data"
    }
   ],
   "source": [
    "ds = UClasses(n=1000)\n",
    "print(f'Inputs are {ds.input_dim}D')\n",
    "print(f'Targets are one-hot {ds.n_classes}-vectors')\n",
    "ds.plot();"
   ]
  },
  {
   "cell_type": "code",
   "execution_count": null,
   "metadata": {
    "Collapsed": "false",
    "id": "eoShFS3xGYgQ"
   },
   "outputs": [],
   "source": []
  },
  {
   "cell_type": "code",
   "execution_count": null,
   "metadata": {
    "Collapsed": "false",
    "id": "7Ol3PJ90GYgQ"
   },
   "outputs": [],
   "source": []
  },
  {
   "cell_type": "code",
   "execution_count": null,
   "metadata": {
    "id": "90qF0xQnGYgQ"
   },
   "outputs": [],
   "source": []
  }
 ],
 "metadata": {
  "colab": {
   "name": "as04_q3.ipynb",
   "provenance": [],
   "toc_visible": true
  },
  "kernelspec": {
   "display_name": "Python 3",
   "language": "python",
   "name": "python3"
  },
  "language_info": {
   "codemirror_mode": {
    "name": "ipython",
    "version": 3
   },
   "file_extension": ".py",
   "mimetype": "text/x-python",
   "name": "python",
   "nbconvert_exporter": "python",
   "pygments_lexer": "ipython3",
   "version": "3.6.9"
  }
 },
 "nbformat": 4,
 "nbformat_minor": 1
}
