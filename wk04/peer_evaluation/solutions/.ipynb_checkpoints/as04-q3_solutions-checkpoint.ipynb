{
 "cells": [
  {
   "cell_type": "markdown",
   "metadata": {
    "Collapsed": "false"
   },
   "source": [
    "# Question 3: Backprop using Auto-differentiation\n",
    "Purpose: To derive a version of my Network module that uses AD."
   ]
  },
  {
   "cell_type": "code",
   "execution_count": 1,
   "metadata": {
    "Collapsed": "false"
   },
   "outputs": [
    {
     "ename": "ModuleNotFoundError",
     "evalue": "No module named 'utils'",
     "output_type": "error",
     "traceback": [
      "\u001b[0;31m---------------------------------------------------------------------------\u001b[0m",
      "\u001b[0;31mModuleNotFoundError\u001b[0m                       Traceback (most recent call last)",
      "\u001b[0;32m<ipython-input-1-60c1f0ae7b8d>\u001b[0m in \u001b[0;36m<module>\u001b[0;34m\u001b[0m\n\u001b[1;32m      1\u001b[0m \u001b[0;32mimport\u001b[0m \u001b[0mnumpy\u001b[0m \u001b[0;32mas\u001b[0m \u001b[0mnp\u001b[0m\u001b[0;34m\u001b[0m\u001b[0;34m\u001b[0m\u001b[0m\n\u001b[0;32m----> 2\u001b[0;31m \u001b[0;32mfrom\u001b[0m \u001b[0mutils\u001b[0m \u001b[0;32mimport\u001b[0m \u001b[0;34m*\u001b[0m\u001b[0;34m\u001b[0m\u001b[0;34m\u001b[0m\u001b[0m\n\u001b[0m\u001b[1;32m      3\u001b[0m \u001b[0;32mfrom\u001b[0m \u001b[0mmatad\u001b[0m \u001b[0;32mimport\u001b[0m \u001b[0;34m*\u001b[0m\u001b[0;34m\u001b[0m\u001b[0;34m\u001b[0m\u001b[0m\n\u001b[1;32m      4\u001b[0m \u001b[0;32mfrom\u001b[0m \u001b[0mcopy\u001b[0m \u001b[0;32mimport\u001b[0m \u001b[0mdeepcopy\u001b[0m\u001b[0;34m\u001b[0m\u001b[0;34m\u001b[0m\u001b[0m\n\u001b[1;32m      5\u001b[0m \u001b[0;32mimport\u001b[0m \u001b[0mmatplotlib\u001b[0m\u001b[0;34m.\u001b[0m\u001b[0mpyplot\u001b[0m \u001b[0;32mas\u001b[0m \u001b[0mplt\u001b[0m\u001b[0;34m\u001b[0m\u001b[0;34m\u001b[0m\u001b[0m\n",
      "\u001b[0;31mModuleNotFoundError\u001b[0m: No module named 'utils'"
     ]
    }
   ],
   "source": [
    "import numpy as np\n",
    "from utils import *\n",
    "from matad import *\n",
    "from copy import deepcopy\n",
    "import matplotlib.pyplot as plt"
   ]
  },
  {
   "cell_type": "code",
   "execution_count": null,
   "metadata": {},
   "outputs": [],
   "source": []
  },
  {
   "cell_type": "markdown",
   "metadata": {
    "Collapsed": "true"
   },
   "source": [
    "# Dataset"
   ]
  },
  {
   "cell_type": "code",
   "execution_count": null,
   "metadata": {
    "Collapsed": "false"
   },
   "outputs": [],
   "source": [
    "# DiscreteMapping dataset\n",
    "n_classes = 3\n",
    "in_dim = 2\n",
    "\n",
    "np.random.seed(9201)\n",
    "B = np.eye(n_classes)\n",
    "A = 4.*np.random.rand(n_classes, in_dim)\n",
    "\n",
    "ds = DiscreteMapping(A, B, n=300, noise=0.2)"
   ]
  },
  {
   "cell_type": "code",
   "execution_count": null,
   "metadata": {
    "Collapsed": "false",
    "scrolled": true
   },
   "outputs": [],
   "source": [
    "ds.plot()"
   ]
  },
  {
   "cell_type": "markdown",
   "metadata": {},
   "source": [
    "# (a) `Mul` class and its wrapper `mul` (action required)"
   ]
  },
  {
   "cell_type": "code",
   "execution_count": null,
   "metadata": {},
   "outputs": [],
   "source": [
    "# The function \"mul\" is a wrapper for using the MatOperation class Mul.\n",
    "def mul(a, b):\n",
    "    '''\n",
    "     v = mul(a, b)\n",
    "\n",
    "     Matrix multiplication between two Mat objects.\n",
    "     \n",
    "     Inputs:\n",
    "       a   Mat object, DxM\n",
    "       b   Mat object, MxN\n",
    "       \n",
    "     Output:\n",
    "       v   Mat object, DxN\n",
    "       \n",
    "     Note:\n",
    "       v.creator points to the correspdoning Mul object\n",
    "           of the MatOperation class\n",
    "    '''\n",
    "    return Mul([a, b])()\n",
    "\n",
    "class Mul(MatOperation):\n",
    "    def __init__(self, args):\n",
    "        '''\n",
    "         op = Mul(args)\n",
    "         \n",
    "         Creates a Mul object which implements matrix-matrix multiplication\n",
    "         and its derivative.\n",
    "         \n",
    "         Inputs:\n",
    "           args  list of two Mat objects\n",
    "           \n",
    "         Usage:\n",
    "           a = Mat(...)\n",
    "           b = Mat(...)\n",
    "           op = Mul([a,b])  # creates the operation object\n",
    "           v = op()         # evaluates the operation\n",
    "        '''\n",
    "        self.args = args\n",
    "\n",
    "    def __call__(self):\n",
    "        '''\n",
    "         v = op() where op is a Mul object\n",
    "         \n",
    "         Evaluates the multiplication.\n",
    "         The arguments (Mat objects) were specified at instatiation.\n",
    "         \n",
    "         Output:\n",
    "           v   Mat containing the product\n",
    "        '''\n",
    "        c = Mat(self.args[0].val @ self.args[1].val)\n",
    "        c.creator = self\n",
    "        return c\n",
    "\n",
    "    def backward(self, s=None):\n",
    "        '''\n",
    "         op.backward(s=None)\n",
    "         \n",
    "         Computes the derivative of the Mul operation with respect to its arguments,\n",
    "         and applies that (using chain rule) to s, the input derivative.\n",
    "         It then delivers the resulting derivatives to its arguments.\n",
    "         \n",
    "         Input:\n",
    "           s  2D NumPy array (not a Mat object)\n",
    "        '''\n",
    "        # See assignment question 2\n",
    "        self.args[0].backward(s@self.args[1].val.T)\n",
    "        self.args[1].backward(self.args[0].val.T@s)\n"
   ]
  },
  {
   "cell_type": "markdown",
   "metadata": {
    "Collapsed": "false"
   },
   "source": [
    "# `Layer` class and `Population` class"
   ]
  },
  {
   "cell_type": "code",
   "execution_count": null,
   "metadata": {},
   "outputs": [],
   "source": [
    "# Abstract base class for layers\n",
    "class Layer(object):\n",
    "    def __init__(self):\n",
    "        return\n",
    "\n",
    "    def __call__(self, x=None):\n",
    "        raise NotImplementedError"
   ]
  },
  {
   "cell_type": "code",
   "execution_count": null,
   "metadata": {},
   "outputs": [],
   "source": [
    "# Population layer represents a layer of nodes, and applies the\n",
    "# activation function. It also stores the input current (z) and\n",
    "# the node activations (h).\n",
    "class Population(Layer):\n",
    "    '''\n",
    "     lyr = Population(act=logistic)\n",
    "\n",
    "     Creates a layer of nodes, and applies the activation\n",
    "     to its input currents.\n",
    "\n",
    "     Inputs:\n",
    "       act  activation function\n",
    "            This function should take a Mat object as input\n",
    "            and output a Mat object.\n",
    "          \n",
    "     Usage:\n",
    "       lyr.z  # Mat object, stores node input currents\n",
    "       lyr.h  # Mat object, stores node activities\n",
    "       lyr()  # returns lyr.h\n",
    "       lyr(x) # applies activation function to x (Mat object)\n",
    "    '''\n",
    "    def __init__(self, act=logistic):\n",
    "        self.z = None  # Mat object\n",
    "        self.h = None  # Mat object\n",
    "        self.act = act\n",
    "        self.params = []\n",
    "\n",
    "    def __call__(self, x=None):\n",
    "        if x is not None:\n",
    "            self.h = self.act(x)\n",
    "        return self.h"
   ]
  },
  {
   "cell_type": "code",
   "execution_count": null,
   "metadata": {},
   "outputs": [],
   "source": [
    "class DenseLayer(Layer):\n",
    "    '''\n",
    "     lyr = DenseLayer(from_nodes=1, to_nodes=1, act=logistic)\n",
    "\n",
    "     The DenseLayer class puts the connection weights and\n",
    "     activation function together into a single class.\n",
    "     This compound layer is composed of:\n",
    "       L1: a Connection object, followed by\n",
    "       L2: a Population object.\n",
    "\n",
    "     Inputs:\n",
    "       from_nodes  number of nodes in sending layer\n",
    "       to_nodes    number of nodes in receiving layer\n",
    "       act         activation function\n",
    "                   This function should take a Mat object as input\n",
    "                   and output a Mat object.\n",
    "\n",
    "     Usage:\n",
    "       lyr.L1  # Connection layer object\n",
    "       lyr.L2  # Population layer object\n",
    "       h1 = lyr(h0) # returns activity of receiving layer, after\n",
    "       h = lyr()  # returns the activities stored in lyr.L2\n",
    "    '''\n",
    "    def __init__(self, from_nodes=1, to_nodes=1, act=logistic):\n",
    "        self.L1 = Connection(from_nodes=from_nodes, to_nodes=to_nodes)\n",
    "        self.L2 = Population(act=act)\n",
    "        self.params = self.L1.params\n",
    "\n",
    "    def __call__(self, x=None):\n",
    "        if x is None:\n",
    "            return self.L2.h\n",
    "        else:\n",
    "            return self.L2(self.L1(x))"
   ]
  },
  {
   "cell_type": "markdown",
   "metadata": {},
   "source": [
    "# (b) `Connection` class (action required)"
   ]
  },
  {
   "cell_type": "code",
   "execution_count": null,
   "metadata": {},
   "outputs": [],
   "source": [
    "# Connection class\n",
    "class Connection(Layer):\n",
    "    '''\n",
    "     lyr = Connection(from_nodes=1, to_nodes=1)\n",
    "\n",
    "     Creates a layer of all-to-all connections.\n",
    "\n",
    "     Inputs:\n",
    "       from_nodes  number of nodes in source layer\n",
    "       to_nodes    number of nodes in receiving layer\n",
    "      \n",
    "     Usage:\n",
    "       lyr.W   # holds the connection weights (Mat object)\n",
    "       lyr.b   # holds the biases (Mat object)\n",
    "       lyr.params  # a list of parameters, [W,b]\n",
    "       z = lyr(h)  # projects activities h (Mat) through the\n",
    "                   # connection to get input currents z (Mat)\n",
    "                   # ie. z = h @ W\n",
    "    '''\n",
    "    def __init__(self, from_nodes=1, to_nodes=1):\n",
    "        super().__init__()\n",
    "        self.Nin = from_nodes    # number of nodes in input (lower) layer\n",
    "        self.Nout = to_nodes     # number of nodes in higher layer\n",
    "\n",
    "        self.W = Mat( np.random.randn(self.Nin, self.Nout) / np.sqrt(self.Nin) )\n",
    "        self.b = Mat( np.zeros(self.Nout) )\n",
    "        self.params = [self.W, self.b]\n",
    "\n",
    "    def __call__(self, x):\n",
    "        if x is None:\n",
    "            print('Should not call Connection without arguments.')\n",
    "            return\n",
    "        \n",
    "        P = len(x)\n",
    "        return mul(x, self.W) + mul(Mat(np.ones((P,1))), self.b)\n"
   ]
  },
  {
   "cell_type": "markdown",
   "metadata": {},
   "source": [
    "# (c) `Network` class (action required)"
   ]
  },
  {
   "cell_type": "code",
   "execution_count": null,
   "metadata": {},
   "outputs": [],
   "source": [
    "class Network(object):\n",
    "    '''\n",
    "     net = Network()\n",
    "\n",
    "     Creates a Network object, which represents a series of\n",
    "     layers, and a cost (loss) function.\n",
    "\n",
    "     Usage:\n",
    "       net.lyr  # returns a list of Layer objects\n",
    "       net.add_layer(L)  # appends the Layer L to the network\n",
    "       y = net(x)  # feeds inputs x through the network\n",
    "                   # x is a 2D numpy array or a Mat object\n",
    "                   # returns y (Mat object)\n",
    "       net.loss    # loss function (MatOperation object)\n",
    "    '''\n",
    "    def __init__(self):\n",
    "        self.lyr = []\n",
    "        self.loss = None\n",
    "\n",
    "    def add_layer(self, L):\n",
    "        self.lyr.append(L)\n",
    "\n",
    "    def __call__(self, x):\n",
    "        if type(x) not in (Mat, ):\n",
    "            x = Mat(x)\n",
    "        for l in self.lyr:\n",
    "            x = l(x)\n",
    "        return x\n",
    "\n",
    "    def parameters(self):\n",
    "        '''\n",
    "         params = net.parameters()\n",
    "         \n",
    "         Returns a list of Mat objects of the connection weights and\n",
    "         biases in the network (from bottom to top).\n",
    "         Note that only Connection layers have these parameters.\n",
    "        '''\n",
    "        params = []\n",
    "        for l in self.lyr:\n",
    "            if l.params:  # skips empty lists\n",
    "                params.append(l.params[0])\n",
    "                params.append(l.params[1])\n",
    "        return params\n",
    "    \n",
    "    def learn(self, ds, lrate=1., epochs=10):\n",
    "        '''\n",
    "         net.learn(ds, lrate=1., epochs=10)\n",
    "\n",
    "         Runs backprop on the network, training on the data from\n",
    "         the Dataset object ds.\n",
    "\n",
    "         Inputs:\n",
    "           ds       a Dataset object\n",
    "           lrate    learning rate\n",
    "           epochs   number of epochs to run\n",
    "        '''\n",
    "        x = ds.inputs()\n",
    "        t = ds.targets()\n",
    "        for epoch in range(epochs):\n",
    "            y = self(x)\n",
    "            cost = self.backprop(t, lrate=lrate)\n",
    "\n",
    "            if epoch%50==0:\n",
    "                # Report progress\n",
    "                print(f'{epoch}: cost = {cost()[0,0]}')\n",
    "\n",
    "    def backprop(self, t, lrate=1.):\n",
    "        '''\n",
    "         loss = net.backprop(t, lrate=1.)\n",
    "\n",
    "         Backpropagates the loss function error gradients and\n",
    "         updates the connection weights and biases.\n",
    "\n",
    "         NOTE: This method assumes that the network state has been\n",
    "\n",
    "         Inputs:\n",
    "           t      batch of targets, one per row\n",
    "           lrate  learning rate\n",
    "\n",
    "         Output:\n",
    "           loss   the cost for the batch\n",
    "        '''\n",
    "        \n",
    "        y = self.lyr[-1]()      # network output\n",
    "        loss = self.loss(y,t)   # evaluate loss\n",
    "        loss.zero_grad()        # reset gradients to zero\n",
    "        loss.backward()         # backpropagate gradients\n",
    "        for p in self.parameters():\n",
    "            p.val = p.val - lrate*p.grad  # gradient descent setp\n",
    "        return loss\n"
   ]
  },
  {
   "cell_type": "markdown",
   "metadata": {},
   "source": [
    "# Create a network"
   ]
  },
  {
   "cell_type": "code",
   "execution_count": null,
   "metadata": {
    "Collapsed": "false"
   },
   "outputs": [],
   "source": [
    "# Create a network object\n",
    "# 2 input nodes -> 10 hidden nodes -> 3 output nodes\n",
    "net = Network()\n",
    "input_pop = Population(act=identity)\n",
    "dl1 = DenseLayer(from_nodes=2, to_nodes=10, act=logistic)\n",
    "dl2 = DenseLayer(from_nodes=10, to_nodes=3, act=logistic)\n",
    "net.add_layer(input_pop)\n",
    "net.add_layer(dl1)\n",
    "net.add_layer(dl2)\n",
    "# Loss function\n",
    "net.loss = mean_ce\n",
    "lrate = 1."
   ]
  },
  {
   "cell_type": "markdown",
   "metadata": {},
   "source": [
    "# Train and test the network\n",
    "Your edited code should work on these lines"
   ]
  },
  {
   "cell_type": "code",
   "execution_count": null,
   "metadata": {
    "Collapsed": "false"
   },
   "outputs": [],
   "source": [
    "# you might have to run this a few times\n",
    "net.learn(ds, lrate=lrate, epochs=500)"
   ]
  },
  {
   "cell_type": "code",
   "execution_count": null,
   "metadata": {
    "Collapsed": "false"
   },
   "outputs": [],
   "source": [
    "y = net.lyr[-1]().val\n",
    "print(y[:6,:])"
   ]
  },
  {
   "cell_type": "code",
   "execution_count": null,
   "metadata": {
    "Collapsed": "false"
   },
   "outputs": [],
   "source": [
    "ds.targets()[:6,:]"
   ]
  },
  {
   "cell_type": "code",
   "execution_count": null,
   "metadata": {},
   "outputs": [],
   "source": [
    "ds.plot(labels=y);"
   ]
  },
  {
   "cell_type": "markdown",
   "metadata": {},
   "source": [
    "## You can also try your code on the `UClasses` dataset"
   ]
  },
  {
   "cell_type": "code",
   "execution_count": null,
   "metadata": {
    "scrolled": true
   },
   "outputs": [],
   "source": [
    "ds = UClasses(n=1000)\n",
    "print(f'Inputs are {ds.input_dim}D')\n",
    "print(f'Targets are one-hot {ds.n_classes}-vectors')\n",
    "ds.plot();"
   ]
  },
  {
   "cell_type": "code",
   "execution_count": null,
   "metadata": {
    "Collapsed": "false"
   },
   "outputs": [],
   "source": [
    "# Create a network object\n",
    "# 2 input nodes -> 10 hidden nodes -> 3 output nodes\n",
    "net = Network()\n",
    "input_pop = Population(act=identity)\n",
    "dl1 = DenseLayer(from_nodes=2, to_nodes=20, act=logistic)\n",
    "dl1b = DenseLayer(from_nodes=20, to_nodes=10, act=logistic)\n",
    "dl2 = DenseLayer(from_nodes=10, to_nodes=2, act=softmax)\n",
    "net.add_layer(input_pop)\n",
    "net.add_layer(dl1)\n",
    "net.add_layer(dl1b)\n",
    "net.add_layer(dl2)\n",
    "# Loss function\n",
    "net.loss = categorical_ce\n",
    "lrate = 1.\n"
   ]
  },
  {
   "cell_type": "code",
   "execution_count": null,
   "metadata": {
    "Collapsed": "false"
   },
   "outputs": [],
   "source": [
    "# You might need to run this a couple times\n",
    "net.learn(ds, lrate=1., epochs=3000)\n",
    "ds.plot(labels=net(ds.inputs())())\n"
   ]
  },
  {
   "cell_type": "code",
   "execution_count": null,
   "metadata": {},
   "outputs": [],
   "source": []
  }
 ],
 "metadata": {
  "kernelspec": {
   "display_name": "Python 3",
   "language": "python",
   "name": "python3"
  },
  "language_info": {
   "codemirror_mode": {
    "name": "ipython",
    "version": 3
   },
   "file_extension": ".py",
   "mimetype": "text/x-python",
   "name": "python",
   "nbconvert_exporter": "python",
   "pygments_lexer": "ipython3",
   "version": "3.8.3"
  }
 },
 "nbformat": 4,
 "nbformat_minor": 4
}
