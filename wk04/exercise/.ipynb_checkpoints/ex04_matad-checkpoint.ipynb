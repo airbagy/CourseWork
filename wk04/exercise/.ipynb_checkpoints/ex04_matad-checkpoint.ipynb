{
 "cells": [
  {
   "cell_type": "markdown",
   "metadata": {
    "Collapsed": "false"
   },
   "source": [
    "# Optimization using Auto-Differentiation"
   ]
  },
  {
   "cell_type": "markdown",
   "metadata": {
    "Collapsed": "false"
   },
   "source": [
    "Purpose: To familiarize yourself with the `Mat` and `MatOperation` classes, which implement matrices and mathematical operations on them."
   ]
  },
  {
   "cell_type": "code",
   "execution_count": 1,
   "metadata": {
    "Collapsed": "false"
   },
   "outputs": [],
   "source": [
    "import numpy as np\n",
    "from matad import *"
   ]
  },
  {
   "cell_type": "markdown",
   "metadata": {
    "heading_collapsed": true
   },
   "source": [
    "## Using `Mat` and `MatOperation` objects"
   ]
  },
  {
   "cell_type": "code",
   "execution_count": 2,
   "metadata": {
    "hidden": true
   },
   "outputs": [],
   "source": [
    "# Create a couple Mat objects to play with.\n",
    "x = Mat(np.array([[1,2,3],[4,5,6]], dtype=float))\n",
    "a = Mat(np.array([[-1,2,-1],[2,-2,4]], dtype=float))"
   ]
  },
  {
   "cell_type": "markdown",
   "metadata": {
    "hidden": true
   },
   "source": [
    "Perform a `MatOperation`. In this case, `x + z` actually computes `matad.plus(x, a)`."
   ]
  },
  {
   "cell_type": "code",
   "execution_count": 3,
   "metadata": {
    "hidden": true
   },
   "outputs": [
    {
     "name": "stdout",
     "output_type": "stream",
     "text": [
      "[[ 0.  4.  2.]\n",
      " [ 6.  3. 10.]]\n",
      "[[ 0.  4.  2.]\n",
      " [ 6.  3. 10.]]\n"
     ]
    }
   ],
   "source": [
    "# Perform an operation.\n",
    "z = x + a\n",
    "print(z)\n",
    "print(z())"
   ]
  },
  {
   "cell_type": "code",
   "execution_count": 4,
   "metadata": {
    "hidden": true
   },
   "outputs": [
    {
     "data": {
      "text/plain": [
       "<matad.Plus at 0x7f368401f358>"
      ]
     },
     "execution_count": 4,
     "metadata": {},
     "output_type": "execute_result"
    }
   ],
   "source": [
    "# You can see where z came from.\n",
    "z.creator"
   ]
  },
  {
   "cell_type": "code",
   "execution_count": 5,
   "metadata": {
    "hidden": true
   },
   "outputs": [
    {
     "data": {
      "text/plain": [
       "[[1. 2. 3.]\n",
       " [4. 5. 6.]]"
      ]
     },
     "execution_count": 5,
     "metadata": {},
     "output_type": "execute_result"
    }
   ],
   "source": [
    "# And you can even reach further down the expression graph.\n",
    "z.creator.args[0]   # returns the first arg of the operation that created f"
   ]
  },
  {
   "cell_type": "markdown",
   "metadata": {
    "hidden": true
   },
   "source": [
    "Now for something nonlinear!"
   ]
  },
  {
   "cell_type": "code",
   "execution_count": 6,
   "metadata": {
    "hidden": true
   },
   "outputs": [
    {
     "name": "stdout",
     "output_type": "stream",
     "text": [
      "[[0.5        0.98201379 0.88079708]\n",
      " [0.99752738 0.95257413 0.9999546 ]]\n"
     ]
    }
   ],
   "source": [
    "y = logistic(z)\n",
    "print(y)"
   ]
  },
  {
   "cell_type": "markdown",
   "metadata": {
    "hidden": true
   },
   "source": [
    "A scalar function caps the top of the expression graph."
   ]
  },
  {
   "cell_type": "code",
   "execution_count": 7,
   "metadata": {
    "hidden": true
   },
   "outputs": [
    {
     "name": "stdout",
     "output_type": "stream",
     "text": [
      "[[5.31286697]]\n",
      "5.312866973812887\n"
     ]
    }
   ],
   "source": [
    "l = sum(y)\n",
    "print(l)\n",
    "print(l.val[0,0])"
   ]
  },
  {
   "cell_type": "markdown",
   "metadata": {
    "heading_collapsed": true
   },
   "source": [
    "## Automatic Differentiation"
   ]
  },
  {
   "cell_type": "code",
   "execution_count": 8,
   "metadata": {
    "hidden": true
   },
   "outputs": [
    {
     "name": "stdout",
     "output_type": "stream",
     "text": [
      "y.grad\n",
      " [[1. 1. 1.]\n",
      " [1. 1. 1.]]\n",
      "z.grad\n",
      " [[2.50000000e-01 1.76627062e-02 1.04993585e-01]\n",
      " [2.46650929e-03 4.51766597e-02 4.53958077e-05]]\n",
      "a.grad\n",
      " [[2.50000000e-01 1.76627062e-02 1.04993585e-01]\n",
      " [2.46650929e-03 4.51766597e-02 4.53958077e-05]]\n"
     ]
    }
   ],
   "source": [
    "l.zero_grad()  # reset grads to zero\n",
    "l.backward()   # propagate derivatives down through graph\n",
    "print(f'y.grad\\n {y.grad}')  # dldy\n",
    "print(f'z.grad\\n {z.grad}')  # dldz\n",
    "print(f'a.grad\\n {a.grad}')  # dlda"
   ]
  },
  {
   "cell_type": "code",
   "execution_count": null,
   "metadata": {
    "hidden": true
   },
   "outputs": [],
   "source": []
  }
 ],
 "metadata": {
  "kernelspec": {
   "display_name": "Python 3",
   "language": "python",
   "name": "python3"
  },
  "language_info": {
   "codemirror_mode": {
    "name": "ipython",
    "version": 3
   },
   "file_extension": ".py",
   "mimetype": "text/x-python",
   "name": "python",
   "nbconvert_exporter": "python",
   "pygments_lexer": "ipython3",
   "version": "3.6.9"
  }
 },
 "nbformat": 4,
 "nbformat_minor": 4
}
