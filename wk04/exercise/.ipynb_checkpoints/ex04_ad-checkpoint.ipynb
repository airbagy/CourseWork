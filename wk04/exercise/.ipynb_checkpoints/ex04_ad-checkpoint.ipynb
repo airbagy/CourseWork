{
 "cells": [
  {
   "cell_type": "markdown",
   "metadata": {
    "Collapsed": "false"
   },
   "source": [
    "# Optimization using Auto-Differentiation"
   ]
  },
  {
   "cell_type": "markdown",
   "metadata": {
    "Collapsed": "false"
   },
   "source": [
    "Purpose: To familiarize yourself with the `ad` code, and use it in a simple gradient-based optimization task."
   ]
  },
  {
   "cell_type": "code",
   "execution_count": null,
   "metadata": {
    "Collapsed": "false"
   },
   "outputs": [],
   "source": [
    "import numpy as np\n",
    "from ad import *\n",
    "import matplotlib.pyplot as plt\n",
    "%load_ext autoreload\n",
    "%autoreload 2"
   ]
  },
  {
   "cell_type": "markdown",
   "metadata": {
    "heading_collapsed": true
   },
   "source": [
    "## Using `Var` and `Operation` objects"
   ]
  },
  {
   "cell_type": "code",
   "execution_count": null,
   "metadata": {
    "hidden": true
   },
   "outputs": [],
   "source": [
    "X = Var(2.)\n",
    "A = Var(3.)\n",
    "F = X**2 * A\n",
    "print(F)\n",
    "print(F())"
   ]
  },
  {
   "cell_type": "code",
   "execution_count": null,
   "metadata": {
    "hidden": true
   },
   "outputs": [],
   "source": [
    "F.zero_grad()  # reset grads to zero\n",
    "F.backward()   # propagate derivatives down through graph\n",
    "print(A.grad)  # dFdA\n",
    "print(X.grad)  # dFdX"
   ]
  },
  {
   "cell_type": "markdown",
   "metadata": {
    "hidden": true
   },
   "source": [
    "<div class=\"alert alert-block alert-info\">\n",
    "    You can even implement your own function (and its derivative) using the template below.\n",
    "</div>"
   ]
  },
  {
   "cell_type": "code",
   "execution_count": null,
   "metadata": {
    "hidden": true
   },
   "outputs": [],
   "source": [
    "def your_function(a):\n",
    "    '''\n",
    "     y = a.your_function()\n",
    "     a is a Var\n",
    "     y is a Var such that y.val = your_function(a.val)\n",
    "    '''\n",
    "    c = YourFunction([a])()\n",
    "    return c\n",
    "\n",
    "class YourFunction(Operation):\n",
    "    def __init__(self, args):\n",
    "        self.args = args  # store the list of inputs to the function\n",
    "\n",
    "    def __call__(self):\n",
    "        # The arguments to the function were saved in self.args.\n",
    "        # The line below is where you implement your function using NumPy.\n",
    "        val = self.args[0].val  # <=================\n",
    "        y = Var(val)       # Create a corresponding Var object\n",
    "        y.creator = self   # Hook to the operation that create it\n",
    "        return y\n",
    "\n",
    "    def __repr__(self):\n",
    "        return 'your_function('+self.args[0].__repr__()+')'\n",
    "\n",
    "    def backward(self, s=1.):\n",
    "        # Implement the derivative (using NumPy), and call\n",
    "        # backward on the arguments.\n",
    "        deriv = np.zeros_like(self.args[0].val) # <=========\n",
    "        self.args[0].backward(s*deriv)\n"
   ]
  },
  {
   "cell_type": "code",
   "execution_count": null,
   "metadata": {
    "hidden": true
   },
   "outputs": [],
   "source": [
    "y = your_function(A)\n",
    "print(f'{y} =')\n",
    "print(y())"
   ]
  },
  {
   "cell_type": "markdown",
   "metadata": {
    "Collapsed": "false",
    "heading_collapsed": true
   },
   "source": [
    "## Optimize a function"
   ]
  },
  {
   "cell_type": "markdown",
   "metadata": {
    "heading_collapsed": true,
    "hidden": true
   },
   "source": [
    "### Build the expression\n",
    "Let's encode the mathematical expression,\n",
    "$$\n",
    "F = 8x^4 + 4x^3 -28 x^2 - 24\n",
    "$$\n",
    "and then find its minimum."
   ]
  },
  {
   "cell_type": "code",
   "execution_count": null,
   "metadata": {
    "Collapsed": "false",
    "hidden": true
   },
   "outputs": [],
   "source": [
    "# x\n",
    "X = Var(0.0)\n",
    "\n",
    "# Coefficients\n",
    "A = Var(8.0)\n",
    "B = Var(4.0)\n",
    "C = Var(-28.0)\n",
    "D = Var(-24.0)"
   ]
  },
  {
   "cell_type": "code",
   "execution_count": null,
   "metadata": {
    "Collapsed": "false",
    "hidden": true
   },
   "outputs": [],
   "source": [
    "# Build the formula using the functions from the `ad` module\n",
    "term1 = A * X**4\n",
    "term2 = B * X**3\n",
    "term3 = C * X**2\n",
    "term4 = D * X\n",
    "F = term1 + term2 + term3 + term4"
   ]
  },
  {
   "cell_type": "code",
   "execution_count": null,
   "metadata": {
    "Collapsed": "false",
    "hidden": true
   },
   "outputs": [],
   "source": [
    "# Or you can build it all at once using one of these\n",
    "#F = A * X**4 + B * X**3 + C * X**2 + D * X\n",
    "#F = Var(8.)*X**4 + Var(4)*X**3 + Var(-28.)*X**2 + Var(-24)*X"
   ]
  },
  {
   "cell_type": "code",
   "execution_count": null,
   "metadata": {
    "Collapsed": "false",
    "hidden": true
   },
   "outputs": [],
   "source": [
    "# Display the expression\n",
    "F"
   ]
  },
  {
   "cell_type": "markdown",
   "metadata": {
    "hidden": true
   },
   "source": [
    "<div class=\"alert alert-block alert-info\">\n",
    "    Try using the AD code on your own expression.\n",
    "</div>"
   ]
  },
  {
   "cell_type": "code",
   "execution_count": null,
   "metadata": {
    "hidden": true
   },
   "outputs": [],
   "source": []
  },
  {
   "cell_type": "markdown",
   "metadata": {
    "Collapsed": "false",
    "heading_collapsed": true,
    "hidden": true
   },
   "source": [
    "### Evaluate the expression"
   ]
  },
  {
   "cell_type": "code",
   "execution_count": null,
   "metadata": {
    "Collapsed": "false",
    "hidden": true
   },
   "outputs": [],
   "source": [
    "F.val  # for the given X-value as it was set up"
   ]
  },
  {
   "cell_type": "code",
   "execution_count": null,
   "metadata": {
    "Collapsed": "false",
    "hidden": true
   },
   "outputs": [],
   "source": [
    "# Can also use functional notation\n",
    "F()"
   ]
  },
  {
   "cell_type": "code",
   "execution_count": null,
   "metadata": {
    "Collapsed": "false",
    "hidden": true
   },
   "outputs": [],
   "source": [
    "# Let's choose a different x-value\n",
    "X.set(1.)\n",
    "F.evaluate()  # Causes recomputation of the whole graph"
   ]
  },
  {
   "cell_type": "code",
   "execution_count": null,
   "metadata": {
    "Collapsed": "false",
    "hidden": true
   },
   "outputs": [],
   "source": [
    "F"
   ]
  },
  {
   "cell_type": "markdown",
   "metadata": {
    "Collapsed": "false",
    "heading_collapsed": true,
    "hidden": true
   },
   "source": [
    "### Gradients"
   ]
  },
  {
   "cell_type": "code",
   "execution_count": null,
   "metadata": {
    "Collapsed": "false",
    "hidden": true
   },
   "outputs": [],
   "source": [
    "F.zero_grad()   # sets all gradients to zero (duh)\n",
    "F.backward()   # projects the derivatives down through the graph\n",
    "X.grad"
   ]
  },
  {
   "cell_type": "code",
   "execution_count": null,
   "metadata": {
    "Collapsed": "false",
    "hidden": true
   },
   "outputs": [],
   "source": [
    "X.set(-2)\n",
    "F.evaluate()\n",
    "F.zero_grad()\n",
    "F.backward()\n",
    "print(X.grad)"
   ]
  },
  {
   "cell_type": "markdown",
   "metadata": {
    "Collapsed": "false",
    "heading_collapsed": true,
    "hidden": true
   },
   "source": [
    "### Gradient-Descent Optimization"
   ]
  },
  {
   "cell_type": "code",
   "execution_count": null,
   "metadata": {
    "Collapsed": "false",
    "hidden": true
   },
   "outputs": [],
   "source": [
    "# *** YOU MIGHT HAVE TO ADJUST THESE 3 PARAMETERS ***\n",
    "x = 0.4     # initial guess at root\n",
    "kappa = 0.005  # gradient step multiplier\n",
    "n_iters = 20  # number of gradient-descent steps\n",
    "\n",
    "# for plotting\n",
    "xh = []\n",
    "fh = []\n",
    "\n",
    "for n in range(n_iters):\n",
    "    X.set(x)\n",
    "    F.evaluate()\n",
    "\n",
    "    # Record values for plotting\n",
    "    xh.append(X())\n",
    "    fh.append(F())\n",
    "\n",
    "    # Compute gradients\n",
    "    F.zero_grad()\n",
    "    F.backward()\n",
    "    \n",
    "    # Gradient step\n",
    "    x -= kappa*X.grad\n",
    "    \n",
    "    print(X(), F())"
   ]
  },
  {
   "cell_type": "code",
   "execution_count": null,
   "metadata": {
    "Collapsed": "false",
    "hidden": true
   },
   "outputs": [],
   "source": [
    "xx = np.linspace(-2,2,100)  # Choose a bunch of x values\n",
    "yy = []\n",
    "# Evaluate expression for each x value\n",
    "for x in xx:\n",
    "    X.set(x)\n",
    "    F.evaluate()\n",
    "    yy.append(F())\n",
    "# Plot the graph, and the optimization iterates\n",
    "plt.plot(xx,yy);\n",
    "plt.plot(xh, fh, 'r.');"
   ]
  },
  {
   "cell_type": "code",
   "execution_count": null,
   "metadata": {
    "hidden": true
   },
   "outputs": [],
   "source": []
  }
 ],
 "metadata": {
  "kernelspec": {
   "display_name": "Python 3",
   "language": "python",
   "name": "python3"
  },
  "language_info": {
   "codemirror_mode": {
    "name": "ipython",
    "version": 3
   },
   "file_extension": ".py",
   "mimetype": "text/x-python",
   "name": "python",
   "nbconvert_exporter": "python",
   "pygments_lexer": "ipython3",
   "version": "3.6.9"
  }
 },
 "nbformat": 4,
 "nbformat_minor": 4
}
