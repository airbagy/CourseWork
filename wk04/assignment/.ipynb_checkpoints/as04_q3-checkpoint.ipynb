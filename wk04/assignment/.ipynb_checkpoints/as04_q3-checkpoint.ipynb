{
 "cells": [
  {
   "cell_type": "markdown",
   "metadata": {
    "Collapsed": "false"
   },
   "source": [
    "# Question 3: Backprop using Auto-differentiation\n",
    "Purpose: To derive a version of my Network module that uses AD."
   ]
  },
  {
   "cell_type": "code",
   "execution_count": 1,
   "metadata": {
    "Collapsed": "false"
   },
   "outputs": [],
   "source": [
    "import numpy as np\n",
    "from utils import *\n",
    "from matad import *\n",
    "from copy import deepcopy\n",
    "import matplotlib.pyplot as plt"
   ]
  },
  {
   "cell_type": "markdown",
   "metadata": {
    "Collapsed": "true"
   },
   "source": [
    "# Dataset"
   ]
  },
  {
   "cell_type": "code",
   "execution_count": 2,
   "metadata": {
    "Collapsed": "false"
   },
   "outputs": [],
   "source": [
    "# DiscreteMapping dataset\n",
    "n_classes = 3\n",
    "in_dim = 2\n",
    "\n",
    "np.random.seed(9201)\n",
    "B = np.eye(n_classes)\n",
    "A = 4.*np.random.rand(n_classes, in_dim)\n",
    "\n",
    "ds = DiscreteMapping(A, B, n=300, noise=0.2)"
   ]
  },
  {
   "cell_type": "code",
   "execution_count": 3,
   "metadata": {
    "Collapsed": "false",
    "scrolled": true
   },
   "outputs": [
    {
     "data": {
      "image/png": "[encoded data removed]",
      "text/plain": [
       "<Figure size 432x288 with 1 Axes>"
      ]
     },
     "metadata": {
      "needs_background": "light"
     },
     "output_type": "display_data"
    }
   ],
   "source": [
    "ds.plot()"
   ]
  },
  {
   "cell_type": "markdown",
   "metadata": {},
   "source": [
    "# (a) `Mul` class and its wrapper `mul` (action required)"
   ]
  },
  {
   "cell_type": "code",
   "execution_count": 4,
   "metadata": {},
   "outputs": [],
   "source": [
    "# The function \"mul\" is a wrapper for using the MatOperation class Mul.\n",
    "def mul(a, b):\n",
    "    '''\n",
    "     v = mul(a, b)\n",
    "\n",
    "     Matrix multiplication between two Mat objects.\n",
    "     \n",
    "     Inputs:\n",
    "       a   Mat object, DxM\n",
    "       b   Mat object, MxN\n",
    "       \n",
    "     Output:\n",
    "       v   Mat object, DxN\n",
    "       \n",
    "     Note:\n",
    "       v.creator points to the correspdoning Mul object\n",
    "           of the MatOperation class\n",
    "    '''\n",
    "    return Mul([a, b])()\n",
    "\n",
    "class Mul(MatOperation):\n",
    "    def __init__(self, args):\n",
    "        '''\n",
    "         op = Mul(args)\n",
    "         \n",
    "         Creates a Mul object which implements matrix-matrix multiplication\n",
    "         and its derivative.\n",
    "         \n",
    "         Inputs:\n",
    "           args  list of two Mat objects\n",
    "           \n",
    "         Usage:\n",
    "           a = Mat(...)\n",
    "           b = Mat(...)\n",
    "           op = Mul([a,b])  # creates the operation object\n",
    "           v = op()         # evaluates the operation\n",
    "        '''\n",
    "        self.args = args\n",
    "\n",
    "    def __call__(self):\n",
    "        '''\n",
    "         v = op() where op is a Mul object\n",
    "         \n",
    "         Evaluates the multiplication.\n",
    "         The arguments (Mat objects) were specified at instatiation.\n",
    "         \n",
    "         Output:\n",
    "           v   Mat containing the product\n",
    "        '''\n",
    "        c = Mat(self.args[0].val @ self.args[1].val)\n",
    "        c.creator = self\n",
    "        return c\n",
    "\n",
    "    def backward(self, s=None):\n",
    "        '''\n",
    "         op.backward(s=None)\n",
    "         \n",
    "         Computes the derivative of the Mul operation with respect to its arguments,\n",
    "         and applies that (using chain rule) to s, the input derivative.\n",
    "         It then delivers the resulting derivatives to its arguments.\n",
    "         \n",
    "         Input:\n",
    "           s  2D NumPy array (not a Mat object)\n",
    "        '''\n",
    "        if s is not None:\n",
    "            self.args[0].backward(s @ self.args[1].val.T)\n",
    "            self.args[1].backward(self.args[0].val.T @ s)\n",
    "        else:\n",
    "            # When there is no gradient passing from above, uses matrix of ones with the same shape as output\n",
    "            placeholder_gradient = np.ones_like(self.args[0].val @ self.args[1].val)\n",
    "            self.args[0].backward(placeholder_gradient @ self.args[1].val.T)\n",
    "            self.args[1].backward(self.args[0].val.T @ placeholder_gradient)\n"
   ]
  },
  {
   "cell_type": "markdown",
   "metadata": {
    "Collapsed": "false"
   },
   "source": [
    "# `Layer` class and `Population` class"
   ]
  },
  {
   "cell_type": "code",
   "execution_count": 5,
   "metadata": {},
   "outputs": [],
   "source": [
    "# Abstract base class for layers\n",
    "class Layer(object):\n",
    "    def __init__(self):\n",
    "        return\n",
    "\n",
    "    def __call__(self, x=None):\n",
    "        raise NotImplementedError"
   ]
  },
  {
   "cell_type": "code",
   "execution_count": 6,
   "metadata": {},
   "outputs": [],
   "source": [
    "# Population layer represents a layer of nodes, and applies the\n",
    "# activation function. It also stores the input current (z) and\n",
    "# the node activations (h).\n",
    "class Population(Layer):\n",
    "    '''\n",
    "     lyr = Population(act=logistic)\n",
    "\n",
    "     Creates a layer of nodes, and applies the activation\n",
    "     to its input currents.\n",
    "\n",
    "     Inputs:\n",
    "       act  activation function\n",
    "            This function should take a Mat object as input\n",
    "            and output a Mat object.\n",
    "          \n",
    "     Usage:\n",
    "       lyr.z  # Mat object, stores node input currents\n",
    "       lyr.h  # Mat object, stores node activities\n",
    "       lyr()  # returns lyr.h\n",
    "       lyr(x) # applies activation function to x (Mat object)\n",
    "    '''\n",
    "    def __init__(self, act=logistic):\n",
    "        self.z = None  # Mat object\n",
    "        self.h = None  # Mat object\n",
    "        self.act = act\n",
    "        self.params = []\n",
    "\n",
    "    def __call__(self, x=None):\n",
    "        if x is not None:\n",
    "            self.h = self.act(x)\n",
    "        return self.h"
   ]
  },
  {
   "cell_type": "code",
   "execution_count": 7,
   "metadata": {},
   "outputs": [],
   "source": [
    "class DenseLayer(Layer):\n",
    "    '''\n",
    "     lyr = DenseLayer(from_nodes=1, to_nodes=1, act=logistic)\n",
    "\n",
    "     The DenseLayer class puts the connection weights and\n",
    "     activation function together into a single class.\n",
    "     This compound layer is composed of:\n",
    "       L1: a Connection object, followed by\n",
    "       L2: a Population object.\n",
    "\n",
    "     Inputs:\n",
    "       from_nodes  number of nodes in sending layer\n",
    "       to_nodes    number of nodes in receiving layer\n",
    "       act         activation function\n",
    "                   This function should take a Mat object as input\n",
    "                   and output a Mat object.\n",
    "\n",
    "     Usage:\n",
    "       lyr.L1  # Connection layer object\n",
    "       lyr.L2  # Population layer object\n",
    "       h1 = lyr(h0) # returns activity of receiving layer, after\n",
    "                    # passing h0 through L1 and then L2.\n",
    "       h = lyr()  # returns the activities stored in lyr.L2\n",
    "    '''\n",
    "    def __init__(self, from_nodes=1, to_nodes=1, act=logistic):\n",
    "        self.L1 = Connection(from_nodes=from_nodes, to_nodes=to_nodes)\n",
    "        self.L2 = Population(act=act)\n",
    "        self.params = self.L1.params\n",
    "\n",
    "    def __call__(self, x=None):\n",
    "        if x is None:\n",
    "            return self.L2.h\n",
    "        else:\n",
    "            return self.L2(self.L1(x))"
   ]
  },
  {
   "cell_type": "markdown",
   "metadata": {},
   "source": [
    "# (b) `Connection` class (action required)"
   ]
  },
  {
   "cell_type": "code",
   "execution_count": 8,
   "metadata": {},
   "outputs": [],
   "source": [
    "# Connection class\n",
    "class Connection(Layer):\n",
    "    '''\n",
    "     lyr = Connection(from_nodes=1, to_nodes=1)\n",
    "\n",
    "     Creates a layer of all-to-all connections.\n",
    "\n",
    "     Inputs:\n",
    "       from_nodes  number of nodes in source layer\n",
    "       to_nodes    number of nodes in receiving layer\n",
    "      \n",
    "     Usage:\n",
    "       lyr.W   # holds the connection weights (Mat object)\n",
    "       lyr.b   # holds the biases (Mat object)\n",
    "       lyr.params  # a list of parameters, [W,b]\n",
    "       z = lyr(h)  # projects activities h (Mat) through the\n",
    "                   # connection to get input currents z (Mat)\n",
    "                   # ie. z = h @ W\n",
    "    '''\n",
    "    def __init__(self, from_nodes=1, to_nodes=1):\n",
    "        super().__init__()\n",
    "        self.Nin = from_nodes    # number of nodes in input (lower) layer\n",
    "        self.Nout = to_nodes     # number of nodes in higher layer\n",
    "\n",
    "        self.W = Mat( np.random.randn(self.Nin, self.Nout) / np.sqrt(self.Nin) )\n",
    "        self.b = Mat( np.zeros(self.Nout) )\n",
    "        self.params = [self.W, self.b]\n",
    "\n",
    "    def __call__(self, x):\n",
    "        if x is None:\n",
    "            print('Should not call Connection without arguments.')\n",
    "            return\n",
    "        return mul(x, self.W) + mul(Mat(np.ones((len(x) ,1))), self.b)\n"
   ]
  },
  {
   "cell_type": "markdown",
   "metadata": {},
   "source": [
    "# (c) `Network` class (action required)"
   ]
  },
  {
   "cell_type": "code",
   "execution_count": 9,
   "metadata": {},
   "outputs": [],
   "source": [
    "class Network(object):\n",
    "    '''\n",
    "     net = Network()\n",
    "\n",
    "     Creates a Network object, which represents a series of\n",
    "     layers, and a cost (loss) function.\n",
    "\n",
    "     Usage:\n",
    "       net.lyr  # returns a list of Layer objects\n",
    "       net.add_layer(L)  # appends the Layer L to the network\n",
    "       y = net(x)  # feeds inputs x through the network\n",
    "                   # x is a 2D numpy array or a Mat object\n",
    "                   # returns y (Mat object)\n",
    "       net.loss    # loss function (MatOperation object)\n",
    "    '''\n",
    "    def __init__(self):\n",
    "        self.lyr = []\n",
    "        self.loss = None\n",
    "\n",
    "    def add_layer(self, L):\n",
    "        self.lyr.append(L)\n",
    "\n",
    "    def __call__(self, x):\n",
    "        if type(x) not in (Mat, ):\n",
    "            x = Mat(x)\n",
    "        for l in self.lyr:\n",
    "            x = l(x)\n",
    "        return x\n",
    "\n",
    "    def parameters(self):\n",
    "        '''\n",
    "         params = net.parameters()\n",
    "         \n",
    "         Returns a list of Mat objects of the connection weights and\n",
    "         biases in the network (from bottom to top).\n",
    "         Note that only Connection layers have these parameters.\n",
    "        '''\n",
    "        params = []\n",
    "        for l in self.lyr:\n",
    "            if l.params:  # skips empty lists\n",
    "                params.append(l.params[0])\n",
    "                params.append(l.params[1])\n",
    "        return params\n",
    "    \n",
    "    def learn(self, ds, lrate=1., epochs=10):\n",
    "        '''\n",
    "         net.learn(ds, lrate=1., epochs=10)\n",
    "\n",
    "         Runs backprop on the network, training on the data from\n",
    "         the Dataset object ds.\n",
    "\n",
    "         Inputs:\n",
    "           ds       a Dataset object\n",
    "           lrate    learning rate\n",
    "           epochs   number of epochs to run\n",
    "        '''\n",
    "        x = ds.inputs()\n",
    "        t = ds.targets()\n",
    "        for epoch in range(epochs):\n",
    "\n",
    "            y = self(x)             # forward pass\n",
    "            \n",
    "            # Compute loss\n",
    "            loss = self.loss(y, t)\n",
    "            \n",
    "            # Backprop\n",
    "            #  1. Set all gradients to 0\n",
    "            loss.zero_grad()\n",
    "            #  2. Calculate gradients using AD\n",
    "            loss.backward()\n",
    "            #  3. Update gradients for all weights and biases\n",
    "            params = self.parameters()\n",
    "            for param in params:\n",
    "                param.val = param.val - lrate * param.grad\n",
    "            \n",
    "            # Report progress\n",
    "            if epoch%50==0:\n",
    "                print(f'{epoch}: cost = {loss()[0,0]}')"
   ]
  },
  {
   "cell_type": "markdown",
   "metadata": {},
   "source": [
    "# Create a network"
   ]
  },
  {
   "cell_type": "code",
   "execution_count": 10,
   "metadata": {
    "Collapsed": "false"
   },
   "outputs": [],
   "source": [
    "# Create a network object\n",
    "# 2 input nodes -> 10 hidden nodes -> 3 output nodes\n",
    "net = Network()\n",
    "input_pop = Population(act=identity)\n",
    "dl1 = DenseLayer(from_nodes=2, to_nodes=10, act=logistic)\n",
    "dl2 = DenseLayer(from_nodes=10, to_nodes=3, act=logistic)\n",
    "net.add_layer(input_pop)\n",
    "net.add_layer(dl1)\n",
    "net.add_layer(dl2)\n",
    "# Loss function\n",
    "net.loss = mean_ce\n",
    "lrate = 1."
   ]
  },
  {
   "cell_type": "markdown",
   "metadata": {},
   "source": [
    "# Train and test the network\n",
    "Your edited code should work on these lines"
   ]
  },
  {
   "cell_type": "code",
   "execution_count": 11,
   "metadata": {
    "Collapsed": "false",
    "scrolled": true
   },
   "outputs": [
    {
     "name": "stdout",
     "output_type": "stream",
     "text": [
      "0: cost = 2.09402768668806\n",
      "50: cost = 0.607640642113957\n",
      "100: cost = 0.29225749388713174\n",
      "150: cost = 0.18816092644739327\n",
      "200: cost = 0.14575623537926174\n",
      "250: cost = 0.12438332188981092\n",
      "300: cost = 0.11203522848107376\n",
      "350: cost = 0.10423091536729769\n",
      "400: cost = 0.0989779222504104\n",
      "450: cost = 0.0952730362669484\n",
      "500: cost = 0.09256313904105745\n",
      "550: cost = 0.09052162990659805\n",
      "600: cost = 0.08894509723034769\n",
      "650: cost = 0.08770135441614058\n",
      "700: cost = 0.0867014842723764\n",
      "750: cost = 0.08588394927785002\n",
      "800: cost = 0.08520513773718505\n",
      "850: cost = 0.08463351749087519\n",
      "900: cost = 0.08414589843294498\n",
      "950: cost = 0.08372497288691609\n",
      "1000: cost = 0.08335765505977094\n",
      "1050: cost = 0.08303393451747298\n",
      "1100: cost = 0.08274606909081356\n",
      "1150: cost = 0.0824880074856006\n",
      "1200: cost = 0.0822549708528526\n",
      "1250: cost = 0.08204314647211401\n",
      "1300: cost = 0.08184946167672645\n",
      "1350: cost = 0.08167141580670062\n",
      "1400: cost = 0.0815069544195335\n",
      "1450: cost = 0.08135437443601119\n",
      "1500: cost = 0.08121225204276328\n",
      "1550: cost = 0.08107938742708277\n",
      "1600: cost = 0.08095476204193597\n",
      "1650: cost = 0.08083750526707469\n",
      "1700: cost = 0.08072686817246338\n",
      "1750: cost = 0.08062220269515881\n",
      "1800: cost = 0.08052294497740926\n",
      "1850: cost = 0.08042860193029291\n",
      "1900: cost = 0.08033874031806737\n",
      "1950: cost = 0.08025297782791598\n",
      "2000: cost = 0.08017097571517957\n",
      "2050: cost = 0.08009243270766145\n",
      "2100: cost = 0.08001707992286775\n",
      "2150: cost = 0.07994467660528749\n",
      "2200: cost = 0.07987500653148395\n",
      "2250: cost = 0.07980787496207725\n",
      "2300: cost = 0.07974310604399189\n",
      "2350: cost = 0.07968054058533691\n",
      "2400: cost = 0.07962003414023952\n",
      "2450: cost = 0.07956145535280575\n",
      "2500: cost = 0.07950468451882853\n",
      "2550: cost = 0.07944961233142875\n",
      "2600: cost = 0.07939613878289462\n",
      "2650: cost = 0.07934417219988597\n",
      "2700: cost = 0.079293628393123\n",
      "2750: cost = 0.07924442990587333\n",
      "2800: cost = 0.07919650534813358\n",
      "2850: cost = 0.07914978880548669\n",
      "2900: cost = 0.07910421931330935\n",
      "2950: cost = 0.07905974038837674\n",
      "3000: cost = 0.07901629961103329\n",
      "3050: cost = 0.07897384825201882\n",
      "3100: cost = 0.07893234093880755\n",
      "3150: cost = 0.07889173535695469\n",
      "3200: cost = 0.07885199198249389\n",
      "3250: cost = 0.07881307384189175\n",
      "3300: cost = 0.07877494629647594\n",
      "3350: cost = 0.0787375768486037\n",
      "3400: cost = 0.07870093496715314\n",
      "3450: cost = 0.07866499193019659\n",
      "3500: cost = 0.07862972068296019\n",
      "3550: cost = 0.07859509570939198\n",
      "3600: cost = 0.07856109291585732\n",
      "3650: cost = 0.07852768952564927\n",
      "3700: cost = 0.07849486398315643\n",
      "3750: cost = 0.07846259586666422\n",
      "3800: cost = 0.07843086580888425\n",
      "3850: cost = 0.07839965542441284\n",
      "3900: cost = 0.07836894724340841\n",
      "3950: cost = 0.07833872465086317\n",
      "4000: cost = 0.07830897183090978\n",
      "4050: cost = 0.07827967371567146\n",
      "4100: cost = 0.07825081593821544\n",
      "4150: cost = 0.07822238478921878\n",
      "4200: cost = 0.0781943671769987\n",
      "4250: cost = 0.07816675059059511\n",
      "4300: cost = 0.0781395230656278\n",
      "4350: cost = 0.078112673152679\n",
      "4400: cost = 0.07808618988797726\n",
      "4450: cost = 0.07806006276618138\n",
      "4500: cost = 0.07803428171508471\n",
      "4550: cost = 0.07800883707207622\n",
      "4600: cost = 0.07798371956221133\n",
      "4650: cost = 0.07795892027775977\n",
      "4700: cost = 0.07793443065911115\n",
      "4750: cost = 0.07791024247692793\n",
      "4800: cost = 0.0778863478154487\n",
      "4850: cost = 0.07786273905685073\n",
      "4900: cost = 0.07783940886659145\n",
      "4950: cost = 0.07781635017965378\n",
      "5000: cost = 0.07779355618762814\n",
      "5050: cost = 0.07777102032656917\n",
      "5100: cost = 0.07774873626557095\n",
      "5150: cost = 0.0777266978960088\n",
      "5200: cost = 0.07770489932140107\n",
      "5250: cost = 0.07768333484784626\n",
      "5300: cost = 0.07766199897499768\n",
      "5350: cost = 0.07764088638753706\n",
      "5400: cost = 0.0776199919471151\n",
      "5450: cost = 0.07759931068472713\n",
      "5500: cost = 0.07757883779349531\n",
      "5550: cost = 0.07755856862183208\n",
      "5600: cost = 0.07753849866695915\n",
      "5650: cost = 0.07751862356876056\n",
      "5700: cost = 0.07749893910394871\n",
      "5750: cost = 0.07747944118052404\n",
      "5800: cost = 0.07746012583251038\n",
      "5850: cost = 0.07744098921495018\n",
      "5900: cost = 0.07742202759914273\n",
      "5950: cost = 0.07740323736811268\n",
      "6000: cost = 0.0773846150122945\n",
      "6050: cost = 0.07736615712542097\n",
      "6100: cost = 0.07734786040060375\n",
      "6150: cost = 0.0773297216265956\n",
      "6200: cost = 0.0773117376842241\n",
      "6250: cost = 0.07729390554298725\n",
      "6300: cost = 0.07727622225780245\n",
      "6350: cost = 0.07725868496590041\n",
      "6400: cost = 0.07724129088385635\n",
      "6450: cost = 0.07722403730475139\n",
      "6500: cost = 0.07720692159545696\n",
      "6550: cost = 0.07718994119403656\n",
      "6600: cost = 0.07717309360725795\n",
      "6650: cost = 0.07715637640821127\n",
      "6700: cost = 0.07713978723402642\n",
      "6750: cost = 0.07712332378368664\n",
      "6800: cost = 0.07710698381593116\n",
      "6850: cost = 0.07709076514724512\n",
      "6900: cost = 0.07707466564993048\n",
      "6950: cost = 0.07705868325025488\n",
      "7000: cost = 0.07704281592667529\n",
      "7050: cost = 0.07702706170813192\n",
      "7100: cost = 0.07701141867240936\n",
      "7150: cost = 0.07699588494456258\n",
      "7200: cost = 0.07698045869540363\n",
      "7250: cost = 0.07696513814004728\n",
      "7300: cost = 0.0769499215365126\n",
      "7350: cost = 0.07693480718437735\n",
      "7400: cost = 0.07691979342348397\n",
      "7450: cost = 0.07690487863269384\n",
      "7500: cost = 0.0768900612286885\n",
      "7550: cost = 0.07687533966481536\n",
      "7600: cost = 0.07686071242997547\n",
      "7650: cost = 0.07684617804755298\n",
      "7700: cost = 0.07683173507438305\n",
      "7750: cost = 0.07681738209975712\n",
      "7800: cost = 0.07680311774446466\n",
      "7850: cost = 0.07678894065986813\n",
      "7900: cost = 0.07677484952701176\n",
      "7950: cost = 0.07676084305576189\n",
      "8000: cost = 0.07674691998397654\n",
      "8050: cost = 0.07673307907670503\n",
      "8100: cost = 0.0767193191254151\n",
      "8150: cost = 0.07670563894724634\n",
      "8200: cost = 0.07669203738429005\n",
      "8250: cost = 0.07667851330289285\n",
      "8300: cost = 0.07666506559298439\n",
      "8350: cost = 0.07665169316742793\n",
      "8400: cost = 0.0766383949613922\n",
      "8450: cost = 0.0766251699317447\n",
      "8500: cost = 0.076612017056465\n",
      "8550: cost = 0.07659893533407726\n",
      "8600: cost = 0.0765859237831017\n",
      "8650: cost = 0.07657298144152377\n",
      "8700: cost = 0.07656010736628041\n",
      "8750: cost = 0.07654730063276352\n",
      "8800: cost = 0.0765345603343387\n",
      "8850: cost = 0.0765218855818797\n",
      "8900: cost = 0.07650927550331772\n",
      "8950: cost = 0.07649672924320502\n",
      "9000: cost = 0.0764842459622918\n",
      "9050: cost = 0.07647182483711698\n",
      "9100: cost = 0.07645946505961125\n",
      "9150: cost = 0.07644716583671268\n",
      "9200: cost = 0.07643492638999388\n",
      "9250: cost = 0.07642274595530092\n",
      "9300: cost = 0.07641062378240315\n",
      "9350: cost = 0.07639855913465331\n",
      "9400: cost = 0.07638655128865877\n",
      "9450: cost = 0.0763745995339613\n",
      "9500: cost = 0.0763627031727276\n",
      "9550: cost = 0.07635086151944871\n",
      "9600: cost = 0.07633907390064767\n",
      "9650: cost = 0.07632733965459686\n",
      "9700: cost = 0.07631565813104237\n",
      "9750: cost = 0.07630402869093758\n",
      "9800: cost = 0.07629245070618372\n",
      "9850: cost = 0.07628092355937793\n",
      "9900: cost = 0.0762694466435688\n",
      "9950: cost = 0.07625801936201879\n"
     ]
    }
   ],
   "source": [
    "# you might have to run this a few times\n",
    "net.learn(ds, lrate=lrate, epochs=10000)"
   ]
  },
  {
   "cell_type": "code",
   "execution_count": 12,
   "metadata": {
    "Collapsed": "false"
   },
   "outputs": [
    {
     "name": "stdout",
     "output_type": "stream",
     "text": [
      "[[9.58672800e-01 4.31649272e-05 2.25150993e-02]\n",
      " [4.08919375e-08 9.99965196e-01 1.64420464e-04]\n",
      " [5.74554768e-05 9.41597054e-05 9.99901644e-01]\n",
      " [2.24745870e-03 3.74746131e-05 9.97984041e-01]\n",
      " [9.98444855e-01 3.59940729e-05 1.24685827e-03]\n",
      " [3.99487230e-08 9.99800282e-01 1.22593265e-03]]\n"
     ]
    }
   ],
   "source": [
    "y = net.lyr[-1]().val\n",
    "print(y[:6,:])"
   ]
  },
  {
   "cell_type": "code",
   "execution_count": 13,
   "metadata": {
    "Collapsed": "false"
   },
   "outputs": [
    {
     "data": {
      "text/plain": [
       "array([[1., 0., 0.],\n",
       "       [0., 1., 0.],\n",
       "       [0., 0., 1.],\n",
       "       [0., 0., 1.],\n",
       "       [1., 0., 0.],\n",
       "       [0., 1., 0.]])"
      ]
     },
     "execution_count": 13,
     "metadata": {},
     "output_type": "execute_result"
    }
   ],
   "source": [
    "ds.targets()[:6,:]"
   ]
  },
  {
   "cell_type": "code",
   "execution_count": 14,
   "metadata": {},
   "outputs": [
    {
     "data": {
      "image/png": "[encoded data removed]",
      "text/plain": [
       "<Figure size 432x288 with 1 Axes>"
      ]
     },
     "metadata": {
      "needs_background": "light"
     },
     "output_type": "display_data"
    }
   ],
   "source": [
    "ds.plot(labels=y);"
   ]
  },
  {
   "cell_type": "markdown",
   "metadata": {},
   "source": [
    "## You can also try your code on the `UClasses` dataset"
   ]
  },
  {
   "cell_type": "code",
   "execution_count": 15,
   "metadata": {
    "scrolled": true
   },
   "outputs": [
    {
     "name": "stdout",
     "output_type": "stream",
     "text": [
      "Inputs are 2D\n",
      "Targets are one-hot 2-vectors\n"
     ]
    },
    {
     "data": {
      "image/png": "[encoded data removed]",
      "text/plain": [
       "<Figure size 432x288 with 1 Axes>"
      ]
     },
     "metadata": {
      "needs_background": "light"
     },
     "output_type": "display_data"
    }
   ],
   "source": [
    "ds = UClasses(n=1000)\n",
    "print(f'Inputs are {ds.input_dim}D')\n",
    "print(f'Targets are one-hot {ds.n_classes}-vectors')\n",
    "ds.plot();"
   ]
  },
  {
   "cell_type": "markdown",
   "metadata": {},
   "source": [
    "# Train and test the same network with Uclasses"
   ]
  },
  {
   "cell_type": "code",
   "execution_count": 18,
   "metadata": {
    "Collapsed": "false"
   },
   "outputs": [],
   "source": [
    "# Create a network object\n",
    "# 2 input nodes -> 10 hidden nodes -> 3 output nodes\n",
    "net = Network()\n",
    "input_pop = Population(act=identity)\n",
    "dl1 = DenseLayer(from_nodes=2, to_nodes=10, act=logistic)\n",
    "dl2 = DenseLayer(from_nodes=10, to_nodes=2, act=logistic)\n",
    "net.add_layer(input_pop)\n",
    "net.add_layer(dl1)\n",
    "net.add_layer(dl2)\n",
    "# Loss function\n",
    "net.loss = mean_ce\n",
    "lrate = 1."
   ]
  },
  {
   "cell_type": "code",
   "execution_count": 19,
   "metadata": {
    "Collapsed": "false",
    "scrolled": true
   },
   "outputs": [
    {
     "name": "stdout",
     "output_type": "stream",
     "text": [
      "0: cost = 1.4265824652429926\n",
      "50: cost = 0.9116036228834118\n",
      "100: cost = 0.8851712591546522\n",
      "150: cost = 0.8819313676046828\n",
      "200: cost = 0.8802035848822507\n",
      "250: cost = 0.8789946088979155\n",
      "300: cost = 0.8781070458918627\n",
      "350: cost = 0.8774218606286807\n",
      "400: cost = 0.8768706124491382\n",
      "450: cost = 0.8764136187172782\n",
      "500: cost = 0.8760261021673277\n",
      "550: cost = 0.8756911234661143\n",
      "600: cost = 0.8753962245679036\n",
      "650: cost = 0.8751317981157055\n",
      "700: cost = 0.8748901841952551\n",
      "750: cost = 0.8746650633747128\n",
      "800: cost = 0.8744509794631984\n",
      "850: cost = 0.8742429271660741\n",
      "900: cost = 0.8740359714969218\n",
      "950: cost = 0.8738248737693332\n",
      "1000: cost = 0.8736037020498735\n",
      "1050: cost = 0.8733654085361998\n",
      "1100: cost = 0.8731013634617183\n",
      "1150: cost = 0.8728008405836194\n",
      "1200: cost = 0.8724504388865459\n",
      "1250: cost = 0.872033369338154\n",
      "1300: cost = 0.8715283936017152\n",
      "1350: cost = 0.8709079458698602\n",
      "1400: cost = 0.8701346183341926\n",
      "1450: cost = 0.8691548084358358\n",
      "1500: cost = 0.8678879870257209\n",
      "1550: cost = 0.8662100122839792\n",
      "1600: cost = 0.8639305577998371\n",
      "1650: cost = 0.8607725494971594\n",
      "1700: cost = 0.8563826330558381\n",
      "1750: cost = 0.8504250404703122\n",
      "1800: cost = 0.842767459516525\n",
      "1850: cost = 0.8336275620984259\n",
      "1900: cost = 0.8235220496727499\n",
      "1950: cost = 0.8130435422675742\n",
      "2000: cost = 0.8026210880736349\n",
      "2050: cost = 0.7923778306045653\n",
      "2100: cost = 0.7821222420901766\n",
      "2150: cost = 0.7714432900238696\n",
      "2200: cost = 0.7597254560580795\n",
      "2250: cost = 0.7461220869286002\n",
      "2300: cost = 0.729668789014255\n",
      "2350: cost = 0.7093199315514253\n",
      "2400: cost = 0.6841504785381264\n",
      "2450: cost = 0.6537785771177042\n",
      "2500: cost = 0.6184339797572973\n",
      "2550: cost = 0.5787718411001262\n",
      "2600: cost = 0.5358568789380663\n",
      "2650: cost = 0.4912810976871282\n",
      "2700: cost = 0.4471044146483239\n",
      "2750: cost = 0.4054251279404436\n",
      "2800: cost = 0.3678066652727981\n",
      "2850: cost = 0.3349806121372381\n",
      "2900: cost = 0.3069479781910718\n",
      "2950: cost = 0.2832716850947141\n",
      "3000: cost = 0.26334190751432013\n",
      "3050: cost = 0.24653846412320468\n",
      "3100: cost = 0.23230579544899846\n",
      "3150: cost = 0.22017605808687066\n",
      "3200: cost = 0.20976734145963122\n",
      "3250: cost = 0.20077238368516323\n",
      "3300: cost = 0.19294521974317305\n",
      "3350: cost = 0.1860888423414134\n",
      "3400: cost = 0.18004485345409976\n",
      "3450: cost = 0.17468517693603622\n",
      "3500: cost = 0.16990557032907544\n",
      "3550: cost = 0.16562059604866178\n",
      "3600: cost = 0.1617597345191055\n",
      "3650: cost = 0.15826437531518564\n",
      "3700: cost = 0.15508547841338527\n",
      "3750: cost = 0.1521817461794949\n",
      "3800: cost = 0.14951818549487414\n",
      "3850: cost = 0.14706496921151144\n",
      "3900: cost = 0.14479652855860417\n",
      "3950: cost = 0.14269082486315912\n",
      "4000: cost = 0.14072876140449117\n",
      "4050: cost = 0.13889370550437052\n",
      "4100: cost = 0.13717109789615417\n",
      "4150: cost = 0.13554813163459356\n",
      "4200: cost = 0.13401348675321278\n",
      "4250: cost = 0.13255710987325317\n",
      "4300: cost = 0.1311700302493731\n",
      "4350: cost = 0.12984420546659772\n",
      "4400: cost = 0.12857239129656522\n",
      "4450: cost = 0.12734803116609983\n",
      "4500: cost = 0.12616516136531655\n",
      "4550: cost = 0.12501832861360876\n",
      "4600: cost = 0.12390251702289551\n",
      "4650: cost = 0.12281308199013513\n",
      "4700: cost = 0.1217456892720179\n",
      "4750: cost = 0.12069625858546514\n",
      "4800: cost = 0.11966091262842544\n",
      "4850: cost = 0.11863593443317913\n",
      "4900: cost = 0.1176177383317024\n",
      "4950: cost = 0.11660286220035762\n",
      "5000: cost = 0.11558799035757321\n",
      "5050: cost = 0.11457001629392378\n",
      "5100: cost = 0.11354615072291106\n",
      "5150: cost = 0.1125140720360493\n",
      "5200: cost = 0.11147210364517134\n",
      "5250: cost = 0.11041938929953372\n",
      "5300: cost = 0.10935602910341848\n",
      "5350: cost = 0.10828314108560812\n",
      "5400: cost = 0.1072028270968436\n",
      "5450: cost = 0.10611804302787502\n",
      "5500: cost = 0.10503239381343563\n",
      "5550: cost = 0.10394988647679428\n",
      "5600: cost = 0.10287467702756584\n",
      "5650: cost = 0.1018108411799825\n",
      "5700: cost = 0.1007621885671843\n",
      "5750: cost = 0.09973212920005471\n",
      "5800: cost = 0.09872359187378514\n",
      "5850: cost = 0.09773898815206576\n",
      "5900: cost = 0.09678021247199231\n",
      "5950: cost = 0.09584866821033833\n",
      "6000: cost = 0.0949453104135214\n",
      "6050: cost = 0.09407069755379868\n",
      "6100: cost = 0.09322504655883901\n",
      "6150: cost = 0.0924082871164487\n",
      "6200: cost = 0.09162011271050233\n",
      "6250: cost = 0.09086002695343123\n",
      "6300: cost = 0.09012738457124153\n",
      "6350: cost = 0.08942142692593172\n",
      "6400: cost = 0.08874131229033566\n",
      "6450: cost = 0.08808614127833544\n",
      "6500: cost = 0.08745497792447175\n",
      "6550: cost = 0.0868468669352317\n",
      "6600: cost = 0.08626084762388371\n",
      "6650: cost = 0.0856959650081748\n",
      "6700: cost = 0.08515127850640197\n",
      "6750: cost = 0.0846258686192511\n",
      "6800: cost = 0.08411884193661802\n",
      "6850: cost = 0.08362933476284806\n",
      "6900: cost = 0.08315651561176257\n",
      "6950: cost = 0.08269958678505401\n",
      "7000: cost = 0.08225778521425615\n",
      "7050: cost = 0.0818303827173705\n",
      "7100: cost = 0.0814166857960819\n",
      "7150: cost = 0.08101603507793782\n",
      "7200: cost = 0.08062780448951722\n",
      "7250: cost = 0.08025140023108393\n",
      "7300: cost = 0.07988625961013772\n",
      "7350: cost = 0.07953184978030789\n",
      "7400: cost = 0.07918766642287395\n",
      "7450: cost = 0.07885323240057886\n",
      "7500: cost = 0.07852809640708645\n",
      "7550: cost = 0.0782118316302205\n",
      "7600: cost = 0.07790403444283717\n",
      "7650: cost = 0.07760432313167177\n",
      "7700: cost = 0.07731233667164075\n",
      "7750: cost = 0.07702773355075883\n",
      "7800: cost = 0.0767501906489669\n",
      "7850: cost = 0.07647940217266841\n",
      "7900: cost = 0.0762150786455932\n",
      "7950: cost = 0.07595694595568053\n",
      "8000: cost = 0.07570474445695871\n",
      "8050: cost = 0.07545822812486185\n",
      "8100: cost = 0.07521716376302758\n",
      "8150: cost = 0.07498133025934141\n",
      "8200: cost = 0.07475051788880897\n",
      "8250: cost = 0.07452452766073467\n",
      "8300: cost = 0.0743031707076351\n",
      "8350: cost = 0.07408626771332548\n",
      "8400: cost = 0.07387364837765506\n",
      "8450: cost = 0.07366515091544164\n",
      "8500: cost = 0.07346062158724803\n",
      "8550: cost = 0.07325991425975152\n",
      "8600: cost = 0.07306288999357867\n",
      "8650: cost = 0.07286941665660154\n",
      "8700: cost = 0.07267936856082238\n",
      "8750: cost = 0.07249262612110136\n",
      "8800: cost = 0.07230907553411002\n",
      "8850: cost = 0.07212860847601696\n",
      "8900: cost = 0.0719511218175288\n",
      "8950: cost = 0.0717765173550253\n",
      "9000: cost = 0.07160470155663202\n",
      "9050: cost = 0.07143558532217242\n",
      "9100: cost = 0.07126908375603686\n",
      "9150: cost = 0.07110511595208743\n",
      "9200: cost = 0.07094360478980044\n",
      "9250: cost = 0.0707844767409149\n",
      "9300: cost = 0.07062766168592592\n",
      "9350: cost = 0.07047309273981704\n",
      "9400: cost = 0.07032070608648126\n",
      "9450: cost = 0.07017044082132813\n",
      "9500: cost = 0.07002223880161662\n",
      "9550: cost = 0.06987604450409447\n",
      "9600: cost = 0.06973180488955671\n",
      "9650: cost = 0.06958946927396827\n",
      "9700: cost = 0.0694489892058248\n",
      "9750: cost = 0.0693103183494457\n",
      "9800: cost = 0.0691734123739219\n",
      "9850: cost = 0.06903822884745343\n",
      "9900: cost = 0.06890472713683451\n",
      "9950: cost = 0.06877286831185649\n"
     ]
    }
   ],
   "source": [
    "# you might have to run this a few times\n",
    "net.learn(ds, lrate=lrate, epochs=10000)"
   ]
  },
  {
   "cell_type": "code",
   "execution_count": 21,
   "metadata": {},
   "outputs": [
    {
     "data": {
      "image/png": "[encoded data removed]",
      "text/plain": [
       "<Figure size 432x288 with 1 Axes>"
      ]
     },
     "metadata": {
      "needs_background": "light"
     },
     "output_type": "display_data"
    }
   ],
   "source": [
    "y = net.lyr[-1]().val\n",
    "ds.plot(labels=y);"
   ]
  },
  {
   "cell_type": "code",
   "execution_count": null,
   "metadata": {},
   "outputs": [],
   "source": []
  }
 ],
 "metadata": {
  "kernelspec": {
   "display_name": "Python 3",
   "language": "python",
   "name": "python3"
  },
  "language_info": {
   "codemirror_mode": {
    "name": "ipython",
    "version": 3
   },
   "file_extension": ".py",
   "mimetype": "text/x-python",
   "name": "python",
   "nbconvert_exporter": "python",
   "pygments_lexer": "ipython3",
   "version": "3.6.9"
  }
 },
 "nbformat": 4,
 "nbformat_minor": 4
}
