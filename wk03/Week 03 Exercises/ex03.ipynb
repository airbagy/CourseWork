{
 "cells": [
  {
   "cell_type": "markdown",
   "metadata": {},
   "source": [
    "# Week 3 Exercises"
   ]
  },
  {
   "cell_type": "code",
   "execution_count": 1,
   "metadata": {},
   "outputs": [],
   "source": [
    "import numpy as np\n",
    "import matplotlib.pyplot as plt\n",
    "from utils import DiscreteMapping\n",
    "import copy"
   ]
  },
  {
   "cell_type": "code",
   "execution_count": 2,
   "metadata": {},
   "outputs": [],
   "source": []
  },
  {
   "cell_type": "markdown",
   "metadata": {
    "heading_collapsed": true
   },
   "source": [
    "# Working with Datasets\n",
    "See exercise 3.\n",
    "\n",
    "We have a class for creating and handling our dataset. The class `DiscreteMapping` is imported from the `utils` module. It implements a discrete mapping, like a classification dataset. You give it some input/target prototypes, and it can generate a set of noisy inputs and corresponding targets. The `DiscreteMapping` object stores the inputs and targets."
   ]
  },
  {
   "cell_type": "markdown",
   "metadata": {
    "hidden": true
   },
   "source": [
    "`DiscreteMapping`\n",
    "Try the methods:\n",
    "- ds.plot\n",
    "- ds.inputs\n",
    "- ds.targets\n",
    "- ds.class_mean\n",
    "- ds.inputs_of_class\n",
    "\n",
    "You can also use `len(ds)` to get the number of samples. You can access individual input/target samples using index notation, as in `ds[5]`."
   ]
  },
  {
   "cell_type": "code",
   "execution_count": 3,
   "metadata": {
    "hidden": true
   },
   "outputs": [
    {
     "data": {
      "image/png": "[encoded data removed]",
      "text/plain": [
       "<Figure size 432x288 with 1 Axes>"
      ]
     },
     "metadata": {
      "needs_background": "light"
     },
     "output_type": "display_data"
    }
   ],
   "source": [
    "# Create a toy regression dataset\n",
    "A = np.array([[0.2,0.5],[0.7,0.1]]) # Inputs\n",
    "B = np.array([[0],[1.]])            # Corresponding targets\n",
    "ds = DiscreteMapping(A, B, n=100)\n",
    "ds.plot()"
   ]
  },
  {
   "cell_type": "code",
   "execution_count": 4,
   "metadata": {
    "hidden": true
   },
   "outputs": [
    {
     "data": {
      "text/plain": [
       "[array([0.53203174, 0.09019845]), array([1.])]"
      ]
     },
     "execution_count": 4,
     "metadata": {},
     "output_type": "execute_result"
    }
   ],
   "source": [
    "ds[5]"
   ]
  },
  {
   "cell_type": "markdown",
   "metadata": {
    "heading_collapsed": true
   },
   "source": [
    "# `Operation`s: Activation/Loss functions\n",
    "See exercise 4.\n",
    "\n",
    "The `Operation` class is the base class for activation functions and loss functions."
   ]
  },
  {
   "cell_type": "code",
   "execution_count": 5,
   "metadata": {
    "hidden": true
   },
   "outputs": [],
   "source": [
    "class Operation(object):\n",
    "    '''\n",
    "     Operation class\n",
    "     \n",
    "     This is the abstract base class that other operations should be based on.\n",
    "    '''\n",
    "    def __init__(self):\n",
    "        raise NotImplementedError\n",
    "\n",
    "    def __call__(self, x):\n",
    "        raise NotImplementedError\n",
    "\n",
    "    def derivative(self, s):\n",
    "        raise NotImplementedError"
   ]
  },
  {
   "cell_type": "markdown",
   "metadata": {
    "hidden": true
   },
   "source": [
    "### Activation functions"
   ]
  },
  {
   "cell_type": "code",
   "execution_count": 6,
   "metadata": {
    "hidden": true
   },
   "outputs": [],
   "source": [
    "class Identity(Operation):\n",
    "    '''\n",
    "     act = Identity()\n",
    "     \n",
    "     Creates an Operation object that represents the identity mapping.\n",
    "     \n",
    "     Usage:\n",
    "      act = Identity()\n",
    "      act(np.array([[1.2, 5.]]))\n",
    "     produces the numpy array\n",
    "      [[1.2, 5.]]\n",
    "    '''\n",
    "    def __init__(self):\n",
    "        return\n",
    "        \n",
    "    def __call__(self, z):\n",
    "        '''\n",
    "         y = act(z)\n",
    "         \n",
    "         Evaluates the identity function, element-by-element, on z.\n",
    "         \n",
    "         Input:\n",
    "          z  is a numpy array\n",
    "         Output:\n",
    "          y  is a numpy array the same size as z\n",
    "        '''\n",
    "        self.dims = z.shape\n",
    "        y = copy.deepcopy(z)\n",
    "        return y\n",
    "    \n",
    "    def derivative(self, s=None):\n",
    "        '''\n",
    "         act.derivative(s=None)\n",
    "         \n",
    "         Computes the derivative of the identity mapping\n",
    "         element-by-element.\n",
    "         Note that the __call__ function must be called before this\n",
    "         function can be called.\n",
    "         \n",
    "         Input:\n",
    "           s       array the same size as z, which multiplies the\n",
    "                   derivative\n",
    "           \n",
    "         Output:\n",
    "           dactdz  array the same size as z when __call__ was called,\n",
    "                   and is s times the derivative\n",
    "           \n",
    "         Usage:\n",
    "           dactdz = act.derivative()\n",
    "           dactdz = act.derivative(s)\n",
    "        '''\n",
    "        # Compute the derivatives\n",
    "        if s is None:\n",
    "            return np.ones(self.dims)\n",
    "        else:\n",
    "            return s\n",
    "        \n",
    "class Logistic(Operation):\n",
    "    '''\n",
    "     act = Logistic()\n",
    "     \n",
    "     Creates an Operation object that represents the logistic\n",
    "     function.\n",
    "     \n",
    "     Usage:\n",
    "      act = Logistic()\n",
    "      act(np.array([0., 0.5]))\n",
    "     produces the numpy array\n",
    "      [0.5 , 0.62245933]\n",
    "    '''\n",
    "    def __init__(self):\n",
    "        return\n",
    "        \n",
    "    def __call__(self, z):\n",
    "        '''\n",
    "         y = act(z)\n",
    "         \n",
    "         Evaluates the logistic function, element-by-element, on z.\n",
    "         \n",
    "         Input:\n",
    "          z  is a numpy array\n",
    "         Output:\n",
    "          y  is a numpy array the same size as z\n",
    "        '''\n",
    "        #====================================\n",
    "        #===== See the solutions for A2 =====\n",
    "        #====================================\n",
    "        return 0.   # replace this line\n",
    "    \n",
    "    def derivative(self, s=None):\n",
    "        '''\n",
    "         act.derivative(s=None)\n",
    "         \n",
    "         Computes the derivative of the logistic function\n",
    "         element-by-element.\n",
    "         Note that the __call__ function must be called before this\n",
    "         function can be called.\n",
    "         \n",
    "         Input:\n",
    "           s       array the same size as z, which multiplies the\n",
    "                   derivative\n",
    "           \n",
    "         Output:\n",
    "           dactdz  array the same size as z when __call__ was called,\n",
    "                   and is s times the derivative\n",
    "\n",
    "         Usage:\n",
    "           dactdz = act.derivative()\n",
    "           dactdz = act.derivative(s)\n",
    "        '''\n",
    "        #====================================\n",
    "        #===== See the solutions for A2 =====\n",
    "        #====================================\n",
    "        return 0.   # replace this line\n",
    "\n"
   ]
  },
  {
   "cell_type": "markdown",
   "metadata": {
    "hidden": true
   },
   "source": [
    "### Loss functions"
   ]
  },
  {
   "cell_type": "code",
   "execution_count": 7,
   "metadata": {
    "hidden": true
   },
   "outputs": [],
   "source": [
    "class MSE(Operation):\n",
    "    '''\n",
    "     E = MSE()\n",
    "     \n",
    "     Creates an object that implements the mean squared error loss.\n",
    "     \n",
    "     Usage:\n",
    "      E = MSE()\n",
    "      loss = E(y, t)\n",
    "      \n",
    "     Example:\n",
    "      y = np.array([[0.5, 0.1],[-0.4, 0.9], [-0.1, 0.4]])\n",
    "      t = np.array([[0.6, 0.1],[-0.4, 0.7], [-0.1, 0.6]])\n",
    "      loss = E(y, t)\n",
    "     produces the value\n",
    "      0.015  since it equals\n",
    "      (0.1^2 + 0.2^2 + 0.2^2)/2 / 3\n",
    "    '''\n",
    "    def __init__(self):\n",
    "        self.dE = []\n",
    "    \n",
    "    def __call__(self, y, t):\n",
    "        '''\n",
    "         E.__call__(y, t)  or   E(y, t)\n",
    "         \n",
    "         Computes the mean (average) squared error between the outputs\n",
    "         y and the targets t.\n",
    "         \n",
    "         Inputs:\n",
    "           y  array with one sample per row\n",
    "           t  array the same size as y\n",
    "           \n",
    "         Output:\n",
    "           loss  MSE loss (scalar)\n",
    "        '''\n",
    "        # MSE formula\n",
    "        self.n_samples = np.shape(t)[0]\n",
    "        E = np.sum((y-t)**2)/2./self.n_samples\n",
    "        self.dE = (y-t) / self.n_samples\n",
    "        return E\n",
    "\n",
    "    def derivative(self):\n",
    "        '''\n",
    "         E.derivative()\n",
    "         \n",
    "         Computes and the derivative of the MSE with respect to y.\n",
    "         Note that the __call__ function must be called before this\n",
    "         function can be called.\n",
    "         \n",
    "         Output:\n",
    "           dEdy  array the same size as y when __call__ was called\n",
    "        '''\n",
    "        # Compute the gradient of MSE w.r.t. output\n",
    "        return self.dE\n",
    "\n",
    "        \n",
    "class CrossEntropy(Operation):\n",
    "    '''\n",
    "     E = CrossEntropy()\n",
    "     \n",
    "     Creates an object that implements the average cross-entropy loss.\n",
    "     \n",
    "     Usage:\n",
    "      E = CrossEntropy()\n",
    "      loss = E(y, t)\n",
    "    '''\n",
    "    def __init__(self):\n",
    "        return\n",
    "    \n",
    "    def __call__(self, y, t):\n",
    "        '''\n",
    "         E.__call__(y, t)  or   E(y, t)\n",
    "         \n",
    "         Computes the average cross-entropy between the outputs\n",
    "         y and the targets t.\n",
    "         \n",
    "         Inputs:\n",
    "           y  array with one sample per row\n",
    "           t  array the same size as y\n",
    "           \n",
    "         Output:\n",
    "           loss  average CE loss (scalar)\n",
    "        '''\n",
    "        #====================================\n",
    "        #===== See the solutions for A2 =====\n",
    "        #====================================\n",
    "        E = 0.   # replace this line\n",
    "        return E\n",
    "\n",
    "    def derivative(self):\n",
    "        '''\n",
    "         E.derivative()\n",
    "         \n",
    "         Computes and the derivative of cross-entropy with respect to y.\n",
    "         Note that the __call__ function must be called before this\n",
    "         function can be called.\n",
    "         \n",
    "         Output:\n",
    "           dEdy  array the same size as y when __call__ was called\n",
    "        '''\n",
    "        #====================================\n",
    "        #===== See the solutions for A2 =====\n",
    "        #====================================\n",
    "        return 0.   # replace this line\n",
    "        \n",
    "\n"
   ]
  },
  {
   "cell_type": "markdown",
   "metadata": {
    "heading_collapsed": true
   },
   "source": [
    "# Gradient-Descent Learning\n",
    "See exercise 5."
   ]
  },
  {
   "cell_type": "markdown",
   "metadata": {
    "hidden": true
   },
   "source": [
    "## Create the network"
   ]
  },
  {
   "attachments": {
    "tiny_classifier.png": {
     "image/png": "[encoded data removed]"
    }
   },
   "cell_type": "markdown",
   "metadata": {
    "hidden": true
   },
   "source": [
    "This code creates the pieces of the neural network.\n",
    "![tiny_classifier.png](attachment:tiny_classifier.png)"
   ]
  },
  {
   "cell_type": "code",
   "execution_count": 8,
   "metadata": {
    "hidden": true,
    "scrolled": true
   },
   "outputs": [],
   "source": [
    "W = np.random.normal(scale=0.1, size=(2,2))  # weights\n",
    "a = np.random.normal(scale=0.1, size=(1,2))  # biases\n",
    "sigma1 = Logistic()                          # activation function\n",
    "M = np.random.normal(scale=0.1, size=(2,1))  # weights\n",
    "sigma2 = Logistic()                          # activation function\n",
    "E = CrossEntropy()                           # cost function\n",
    "\n",
    "# Dataset inputs and targets\n",
    "x = ds.inputs()\n",
    "t = ds.targets()"
   ]
  },
  {
   "cell_type": "markdown",
   "metadata": {
    "hidden": true
   },
   "source": [
    "<div class=\"alert alert-block alert-info\">\n",
    "    Add some code that computes the output y from the input x. Design your code so that it works on the entire input array for the dataset. It should yield y, a 2D array holding the network output for all the samples in the dataset, one per row.\n",
    "    \n",
    "Then plot the dataset using\n",
    "\n",
    "    ds.plot(labels=y)\n",
    "</div>"
   ]
  },
  {
   "cell_type": "code",
   "execution_count": 9,
   "metadata": {
    "hidden": true,
    "scrolled": false
   },
   "outputs": [
    {
     "data": {
      "image/png": "[encoded data removed]",
      "text/plain": [
       "<Figure size 432x288 with 1 Axes>"
      ]
     },
     "metadata": {
      "needs_background": "light"
     },
     "output_type": "display_data"
    }
   ],
   "source": []
  },
  {
   "cell_type": "markdown",
   "metadata": {
    "hidden": true
   },
   "source": [
    "## Gradient Descent"
   ]
  },
  {
   "cell_type": "markdown",
   "metadata": {
    "hidden": true
   },
   "source": [
    "<div class=\"alert alert-block alert-info\">\n",
    "Inside the loop below, perform gradient descent to optimize the average cross-entropy cost (E) by adjusting the weights and biases (W, a, M).\n",
    "</div>"
   ]
  },
  {
   "cell_type": "code",
   "execution_count": 10,
   "metadata": {
    "hidden": true,
    "scrolled": true
   },
   "outputs": [
    {
     "data": {
      "image/png": "[encoded data removed]",
      "text/plain": [
       "<Figure size 432x288 with 1 Axes>"
      ]
     },
     "metadata": {
      "needs_background": "light"
     },
     "output_type": "display_data"
    }
   ],
   "source": [
    "kappa = 1.   # learning rate\n",
    "losses = []\n",
    "for idx in range(1000):\n",
    "    # Evaluate the output of the network\n",
    "    #===== YOUR CODE HERE=====\n",
    "    \n",
    "    # Evaluate the cost\n",
    "    #===== YOUR CODE HERE=====\n",
    "    loss = 0.\n",
    "    losses.append(loss)\n",
    "    \n",
    "    # Calculate the gradients\n",
    "    #===== YOUR CODE HERE=====\n",
    "    # Update weights and biases\n",
    "    #===== YOUR CODE HERE=====\n"
   ]
  },
  {
   "cell_type": "code",
   "execution_count": 11,
   "metadata": {
    "hidden": true,
    "scrolled": true
   },
   "outputs": [
    {
     "data": {
      "image/png": "[encoded data removed]",
      "text/plain": [
       "<Figure size 432x288 with 1 Axes>"
      ]
     },
     "metadata": {
      "needs_background": "light"
     },
     "output_type": "display_data"
    }
   ],
   "source": [
    "# Run the new network and plot the dataset again\n"
   ]
  },
  {
   "cell_type": "markdown",
   "metadata": {
    "heading_collapsed": true
   },
   "source": [
    "# Implementing Neural Networks\n",
    "These exercises are designed to get you comfortable with the code base that we will use to implement our neural networks."
   ]
  },
  {
   "cell_type": "markdown",
   "metadata": {
    "hidden": true
   },
   "source": [
    "## `Layer` Classes\n",
    "See exercise 6.\n",
    "\n",
    "The `Layer` class is an abstract base class for other types of layers."
   ]
  },
  {
   "cell_type": "markdown",
   "metadata": {
    "hidden": true
   },
   "source": [
    "<div class=\"alert alert-block alert-info\">\n",
    "    Complete the implementation of <code>DenseLayer.__call__</code>.\n",
    "</div>"
   ]
  },
  {
   "cell_type": "code",
   "execution_count": 12,
   "metadata": {
    "hidden": true
   },
   "outputs": [],
   "source": [
    "class Layer(object):\n",
    "    def __init__(self):\n",
    "        return\n",
    "\n",
    "    def __call__(self, x):\n",
    "        raise NotImplementedError\n",
    "\n",
    "\n",
    "class Population(Layer):\n",
    "    '''\n",
    "     lyr = Population(nodes, act=Identity())\n",
    "\n",
    "     Creates a Population layer object.\n",
    "\n",
    "     Inputs:\n",
    "       nodes  the number of nodes in the population\n",
    "       act    activation function (Operation object)\n",
    "       \n",
    "     Usage:\n",
    "       lyr = Population(3, act=Logistic())\n",
    "       h = lyr(z)\n",
    "       print(lyr())   # prints current value of lyr.h\n",
    "    '''\n",
    "\n",
    "    def __init__(self, nodes, act=Identity()):\n",
    "        self.nodes = nodes\n",
    "        self.z = None\n",
    "        self.h = None\n",
    "        self.act = act\n",
    "        self.params = []\n",
    "\n",
    "    def __call__(self, x=None):\n",
    "        if x is not None:\n",
    "            self.z = x\n",
    "            self.h = self.act(x)\n",
    "        return self.h\n",
    "\n",
    "\n",
    "class Connection(Layer):\n",
    "    '''\n",
    "     lyr = Connection(from_nodes=1, to_nodes=1)\n",
    "\n",
    "     Creates a layer of all-to-all connections.\n",
    "\n",
    "     Inputs:\n",
    "       from_nodes  number of nodes in source layer\n",
    "       to_nodes    number of nodes in receiving layer\n",
    "\n",
    "     Usage:\n",
    "       lyr = Connection(from_nodes=3, to_nodes=5)\n",
    "       z = lyr(h)\n",
    "       lyr.W    # matrix of connection weights\n",
    "       lyr.b    # vector of biases\n",
    "    '''\n",
    "\n",
    "    def __init__(self, from_nodes=1, to_nodes=1):\n",
    "        super().__init__()\n",
    "\n",
    "        self.W = np.random.randn(from_nodes, to_nodes) / np.sqrt(from_nodes)\n",
    "        self.b = np.zeros(to_nodes)\n",
    "        self.params = [self.W, self.b]\n",
    "\n",
    "    def __call__(self, x=None):\n",
    "        if x is None:\n",
    "            print('Should not call Connection without arguments.')\n",
    "            return\n",
    "        P = len(x)\n",
    "        if P>1:\n",
    "            return x@self.W + np.outer(np.ones(P), self.b)\n",
    "        else:\n",
    "            return x@self.W + self.b\n",
    "\n",
    "\n",
    "class DenseLayer(Layer):\n",
    "    '''\n",
    "     lyr = DenseLayer(from_nodes=1, to_nodes=1, act=Logistic())\n",
    "\n",
    "     Creates a DenseLayer object, composed of 2 layer objects:\n",
    "       L1  a Connection layer of connection weights, and\n",
    "       L2  a Population layer, consisting of nodes that receives current\n",
    "           from the Connection layer, and apply the activation function\n",
    "\n",
    "     Inputs:\n",
    "       from_nodes  how many nodes are in the layer below\n",
    "       to_nodes    how many nodes are in the new Population layer\n",
    "       act         activation function (Operation object)\n",
    "       \n",
    "     Usage:\n",
    "       lyr = DenseLayer(from_nodes=3, to_nodes=5)\n",
    "       h2 = lyr(h1)\n",
    "       lyr.L1.W        # connection weights\n",
    "       lyr.L2()        # activities of layer\n",
    "       lyr.L2.act      # activation function of layer\n",
    "    '''\n",
    "\n",
    "    def __init__(self, from_nodes=1, to_nodes=1, act=Logistic()):\n",
    "        self.L1 = Connection(from_nodes=from_nodes, to_nodes=to_nodes)\n",
    "        self.L2 = Population(from_nodes, act=act)\n",
    "\n",
    "    def __call__(self, x=None):\n",
    "        #===== YOUR CODE HERE =====\n",
    "        return 0.   # replace this line\n"
   ]
  },
  {
   "cell_type": "markdown",
   "metadata": {
    "hidden": true
   },
   "source": [
    "### Create a small dataset to play with"
   ]
  },
  {
   "cell_type": "code",
   "execution_count": 13,
   "metadata": {
    "hidden": true,
    "scrolled": false
   },
   "outputs": [
    {
     "name": "stdout",
     "output_type": "stream",
     "text": [
      "Input prototypes (in rows): \n",
      "[[-0.85566197 -0.68200908]\n",
      " [-0.42798115  0.35587317]\n",
      " [ 0.42402296  0.64205307]]\n",
      "Corresponding targets: \n",
      "[[1. 0. 0.]\n",
      " [0. 1. 0.]\n",
      " [0. 0. 1.]]\n"
     ]
    },
    {
     "data": {
      "image/png": "[encoded data removed]",
      "text/plain": [
       "<Figure size 432x288 with 1 Axes>"
      ]
     },
     "metadata": {
      "needs_background": "light"
     },
     "output_type": "display_data"
    }
   ],
   "source": [
    "# This creates a dataset\n",
    "n_classes = 3\n",
    "in_dim = 2\n",
    "\n",
    "np.random.seed(250)\n",
    "B = np.eye(n_classes)\n",
    "A = 3.*(np.random.rand(n_classes, in_dim) - 0.5)\n",
    "\n",
    "print(f'Input prototypes (in rows): \\n{A}')\n",
    "print(f'Corresponding targets: \\n{B}')\n",
    "\n",
    "ds = DiscreteMapping(A, B, n=8, noise=0.1)\n",
    "ds.plot()"
   ]
  },
  {
   "cell_type": "markdown",
   "metadata": {
    "hidden": true
   },
   "source": [
    "<div class=\"alert alert-block alert-info\">\n",
    "    Create a <code>Population</code> layer object and feed <code>x.inputs()</code> through it.\n",
    "</div>"
   ]
  },
  {
   "cell_type": "code",
   "execution_count": 14,
   "metadata": {
    "hidden": true
   },
   "outputs": [
    {
     "name": "stdout",
     "output_type": "stream",
     "text": [
      "[[0.39086234 0.58885567]\n",
      " [0.30014198 0.38834177]\n",
      " [0.30614008 0.30526132]\n",
      " [0.61852037 0.65475242]\n",
      " [0.30099645 0.31842782]\n",
      " [0.58746273 0.67328247]\n",
      " [0.27545583 0.33094108]\n",
      " [0.39093512 0.61570847]]\n"
     ]
    }
   ],
   "source": []
  },
  {
   "cell_type": "markdown",
   "metadata": {
    "hidden": true
   },
   "source": [
    "<div class=\"alert alert-block alert-info\">\n",
    "    Create a <code>Connection</code> layer and look at the matrix of connection weights. Then feed the output from your <code>Population</code> layer through your <code>Connection</code> layer.\n",
    "</div>"
   ]
  },
  {
   "cell_type": "code",
   "execution_count": 15,
   "metadata": {
    "hidden": true
   },
   "outputs": [
    {
     "name": "stdout",
     "output_type": "stream",
     "text": [
      "[[-0.03472779 -0.67733284  0.55898317  0.59521867  0.33620673]\n",
      " [-0.74759454 -0.47293313 -0.69301845 -0.12666031  0.2659984 ]]\n"
     ]
    }
   ],
   "source": []
  },
  {
   "cell_type": "code",
   "execution_count": 16,
   "metadata": {
    "hidden": true,
    "scrolled": true
   },
   "outputs": [
    {
     "name": "stdout",
     "output_type": "stream",
     "text": [
      "[[-0.45379907 -0.54323326 -0.18960238  0.15806392  0.28804521]\n",
      " [-0.30074545 -0.38695571 -0.1013537   0.12946262  0.20420804]\n",
      " [-0.23884326 -0.35172692 -0.04042457  0.1435558   0.18412538]\n",
      " [-0.51096918 -0.72859828 -0.10801303  0.28522372  0.38211381]\n",
      " [-0.24850784 -0.35446985 -0.05242441  0.13882654  0.18589832]\n",
      " [-0.52374358 -0.71632539 -0.1382154   0.26439061  0.37660098]\n",
      " [-0.25697572 -0.34308829 -0.0753731   0.12203935  0.1806399 ]\n",
      " [-0.4738766  -0.55598213 -0.20817118  0.15470605  0.29521248]]\n"
     ]
    }
   ],
   "source": []
  },
  {
   "cell_type": "markdown",
   "metadata": {
    "hidden": true
   },
   "source": [
    "<div class=\"alert alert-block alert-info\">\n",
    "    Create a <code>DenseLayer</code> object and look at the matrix of connection weights, and feed <code>ds.inputs()</code> through it.\n",
    "</div>"
   ]
  },
  {
   "cell_type": "code",
   "execution_count": 17,
   "metadata": {
    "hidden": true
   },
   "outputs": [
    {
     "name": "stdout",
     "output_type": "stream",
     "text": [
      "[[ 0.55624736  0.22872639  0.15331683  1.1473253  -0.78114962]\n",
      " [ 0.78839565 -0.22517634  0.57945393 -0.14770358 -0.11754094]]\n",
      "[[0.50910399 0.45453221 0.53497683 0.363058   0.57550858]\n",
      " [0.30383757 0.4771784  0.40298563 0.28817776 0.67144674]\n",
      " [0.24908695 0.49950689 0.35389263 0.30633577 0.67608109]\n",
      " [0.68425349 0.49160714 0.6094359  0.61300026 0.38871095]\n",
      " [0.25566097 0.49466158 0.36120306 0.29853497 0.6786583 ]\n",
      " [0.68280449 0.47951986 0.61613628 0.5741403  0.41068948]\n",
      " [0.25106654 0.48433112 0.36443386 0.26783736 0.69808654]\n",
      " [0.53120863 0.44829666 0.55111094 0.35931739 0.572227  ]]\n"
     ]
    }
   ],
   "source": []
  },
  {
   "cell_type": "markdown",
   "metadata": {
    "hidden": true
   },
   "source": [
    "## `Network` Class\n",
    "See exercise 7."
   ]
  },
  {
   "cell_type": "code",
   "execution_count": 18,
   "metadata": {
    "hidden": true
   },
   "outputs": [],
   "source": [
    "class Network(object):\n",
    "    '''\n",
    "     net = Network()\n",
    "\n",
    "     Creates a Network object.\n",
    "     \n",
    "     Usage:\n",
    "       net = Network()\n",
    "       net.add_layer(L)\n",
    "       ... (add more layers)\n",
    "       y = net(x)\n",
    "       net.lyr[1]    # reference to Layer object\n",
    "    '''\n",
    "\n",
    "    def __init__(self):\n",
    "        self.lyr = []\n",
    "        self.loss = None\n",
    "\n",
    "    def add_layer(self, L):\n",
    "        '''\n",
    "         net.add_layer(L)\n",
    "         \n",
    "         Adds the layer object L to the network.\n",
    "         \n",
    "         Note: It is up to the user to make sure the Layer object\n",
    "               fits with adjacent layers.\n",
    "        '''\n",
    "        self.lyr.append(L)\n",
    "\n",
    "    def __call__(self, x):\n",
    "        '''\n",
    "         y = net(x)\n",
    "         \n",
    "         \n",
    "         Input:\n",
    "           x  batch of inputs, one input per row\n",
    "           \n",
    "         Output:\n",
    "           y  corresponding outputs, one per row\n",
    "        '''\n",
    "        for l in self.lyr:\n",
    "            x = l(x)\n",
    "        return x\n"
   ]
  },
  {
   "cell_type": "markdown",
   "metadata": {
    "hidden": true
   },
   "source": [
    "<div class=\"alert alert-block alert-info\">\n",
    "    Create a small network and feed some data through it. Evaluate a cost function on its output.\n",
    "</div>"
   ]
  },
  {
   "cell_type": "code",
   "execution_count": 19,
   "metadata": {
    "hidden": true
   },
   "outputs": [
    {
     "name": "stdout",
     "output_type": "stream",
     "text": [
      "[[0.62676509 0.57932741 0.51101342]\n",
      " [0.55883494 0.49259483 0.49912777]\n",
      " [0.534934   0.48059378 0.50046509]\n",
      " [0.66629081 0.66047016 0.52821359]\n",
      " [0.53865919 0.48128196 0.49990563]\n",
      " [0.66951925 0.65722638 0.52637777]\n",
      " [0.54193834 0.47795966 0.49817279]\n",
      " [0.63511647 0.58854428 0.51207396]]\n",
      "2.2481169804984944\n"
     ]
    }
   ],
   "source": []
  },
  {
   "cell_type": "markdown",
   "metadata": {
    "heading_collapsed": true
   },
   "source": [
    "# Gradient descent demo\n",
    "A simple scalar example."
   ]
  },
  {
   "cell_type": "code",
   "execution_count": 20,
   "metadata": {
    "hidden": true
   },
   "outputs": [],
   "source": [
    "def f(x):\n",
    "    return x**2\n",
    "\n",
    "def dfdx(x):\n",
    "    return 2*x"
   ]
  },
  {
   "cell_type": "code",
   "execution_count": 21,
   "metadata": {
    "hidden": true
   },
   "outputs": [
    {
     "data": {
      "image/png": "[encoded data removed]",
      "text/plain": [
       "<Figure size 432x288 with 1 Axes>"
      ]
     },
     "metadata": {
      "needs_background": "light"
     },
     "output_type": "display_data"
    }
   ],
   "source": [
    "xx = np.linspace(-2, 2, 100)\n",
    "yy = f(xx)\n",
    "plt.plot(xx,yy);"
   ]
  },
  {
   "cell_type": "code",
   "execution_count": 22,
   "metadata": {
    "hidden": true
   },
   "outputs": [],
   "source": [
    "x = 0.2\n",
    "y = f(x)\n",
    "hist = [(x,y)]\n",
    "kappa = 1.2\n",
    "iters = 8\n",
    "for n in range(iters):\n",
    "    x -= kappa*dfdx(x)\n",
    "    y = f(x)\n",
    "    hist.append((x,y))\n",
    "hist = np.array(hist)"
   ]
  },
  {
   "cell_type": "code",
   "execution_count": 23,
   "metadata": {
    "hidden": true
   },
   "outputs": [
    {
     "data": {
      "image/png": "[encoded data removed]",
      "text/plain": [
       "<Figure size 432x288 with 1 Axes>"
      ]
     },
     "metadata": {
      "needs_background": "light"
     },
     "output_type": "display_data"
    }
   ],
   "source": [
    "plt.plot(xx,yy)\n",
    "ax = plt.axis()\n",
    "plt.plot(hist[:,0], hist[:,1], 'ro-');\n",
    "plt.axis(ax);"
   ]
  },
  {
   "cell_type": "code",
   "execution_count": null,
   "metadata": {
    "hidden": true
   },
   "outputs": [],
   "source": []
  }
 ],
 "metadata": {
  "kernelspec": {
   "display_name": "Python 3",
   "language": "python",
   "name": "python3"
  },
  "language_info": {
   "codemirror_mode": {
    "name": "ipython",
    "version": 3
   },
   "file_extension": ".py",
   "mimetype": "text/x-python",
   "name": "python",
   "nbconvert_exporter": "python",
   "pygments_lexer": "ipython3",
   "version": "3.6.9"
  }
 },
 "nbformat": 4,
 "nbformat_minor": 4
}
