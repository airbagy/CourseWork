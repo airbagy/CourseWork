{
 "cells": [
  {
   "cell_type": "markdown",
   "metadata": {},
   "source": [
    "# Week 02 Exercises: Loss & Activation Functions"
   ]
  },
  {
   "cell_type": "code",
   "execution_count": 130,
   "metadata": {},
   "outputs": [],
   "source": [
    "import numpy as np\n",
    "import copy\n",
    "import matplotlib.pyplot as plt"
   ]
  },
  {
   "cell_type": "markdown",
   "metadata": {},
   "source": [
    "## (a) Complete `Identity` and `MSE` class implementations"
   ]
  },
  {
   "cell_type": "markdown",
   "metadata": {},
   "source": [
    "<div class=\"alert alert-block alert-info\">\n",
    "    Complete the <code>__call__</code> and <code>derivative</code> functions.\n",
    "</div>"
   ]
  },
  {
   "cell_type": "code",
   "execution_count": 132,
   "metadata": {},
   "outputs": [],
   "source": [
    "class Identity(object):\n",
    "    '''\n",
    "     act = Identity()\n",
    "     \n",
    "     Creates an object that represents the identity mapping.\n",
    "     \n",
    "     Usage:\n",
    "      act = Identity()\n",
    "      act(np.array([[1.2, 5.]]))\n",
    "     produces the numpy array\n",
    "      [[1.2, 5.]]\n",
    "    '''\n",
    "    def __init__(self):\n",
    "        return\n",
    "        \n",
    "    def __call__(self, z):\n",
    "        '''\n",
    "         y = act(z)\n",
    "         \n",
    "         Evaluates the identity function, element-by-element, on z.\n",
    "         \n",
    "         Input:\n",
    "          z  is a numpy array\n",
    "         Output:\n",
    "          y  is a numpy array the same size as z\n",
    "        '''\n",
    "        self.dims = z.shape\n",
    "        y = copy.deepcopy(z)\n",
    "        return y\n",
    "    \n",
    "    def derivative(self):\n",
    "        '''\n",
    "         act.derivative()\n",
    "         \n",
    "         Computes and the derivative of the identity mapping\n",
    "         element-by-element.\n",
    "         Note that the __call__ function must be called before this\n",
    "         function can be called.\n",
    "         \n",
    "         Output:\n",
    "           dactdz  array the same size as z when __call__ was called\n",
    "           \n",
    "         Usage:\n",
    "           \n",
    "           dactdz = act.derivative()\n",
    "        '''\n",
    "        # Compute the derivatives\n",
    "        return np.ones(self.dims)\n"
   ]
  },
  {
   "cell_type": "code",
   "execution_count": 133,
   "metadata": {},
   "outputs": [],
   "source": [
    "class MSE(object):\n",
    "    '''\n",
    "     E = MSE()\n",
    "     \n",
    "     Creates an object that implements the mean squared error loss.\n",
    "     \n",
    "     Usage:\n",
    "      E = MSE()\n",
    "      loss = E(y, t)\n",
    "      \n",
    "     Example:\n",
    "      y = np.array([[0.5, 0.1],[-0.4, 0.9], [-0.1, 0.4]])\n",
    "      t = np.array([[0.6, 0.1],[-0.4, 0.7], [-0.1, 0.6]])\n",
    "      loss = E(y, t)\n",
    "     produces the value\n",
    "      0.015  since it equals\n",
    "      (0.1^2 + 0.2^2 + 0.2^2)/2 / 3\n",
    "    '''\n",
    "    def __init__(self):\n",
    "        self.dE = []\n",
    "    \n",
    "    def __call__(self, y, t):\n",
    "        '''\n",
    "         E.__call__(y, t)  or   E(y, t)\n",
    "         \n",
    "         Computes the mean (average) squared error between the outputs\n",
    "         y and the targets t.\n",
    "         \n",
    "         Inputs:\n",
    "           y  array with one sample per row\n",
    "           t  array the same size as y\n",
    "           \n",
    "         Output:\n",
    "           loss  MSE loss (scalar)\n",
    "        '''\n",
    "        # MSE formula\n",
    "        self.n_samples = np.shape(t)[0]\n",
    "        E = np.sum((y-t)**2)/2./self.n_samples\n",
    "        self.dE = (y-t) / self.n_samples\n",
    "        return E\n",
    "\n",
    "    def derivative(self):\n",
    "        '''\n",
    "         E.derivative()\n",
    "         \n",
    "         Computes and the derivative of the MSE with respect to y.\n",
    "         Note that the __call__ function must be called before this\n",
    "         function can be called.\n",
    "         \n",
    "         Output:\n",
    "           dEdy  array the same size as y when __call__ was called\n",
    "        '''\n",
    "        # Compute the gradient of MSE w.r.t. output\n",
    "        return self.dE\n"
   ]
  },
  {
   "cell_type": "markdown",
   "metadata": {},
   "source": [
    "## (b) Test `Identity` class"
   ]
  },
  {
   "cell_type": "markdown",
   "metadata": {},
   "source": [
    "<div class=\"alert alert-block alert-info\">\n",
    "    Add some code to the notebook that creates a 2D array <code>z</code>, and applies the identity function to it, yielding <code>y</code>. Compute the derivative of the identity function for that data. Does it make sense?\n",
    "</div>"
   ]
  },
  {
   "cell_type": "markdown",
   "metadata": {},
   "source": [
    "The output of the code\n",
    "```\n",
    "  z = np.array([[0.5, 0.1],[-0.4, 0.9], [-0.1, 0.4]])\n",
    "  y = act(z)\n",
    "```\n",
    "cell below should be\n",
    "```\n",
    "[[ 0.5  0.1]\n",
    " [-0.4  0.9]\n",
    " [-0.1  0.4]]\n",
    " ```"
   ]
  },
  {
   "cell_type": "code",
   "execution_count": 134,
   "metadata": {},
   "outputs": [
    {
     "name": "stdout",
     "output_type": "stream",
     "text": [
      "[[ 0.5  0.1]\n",
      " [-0.4  0.9]\n",
      " [-0.1  0.4]]\n"
     ]
    }
   ],
   "source": [
    "act = Identity()\n",
    "z = np.array([[0.5, 0.1],[-0.4, 0.9], [-0.1, 0.4]])\n",
    "y = act(z)\n",
    "print(y)\n"
   ]
  },
  {
   "cell_type": "code",
   "execution_count": 135,
   "metadata": {},
   "outputs": [
    {
     "name": "stdout",
     "output_type": "stream",
     "text": [
      "[[1. 1.]\n",
      " [1. 1.]\n",
      " [1. 1.]]\n"
     ]
    }
   ],
   "source": [
    "dactdz = act.derivative()\n",
    "print(dactdz)\n"
   ]
  },
  {
   "cell_type": "markdown",
   "metadata": {},
   "source": [
    "## (c) Test `MSE` class"
   ]
  },
  {
   "cell_type": "markdown",
   "metadata": {},
   "source": [
    "<div class=\"alert alert-block alert-info\">\n",
    "    Create another 2D array <code>t</code> by adding Gaussian noise to <code>y</code> (see <code>numpy.random.normal</code>). Then compute the MSE between <code>y</code> and <code>t</code>. Also, evaluate the derivative of the MSE (with respect to <code>y</code>) at <code>(y, t)</code>. Does it make sense?\n",
    "</div>"
   ]
  },
  {
   "cell_type": "markdown",
   "metadata": {},
   "source": [
    "The output of the code\n",
    "```\n",
    "  y = np.array([[0.5, 0.1],[-0.4, 0.9], [-0.1, 0.4]])\n",
    "  t = np.array([[0.6, 0.1],[-0.4, 0.7], [-0.1, 0.6]])\n",
    "  E = MSE()\n",
    "  loss = E(y, t)\n",
    "```\n",
    "should be\n",
    "```\n",
    "  0.015\n",
    "```"
   ]
  },
  {
   "cell_type": "code",
   "execution_count": 138,
   "metadata": {},
   "outputs": [
    {
     "name": "stdout",
     "output_type": "stream",
     "text": [
      "0.015\n"
     ]
    }
   ],
   "source": [
    "y = np.array([[0.5, 0.1],[-0.4, 0.9], [-0.1, 0.4]])\n",
    "t = np.array([[0.6, 0.1],[-0.4, 0.7], [-0.1, 0.6]])\n",
    "E = MSE()\n",
    "loss = E(y, t)\n",
    "print(loss)\n"
   ]
  },
  {
   "cell_type": "code",
   "execution_count": 139,
   "metadata": {},
   "outputs": [
    {
     "name": "stdout",
     "output_type": "stream",
     "text": [
      "[[-0.03333333  0.        ]\n",
      " [ 0.          0.06666667]\n",
      " [ 0.         -0.06666667]]\n"
     ]
    }
   ],
   "source": [
    "print(E.derivative())\n"
   ]
  },
  {
   "cell_type": "code",
   "execution_count": null,
   "metadata": {},
   "outputs": [],
   "source": []
  }
 ],
 "metadata": {
  "kernelspec": {
   "display_name": "Python 3",
   "language": "python",
   "name": "python3"
  },
  "language_info": {
   "codemirror_mode": {
    "name": "ipython",
    "version": 3
   },
   "file_extension": ".py",
   "mimetype": "text/x-python",
   "name": "python",
   "nbconvert_exporter": "python",
   "pygments_lexer": "ipython3",
   "version": "3.6.9"
  }
 },
 "nbformat": 4,
 "nbformat_minor": 4
}
