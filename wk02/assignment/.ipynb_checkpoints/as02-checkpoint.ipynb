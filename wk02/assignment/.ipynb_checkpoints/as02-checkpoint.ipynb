{
 "cells": [
  {
   "cell_type": "markdown",
   "metadata": {},
   "source": [
    "# Assignment 2"
   ]
  },
  {
   "cell_type": "code",
   "execution_count": 1,
   "metadata": {},
   "outputs": [],
   "source": [
    "import numpy as np\n",
    "import matplotlib.pyplot as plt"
   ]
  },
  {
   "cell_type": "markdown",
   "metadata": {},
   "source": [
    "## Question 3: Implementing `Logistic` Class"
   ]
  },
  {
   "cell_type": "code",
   "execution_count": 2,
   "metadata": {},
   "outputs": [],
   "source": [
    "class Logistic(object):\n",
    "    '''\n",
    "     act = Logistic()\n",
    "     \n",
    "     Creates an object that represents the logistic function.\n",
    "     \n",
    "     Usage:\n",
    "      act = Logistic()\n",
    "      act(np.array([0., 0.5]))\n",
    "     produces the numpy array\n",
    "      [0.5 , 0.62245933]\n",
    "    '''\n",
    "    def __init__(self):\n",
    "        return\n",
    "        \n",
    "    def __call__(self, z):\n",
    "        '''\n",
    "         y = act(z)\n",
    "         \n",
    "         Evaluates the logistic function, element-by-element, on z.\n",
    "         \n",
    "         Input:\n",
    "          z  is a numpy array\n",
    "         Output:\n",
    "          y  is a numpy array the same size as z\n",
    "        '''\n",
    "        self.input = np.copy(z)\n",
    "        y = self.logistic_func(self.input)\n",
    "        return y\n",
    "    \n",
    "    def logistic_func(self, z):\n",
    "        '''\n",
    "         Apply logistic function on ndarray.\n",
    "         \n",
    "         f(x) = 1 / (1 + e^-x)\n",
    "\n",
    "        Input:\n",
    "          z  is a numpy array\n",
    "         Output:\n",
    "          y  is a numpy array the same size as z\n",
    "        '''\n",
    "        return 1/(1+np.exp(-z))  \n",
    "    \n",
    "    def derivative(self):\n",
    "        '''\n",
    "         act.derivative()\n",
    "         \n",
    "         Computes and the derivative of the logistic function\n",
    "         element-by-element.\n",
    "         Note that the __call__ function must be called before this\n",
    "         function can be called.\n",
    "         \n",
    "         Output:\n",
    "           dactdz  array the same size as z when __call__ was called\n",
    "           \n",
    "         Usage:\n",
    "           \n",
    "           dactdz = act.derivative()\n",
    "        '''\n",
    "        dactdz = self.logistic_derivative_func(self.input)\n",
    "        return dactdz\n",
    "    \n",
    "    def logistic_derivative_func(self, z):\n",
    "        '''\n",
    "        Compute the derivative on ndarray.\n",
    "        \n",
    "        f'(x) = - 1 / (1 + e^-x)^2 * (-e^-x) = e^-x / (1 + e^-x)^2\n",
    "\n",
    "        Input:\n",
    "          z  is a numpy array\n",
    "         Output:\n",
    "          y  is a numpy array the same size as z\n",
    "        '''\n",
    "        return np.exp(-z)/np.square((1+np.exp(-z)))\n"
   ]
  },
  {
   "cell_type": "markdown",
   "metadata": {},
   "source": [
    "## Demonstrate `Logistic`"
   ]
  },
  {
   "cell_type": "code",
   "execution_count": 3,
   "metadata": {},
   "outputs": [
    {
     "name": "stdout",
     "output_type": "stream",
     "text": [
      "[[0.62245933 0.52497919]\n",
      " [0.40131234 0.7109495 ]\n",
      " [0.47502081 0.59868766]]\n"
     ]
    }
   ],
   "source": [
    "# Input array\n",
    "z = np.array([[0.5, 0.1],[-0.4, 0.9], [-0.1, 0.4]])\n",
    "# Get logistic operator\n",
    "act = Logistic()\n",
    "y = act(z)\n",
    "print(y)"
   ]
  },
  {
   "cell_type": "code",
   "execution_count": 4,
   "metadata": {
    "scrolled": true
   },
   "outputs": [
    {
     "name": "stdout",
     "output_type": "stream",
     "text": [
      "[[0.23500371 0.24937604]\n",
      " [0.24026075 0.20550031]\n",
      " [0.24937604 0.24026075]]\n"
     ]
    }
   ],
   "source": [
    "# Get derivatives\n",
    "d = act.derivative()\n",
    "print(d)"
   ]
  },
  {
   "cell_type": "markdown",
   "metadata": {},
   "source": [
    "## Question 4: Implementing `CrossEntropy` class"
   ]
  },
  {
   "cell_type": "code",
   "execution_count": 5,
   "metadata": {},
   "outputs": [],
   "source": [
    "class CrossEntropy(object):\n",
    "    '''\n",
    "     E = CrossEntropy()\n",
    "     \n",
    "     Creates an object that implements the average cross-entropy loss.\n",
    "     \n",
    "     Usage:\n",
    "      E = CrossEntropy()\n",
    "      loss = E(y, t)\n",
    "    '''\n",
    "    def __init__(self):\n",
    "        return\n",
    "    \n",
    "    def __call__(self, y, t):\n",
    "        '''\n",
    "         E.__call__(y, t)  or   E(y, t)\n",
    "         \n",
    "         Computes the average cross-entropy between the outputs\n",
    "         y and the targets t.\n",
    "         \n",
    "         Inputs:\n",
    "           y  2D array with one sample per row\n",
    "           t  array the same size as y\n",
    "           \n",
    "         Output:\n",
    "           loss  average CE loss (scalar)\n",
    "        '''\n",
    "        # Cross Entropy formula\n",
    "        self.n_samples = np.shape(t)[0]\n",
    "        E = -np.sum(t*np.log(y+1e-9))/self.n_samples # Add small number to avoid log(0)\n",
    "        self.dE = -t*(1/y+1e-9)/self.n_samples # Add small number to avoid 1/0\n",
    "        return E\n",
    "\n",
    "    def derivative(self):\n",
    "        '''\n",
    "         E.derivative()\n",
    "         \n",
    "         Computes and the derivative of cross-entropy with respect to y.\n",
    "         Note that the __call__ function must be called before this\n",
    "         function can be called.\n",
    "         \n",
    "         Output:\n",
    "           dEdy  array the same size as y when __call__ was called\n",
    "        '''\n",
    "        return self.dE\n"
   ]
  },
  {
   "cell_type": "markdown",
   "metadata": {},
   "source": [
    "## Demonstrate `CrossEntropy`"
   ]
  },
  {
   "cell_type": "code",
   "execution_count": 6,
   "metadata": {},
   "outputs": [
    {
     "name": "stdout",
     "output_type": "stream",
     "text": [
      "0.802648533513587\n"
     ]
    }
   ],
   "source": [
    "# Input\n",
    "z = np.array([[0.9, 0.1],[0.5, 0.5], [0.2, 0.8]])\n",
    "# Target\n",
    "t = np.array([[1,0], [0,1], [1,0]])\n",
    "E = CrossEntropy()\n",
    "loss = E(z,t)\n",
    "print(loss)"
   ]
  },
  {
   "cell_type": "code",
   "execution_count": 7,
   "metadata": {},
   "outputs": [
    {
     "name": "stdout",
     "output_type": "stream",
     "text": [
      "[[-0.37037037  0.        ]\n",
      " [ 0.         -0.66666667]\n",
      " [-1.66666667  0.        ]]\n"
     ]
    }
   ],
   "source": [
    "# Get derivatives\n",
    "dE = E.derivative()\n",
    "print(dE)"
   ]
  },
  {
   "cell_type": "markdown",
   "metadata": {},
   "source": [
    "## Evaluate $\\nabla_{\\hspace{-1mm}z} E(y,t)$"
   ]
  },
  {
   "cell_type": "code",
   "execution_count": 8,
   "metadata": {},
   "outputs": [],
   "source": [
    "# Input and target\n",
    "z = np.array([[0.5, 0.1],[-0.4, 0.9], [-0.1, 0.4]])\n",
    "t = np.array([[1, 0], [0, 1], [1, 0]])\n",
    "\n",
    "# Get activation function and loss\n",
    "act = Logistic()\n",
    "E = CrossEntropy()\n",
    "\n",
    "# Calculate loss\n",
    "loss = E(act(z), t)"
   ]
  },
  {
   "cell_type": "code",
   "execution_count": 9,
   "metadata": {},
   "outputs": [
    {
     "name": "stdout",
     "output_type": "stream",
     "text": [
      "[[0.23500371 0.24937604]\n",
      " [0.24026075 0.20550031]\n",
      " [0.24937604 0.24026075]]\n",
      "[[-0.53551022  0.        ]\n",
      " [ 0.         -0.46885655]\n",
      " [-0.70172364  0.        ]]\n"
     ]
    }
   ],
   "source": [
    "# Get derivatives\n",
    "d = act.derivative()\n",
    "dE = E.derivative()\n",
    "\n",
    "print(d)\n",
    "print(dE)"
   ]
  },
  {
   "cell_type": "code",
   "execution_count": 10,
   "metadata": {},
   "outputs": [
    {
     "name": "stdout",
     "output_type": "stream",
     "text": [
      "[[-0.12584689  0.        ]\n",
      " [ 0.         -0.09635017]\n",
      " [-0.17499306  0.        ]]\n"
     ]
    }
   ],
   "source": [
    "# By the chain rule\n",
    "gradients = d * dE\n",
    "print(gradients)"
   ]
  },
  {
   "cell_type": "code",
   "execution_count": null,
   "metadata": {},
   "outputs": [],
   "source": []
  },
  {
   "cell_type": "code",
   "execution_count": null,
   "metadata": {},
   "outputs": [],
   "source": []
  }
 ],
 "metadata": {
  "kernelspec": {
   "display_name": "Python 3",
   "language": "python",
   "name": "python3"
  },
  "language_info": {
   "codemirror_mode": {
    "name": "ipython",
    "version": 3
   },
   "file_extension": ".py",
   "mimetype": "text/x-python",
   "name": "python",
   "nbconvert_exporter": "python",
   "pygments_lexer": "ipython3",
   "version": "3.6.9"
  }
 },
 "nbformat": 4,
 "nbformat_minor": 4
}
