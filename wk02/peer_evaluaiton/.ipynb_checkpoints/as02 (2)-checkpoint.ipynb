{
 "cells": [
  {
   "cell_type": "markdown",
   "metadata": {},
   "source": [
    "# Assignment 2"
   ]
  },
  {
   "cell_type": "code",
   "execution_count": 246,
   "metadata": {},
   "outputs": [],
   "source": [
    "import numpy as np\n",
    "import matplotlib.pyplot as plt\n",
    "import copy"
   ]
  },
  {
   "cell_type": "markdown",
   "metadata": {},
   "source": [
    "## Question 3: Implementing `Logistic` Class"
   ]
  },
  {
   "cell_type": "code",
   "execution_count": 247,
   "metadata": {},
   "outputs": [],
   "source": [
    "class Logistic(object):\n",
    "    '''\n",
    "     act = Logistic()\n",
    "     \n",
    "     Creates an object that represents the logistic function.\n",
    "     \n",
    "     Usage:\n",
    "      act = Logistic()\n",
    "      act(np.array([0., 5.]))\n",
    "     produces the numpy array\n",
    "      [0.5 , 0.62245933]\n",
    "    '''\n",
    "    def __init__(self):\n",
    "        return\n",
    "        \n",
    "    def __call__(self, z):\n",
    "        '''\n",
    "         y = act(z)\n",
    "         \n",
    "         Evaluates the logistic function, element-by-element, on z.\n",
    "         \n",
    "         Input:\n",
    "          z  is a numpy array\n",
    "         Output:\n",
    "          y  is a numpy array the same size as z\n",
    "        '''\n",
    "        #===== YOUR CODE HERE =====\n",
    "        # Saves the input array z\n",
    "        self.input_array = copy.deepcopy(z)\n",
    "        # Lambda function for the logistic function\n",
    "        logistic_function = lambda x: 1/(1+np.exp(-x))\n",
    "        # Apply the logistic function on each element of the input array\n",
    "        y = logistic_function(self.input_array)\n",
    "        return y\n",
    "    \n",
    "    def derivative(self):\n",
    "        '''\n",
    "         act.derivative()\n",
    "         \n",
    "         Computes and the derivative of the logistic function\n",
    "         element-by-element.\n",
    "         Note that the __call__ function must be called before this\n",
    "         function can be called.\n",
    "         \n",
    "         Output:\n",
    "           dactdz  array the same size as z when __call__ was called\n",
    "           \n",
    "         Usage:\n",
    "           \n",
    "           dactdz = act.derivative()\n",
    "        '''\n",
    "        #===== YOUR CODE HERE =====\n",
    "        # Lambda function for the logistic function derivative\n",
    "        logistic_derivative_function = lambda x: np.exp(-x)/((1+np.exp(-x))**2)\n",
    "        # Apply the logistic function derivative on each element of the input array\n",
    "        dactdz = logistic_derivative_function(self.input_array)\n",
    "        return dactdz"
   ]
  },
  {
   "cell_type": "markdown",
   "metadata": {},
   "source": [
    "## Demonstrate `Logistic`"
   ]
  },
  {
   "cell_type": "code",
   "execution_count": 248,
   "metadata": {},
   "outputs": [
    {
     "data": {
      "text/plain": [
       "array([[0.5       , 0.62245933],\n",
       "       [0.73105858, 0.9999546 ],\n",
       "       [0.11920292, 0.00669285]])"
      ]
     },
     "execution_count": 248,
     "metadata": {},
     "output_type": "execute_result"
    }
   ],
   "source": [
    "#===== YOUR CODE HERE =====\n",
    "# 3X2 array z\n",
    "z = np.array([[0., 0.5],\n",
    "              [1., 10.],\n",
    "              [-2., -5.]])\n",
    "# Get logistic\n",
    "act = Logistic()\n",
    "act(z)"
   ]
  },
  {
   "cell_type": "code",
   "execution_count": 249,
   "metadata": {},
   "outputs": [
    {
     "data": {
      "text/plain": [
       "array([[2.50000000e-01, 2.35003712e-01],\n",
       "       [1.96611933e-01, 4.53958077e-05],\n",
       "       [1.04993585e-01, 6.64805667e-03]])"
      ]
     },
     "execution_count": 249,
     "metadata": {},
     "output_type": "execute_result"
    }
   ],
   "source": [
    "#===== YOUR CODE HERE =====\n",
    "# Get logistic derivative\n",
    "dactdz = act.derivative()\n",
    "dactdz"
   ]
  },
  {
   "cell_type": "markdown",
   "metadata": {},
   "source": [
    "## Question 4: Implementing `CrossEntropy` class"
   ]
  },
  {
   "cell_type": "code",
   "execution_count": 250,
   "metadata": {},
   "outputs": [],
   "source": [
    "class CrossEntropy(object):\n",
    "    '''\n",
    "     E = CrossEntropy()\n",
    "     \n",
    "     Creates an object that implements the average cross-entropy loss.\n",
    "     \n",
    "     Usage:\n",
    "      E = CrossEntropy()\n",
    "      loss = E(y, t)\n",
    "    '''\n",
    "    def __init__(self):\n",
    "        return\n",
    "    \n",
    "    def __call__(self, y, t):\n",
    "        '''\n",
    "         E.__call__(y, t)  or   E(y, t)\n",
    "         \n",
    "         Computes the average cross-entropy between the outputs\n",
    "         y and the targets t.\n",
    "         \n",
    "         Inputs:\n",
    "           y  2D array with one sample per row\n",
    "           t  array the same size as y\n",
    "           \n",
    "         Output:\n",
    "           loss  average CE loss (scalar)\n",
    "        '''\n",
    "        #===== YOUR CODE HERE =====\n",
    "        # If input shape differs from each other throw an exception\n",
    "        if y.shape != t.shape:\n",
    "            raise ValueError\n",
    "        # Saves the input array y and t\n",
    "        self.input_y = copy.deepcopy(y)\n",
    "        self.input_t = copy.deepcopy(t)\n",
    "        # Initialize loss as 0\n",
    "        loss = 0.\n",
    "        # Get input shape\n",
    "        self.shape = self.input_y.shape\n",
    "        # Computes the CE for each element pair of y and t\n",
    "        # Accumulates the loss at each iteration of the loop\n",
    "        for i in range(self.shape[0]):\n",
    "            for j in range(self.shape[1]):\n",
    "                # Gets current y and t\n",
    "                current_y = self.input_y[i][j]\n",
    "                current_t = self.input_t[i][j]\n",
    "                # Calculates the CE loss for a partifular pair and adds it to the loss\n",
    "                loss += -current_t*np.log(current_y)-(1-current_t)*np.log(1-current_y)\n",
    "        # Divides the total cross-entropy loss by the number of samples for the average\n",
    "        loss /= self.shape[0]\n",
    "        return loss\n",
    "\n",
    "    def derivative(self):\n",
    "        '''\n",
    "         E.derivative()\n",
    "         \n",
    "         Computes and the derivative of cross-entropy with respect to y.\n",
    "         Note that the __call__ function must be called before this\n",
    "         function can be called.\n",
    "         \n",
    "         Output:\n",
    "           dEdy  array the same size as y when __call__ was called\n",
    "        '''\n",
    "        #===== YOUR CODE HERE =====\n",
    "        # Initialize array \n",
    "        dEdy = np.zeros(self.shape)\n",
    "        # Computes the derivative of the CE for each element pair of y and t\n",
    "        # Writes to the answer array at each iteration of the loop\n",
    "        for i in range(self.shape[0]):\n",
    "            for j in range(self.shape[1]):\n",
    "                current_y = self.input_y[i][j]\n",
    "                current_t = self.input_t[i][j]\n",
    "                # Computes the derivative of the CE for each element pair of y and t\n",
    "                dEdy[i][j] = (1-current_t)/(1-current_y)-current_t/current_y\n",
    "                # Divide the derivative of the CE by the number of samples because\n",
    "                # we are calculating the deriative of the average.\n",
    "                dEdy[i][j] /= self.shape[0]\n",
    "        return dEdy\n"
   ]
  },
  {
   "cell_type": "markdown",
   "metadata": {},
   "source": [
    "## Demonstrate `CrossEntropy`"
   ]
  },
  {
   "cell_type": "code",
   "execution_count": 251,
   "metadata": {},
   "outputs": [
    {
     "data": {
      "text/plain": [
       "0.5526800314244393"
      ]
     },
     "execution_count": 251,
     "metadata": {},
     "output_type": "execute_result"
    }
   ],
   "source": [
    "#===== YOUR CODE HERE =====\n",
    "# 3X2 array y, t\n",
    "y = np.array([[0.1, 0.9],\n",
    "              [0.8, 0.3],\n",
    "              [0.7, 0.6]])\n",
    "t = np.array([[0, 1],\n",
    "              [1, 0],\n",
    "              [1, 1]])\n",
    "# Get CE loss\n",
    "E = CrossEntropy()\n",
    "loss = E(y, t)\n",
    "loss"
   ]
  },
  {
   "cell_type": "code",
   "execution_count": 252,
   "metadata": {},
   "outputs": [
    {
     "data": {
      "text/plain": [
       "array([[ 0.37037037, -0.37037037],\n",
       "       [-0.41666667,  0.47619048],\n",
       "       [-0.47619048, -0.55555556]])"
      ]
     },
     "execution_count": 252,
     "metadata": {},
     "output_type": "execute_result"
    }
   ],
   "source": [
    "#===== YOUR CODE HERE =====\n",
    "# Get CE loss derivative\n",
    "E.derivative()"
   ]
  },
  {
   "cell_type": "markdown",
   "metadata": {},
   "source": [
    "## Evaluate $\\nabla_{\\hspace{-1mm}z} E(y,t)$"
   ]
  },
  {
   "cell_type": "code",
   "execution_count": 253,
   "metadata": {},
   "outputs": [
    {
     "data": {
      "text/plain": [
       "array([[ 0.16666667, -0.12584689],\n",
       "       [-0.08964714,  0.3333182 ],\n",
       "       [-0.29359903, -0.33110238]])"
      ]
     },
     "execution_count": 253,
     "metadata": {},
     "output_type": "execute_result"
    }
   ],
   "source": [
    "#===== YOUR CODE HERE =====\n",
    "# 3X2 array z, t\n",
    "z = np.array([[0., 0.5],\n",
    "              [1., 10.],\n",
    "              [-2., -5.]])\n",
    "t = np.array([[0, 1],\n",
    "              [1, 0],\n",
    "              [1, 1]])\n",
    "# Get y and calc derivative of logistic\n",
    "act = Logistic()\n",
    "y = act(z)\n",
    "dactdz = act.derivative()\n",
    "# Calculate CrossEntropy derivative\n",
    "E = CrossEntropy()\n",
    "loss = E(y, t)\n",
    "E_derivative = E.derivative()\n",
    "# Multiply the derivatives of logistic and CrossEntropy together elementwise\n",
    "# by the chain rule to get the derivative of the average cross-entropy\n",
    "# with respect to each element in z\n",
    "np.multiply(E_derivative, dactdz)"
   ]
  },
  {
   "cell_type": "code",
   "execution_count": null,
   "metadata": {},
   "outputs": [],
   "source": []
  }
 ],
 "metadata": {
  "kernelspec": {
   "display_name": "Python 3",
   "language": "python",
   "name": "python3"
  },
  "language_info": {
   "codemirror_mode": {
    "name": "ipython",
    "version": 3
   },
   "file_extension": ".py",
   "mimetype": "text/x-python",
   "name": "python",
   "nbconvert_exporter": "python",
   "pygments_lexer": "ipython3",
   "version": "3.6.9"
  }
 },
 "nbformat": 4,
 "nbformat_minor": 4
}
