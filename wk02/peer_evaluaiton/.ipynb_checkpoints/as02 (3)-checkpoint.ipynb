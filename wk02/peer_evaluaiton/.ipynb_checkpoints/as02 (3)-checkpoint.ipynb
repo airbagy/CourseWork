{
 "cells": [
  {
   "cell_type": "markdown",
   "metadata": {},
   "source": [
    "# Assignment 2"
   ]
  },
  {
   "cell_type": "code",
   "execution_count": 1,
   "metadata": {},
   "outputs": [],
   "source": [
    "import numpy as np\n",
    "import matplotlib.pyplot as plt\n",
    "import math "
   ]
  },
  {
   "cell_type": "markdown",
   "metadata": {},
   "source": [
    "## Question 3: Implementing `Logistic` Class"
   ]
  },
  {
   "cell_type": "code",
   "execution_count": 2,
   "metadata": {},
   "outputs": [],
   "source": [
    "class Logistic(object):\n",
    "    '''\n",
    "     act = Logistic()\n",
    "     \n",
    "     Creates an object that represents the logistic function.\n",
    "     \n",
    "     Usage:\n",
    "      act = Logistic()\n",
    "      act(np.array([0., 0.5]))\n",
    "     produces the numpy array\n",
    "      [0.5 , 0.62245933]\n",
    "    '''\n",
    "    def __init__(self):\n",
    "        return\n",
    "        \n",
    "    def __call__(self, z):\n",
    "        '''\n",
    "         y = act(z)\n",
    "         \n",
    "         Evaluates the logistic function, element-by-element, on z.\n",
    "         \n",
    "         Input:\n",
    "          z  is a numpy array\n",
    "         Output:\n",
    "          y  is a numpy array the same size as z\n",
    "        '''\n",
    "        #===== YOUR CODE HERE =====\n",
    "        \n",
    "        y = 1/(1+np.exp(-1*z)) #logistic function\n",
    "        \n",
    "        self.dE = y*(1-y) #derivative function           \n",
    "        \n",
    "        return y\n",
    "    \n",
    "    def derivative(self):\n",
    "        '''\n",
    "         act.derivative()\n",
    "         \n",
    "         Computes and the derivative of the logistic function\n",
    "         element-by-element.\n",
    "         Note that the __call__ function must be called before this\n",
    "         function can be called.\n",
    "         \n",
    "         Output:\n",
    "           dactdz  array the same size as z when __call__ was called\n",
    "           \n",
    "         Usage:\n",
    "           \n",
    "           dactdz = act.derivative()\n",
    "        '''\n",
    "        #===== YOUR CODE HERE =====\n",
    "        return self.dE\n"
   ]
  },
  {
   "cell_type": "markdown",
   "metadata": {},
   "source": [
    "## Demonstrate `Logistic`"
   ]
  },
  {
   "cell_type": "code",
   "execution_count": 3,
   "metadata": {},
   "outputs": [
    {
     "data": {
      "text/plain": [
       "array([[5.00000000e-01, 6.22459331e-01],\n",
       "       [7.31058579e-01, 8.80797078e-01],\n",
       "       [1.00000000e+00, 3.72007598e-44]])"
      ]
     },
     "execution_count": 3,
     "metadata": {},
     "output_type": "execute_result"
    }
   ],
   "source": [
    "#===== YOUR CODE HERE =====\n",
    "#test call\n",
    "act = Logistic()\n",
    "act(np.array([[0., 0.5],[1,2],[100,-100]])) \n",
    "#produces\n",
    "#array([[5.00000000e-01, 6.22459331e-01],\n",
    "# [7.31058579e-01, 8.80797078e-01],\n",
    "#  [1.00000000e+00, 3.72007598e-44]])"
   ]
  },
  {
   "cell_type": "code",
   "execution_count": 4,
   "metadata": {
    "scrolled": true
   },
   "outputs": [
    {
     "name": "stdout",
     "output_type": "stream",
     "text": [
      "[[2.50000000e-01 2.35003712e-01]\n",
      " [1.96611933e-01 1.04993585e-01]\n",
      " [0.00000000e+00 3.72007598e-44]]\n"
     ]
    }
   ],
   "source": [
    "#===== YOUR CODE HERE =====\n",
    "#test derivative \n",
    "dactdz = act.derivative()\n",
    "print(dactdz)\n",
    "#derivative \n",
    "#[[2.50000000e-01 2.35003712e-01]\n",
    "#[1.96611933e-01 1.04993585e-01]\n",
    "#[0.00000000e+00 3.72007598e-44]]"
   ]
  },
  {
   "cell_type": "markdown",
   "metadata": {},
   "source": [
    "## Question 4: Implementing `CrossEntropy` class"
   ]
  },
  {
   "cell_type": "code",
   "execution_count": 5,
   "metadata": {},
   "outputs": [],
   "source": [
    "class CrossEntropy(object):\n",
    "    '''\n",
    "     E = CrossEntropy()\n",
    "     \n",
    "     Creates an object that implements the average cross-entropy loss.\n",
    "     \n",
    "     Usage:\n",
    "      E = CrossEntropy()\n",
    "      loss = E(y, t)\n",
    "    '''\n",
    "    def __init__(self):\n",
    "        return\n",
    "    \n",
    "    def __call__(self, y, t):\n",
    "        '''\n",
    "         E.__call__(y, t)  or   E(y, t)\n",
    "         \n",
    "         Computes the average cross-entropy between the outputs\n",
    "         y and the targets t.\n",
    "         \n",
    "         Inputs:\n",
    "           y  2D array with one sample per row\n",
    "           t  array the same size as y\n",
    "           \n",
    "         Output:\n",
    "           loss  average CE loss (scalar)\n",
    "        '''\n",
    "        #===== YOUR CODE HERE =====\n",
    "        self.n_samples = np.shape(t)[0]  \n",
    "        E = -1/self.n_samples*np.sum(t*np.log(y)+(1-t)*np.log(1-y))  #average CE loss by formula     \n",
    "        self.dE = (t/y)-(1-t)/(1-y) \n",
    "        self.dE = -1 * (self.dE / self.n_samples)\n",
    "        return E\n",
    "\n",
    "    def derivative(self):\n",
    "        '''\n",
    "         E.derivative()\n",
    "         \n",
    "         Computes and the derivative of cross-entropy with respect to y.\n",
    "         Note that the __call__ function must be called before this\n",
    "         function can be called.\n",
    "         \n",
    "         Output:\n",
    "           dEdy  array the same size as y when __call__ was called\n",
    "        '''\n",
    "        #===== YOUR CODE HERE =====\n",
    "        return self.dE\n"
   ]
  },
  {
   "cell_type": "markdown",
   "metadata": {},
   "source": [
    "## Demonstrate `CrossEntropy`"
   ]
  },
  {
   "cell_type": "code",
   "execution_count": 6,
   "metadata": {},
   "outputs": [
    {
     "name": "stdout",
     "output_type": "stream",
     "text": [
      "1.504014735999536\n"
     ]
    }
   ],
   "source": [
    "#===== YOUR CODE HERE =====\n",
    "\n",
    "y = np.array([[0.7, 0.8],[0.3, 0.4], [0.9, 0.3]])\n",
    "t = np.array([[1, 1],[0, 1],[0, 0]])\n",
    "\n",
    "# test loss function \n",
    "E = CrossEntropy()\n",
    "loss = E(y, t)\n",
    "print(loss)"
   ]
  },
  {
   "cell_type": "code",
   "execution_count": 7,
   "metadata": {
    "scrolled": true
   },
   "outputs": [
    {
     "name": "stdout",
     "output_type": "stream",
     "text": [
      "[[-0.47619048 -0.41666667]\n",
      " [ 0.47619048 -0.83333333]\n",
      " [ 3.33333333  0.47619048]]\n"
     ]
    }
   ],
   "source": [
    "#===== YOUR CODE HERE =====\n",
    "# test derivative \n",
    "dEdy = E.derivative()\n",
    "print(dEdy)\n"
   ]
  },
  {
   "cell_type": "markdown",
   "metadata": {},
   "source": [
    "## Evaluate $\\nabla_{\\hspace{-1mm}z} E(y,t)$"
   ]
  },
  {
   "cell_type": "code",
   "execution_count": 8,
   "metadata": {},
   "outputs": [
    {
     "name": "stdout",
     "output_type": "stream",
     "text": [
      "[[ 0.24368619 -0.14185249]\n",
      " [-0.31752471 -0.03973431]\n",
      " [ 0.21521877  0.22999149]]\n",
      "[[ 0.24368619 -0.14185249]\n",
      " [-0.31752471 -0.03973431]\n",
      " [ 0.21521877  0.22999149]]\n"
     ]
    }
   ],
   "source": [
    "#===== YOUR CODE HERE =====\n",
    "z = np.array([[1, 0.3],[-3, 2], [0.6, 0.8]])\n",
    "t = np.array([[0, 1],[1, 1],[0, 0]])\n",
    "\n",
    "sigma = Logistic()\n",
    "y = sigma(z)  # y, logistic in terms of z\n",
    "\n",
    "\n",
    "#the derivative of the avg cross-entropy wrt each element in z is\n",
    "# dE/dy*dy/dz by chain rule\n",
    "E = CrossEntropy()\n",
    "loss = E(y, t)\n",
    "dEdy = E.derivative()\n",
    "dydz = sigma.derivative()\n",
    "\n",
    "#dE/dz \n",
    "dEdz = dEdy*dydz \n",
    "\n",
    "print(dEdz)\n",
    "\n",
    "print((y-t)/3)"
   ]
  },
  {
   "cell_type": "code",
   "execution_count": null,
   "metadata": {},
   "outputs": [],
   "source": []
  },
  {
   "cell_type": "code",
   "execution_count": 9,
   "metadata": {},
   "outputs": [
    {
     "name": "stdout",
     "output_type": "stream",
     "text": [
      "[[0.81757448 0.10909682]\n",
      " [0.549834   0.90024951]\n",
      " [0.12455336 0.93702664]]\n"
     ]
    }
   ],
   "source": [
    "z = np.array([[1.5, -2.1],[0.2, 2.2], [-1.95, 2.7]])  # 3x2 array\n",
    "act = Logistic()\n",
    "y = act(z)   # __call__ [!]\n",
    "print(y)\n"
   ]
  },
  {
   "cell_type": "code",
   "execution_count": 10,
   "metadata": {},
   "outputs": [
    {
     "name": "stdout",
     "output_type": "stream",
     "text": [
      "[[0.14914645 0.0971947 ]\n",
      " [0.24751657 0.08980033]\n",
      " [0.10903982 0.05900771]]\n"
     ]
    }
   ],
   "source": [
    "dydz = act.derivative()  # derivative [!]\n",
    "print(dydz)\n"
   ]
  },
  {
   "cell_type": "code",
   "execution_count": 11,
   "metadata": {},
   "outputs": [
    {
     "name": "stdout",
     "output_type": "stream",
     "text": [
      "0.4060732090540843\n"
     ]
    }
   ],
   "source": [
    "t = np.array([[1, 0],[1, 1],[0, 1]], dtype=float)\n",
    "E = CrossEntropy()\n",
    "loss = E(y, t)\n",
    "print(loss)"
   ]
  },
  {
   "cell_type": "code",
   "execution_count": 12,
   "metadata": {},
   "outputs": [
    {
     "name": "stdout",
     "output_type": "stream",
     "text": [
      "[[-0.40771005  0.37415214]\n",
      " [-0.60624358 -0.37026772]\n",
      " [ 0.38075802 -0.35573517]]\n"
     ]
    }
   ],
   "source": [
    "dEdy = E.derivative()\n",
    "print(dEdy)"
   ]
  },
  {
   "cell_type": "code",
   "execution_count": null,
   "metadata": {},
   "outputs": [],
   "source": []
  }
 ],
 "metadata": {
  "kernelspec": {
   "display_name": "Python 3",
   "language": "python",
   "name": "python3"
  },
  "language_info": {
   "codemirror_mode": {
    "name": "ipython",
    "version": 3
   },
   "file_extension": ".py",
   "mimetype": "text/x-python",
   "name": "python",
   "nbconvert_exporter": "python",
   "pygments_lexer": "ipython3",
   "version": "3.6.9"
  }
 },
 "nbformat": 4,
 "nbformat_minor": 4
}
