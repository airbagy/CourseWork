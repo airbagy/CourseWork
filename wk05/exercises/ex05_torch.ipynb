{
 "cells": [
  {
   "cell_type": "markdown",
   "metadata": {
    "Collapsed": "false"
   },
   "source": [
    "# Week 05 Exercises: PyTorch\n",
    "Purpose: To learn how to use PyTorch to do neural-networky stuff."
   ]
  },
  {
   "cell_type": "code",
   "execution_count": 1,
   "metadata": {
    "Collapsed": "false"
   },
   "outputs": [],
   "source": [
    "import numpy as np\n",
    "import torch\n",
    "import matplotlib.pyplot as plt\n",
    "import copy"
   ]
  },
  {
   "cell_type": "markdown",
   "metadata": {},
   "source": [
    "# PyTorch Tensors\n",
    "For automatic differentiation, we created our own variable type, `Mat`. PyTorch has its own variable type, called a `Tensor`."
   ]
  },
  {
   "cell_type": "code",
   "execution_count": 2,
   "metadata": {},
   "outputs": [
    {
     "name": "stdout",
     "output_type": "stream",
     "text": [
      "tensor([[1., 2.],\n",
      "        [3., 4.]])\n"
     ]
    }
   ],
   "source": [
    "x = torch.tensor([[1,2],[3,4.]], dtype=torch.float)\n",
    "print(x)"
   ]
  },
  {
   "cell_type": "markdown",
   "metadata": {},
   "source": [
    "PyTorch has a [whole library of operations](https://pytorch.org/docs/stable/torch.html#math-operations) to apply to tensors."
   ]
  },
  {
   "cell_type": "code",
   "execution_count": 3,
   "metadata": {},
   "outputs": [
    {
     "name": "stdout",
     "output_type": "stream",
     "text": [
      "tensor([[0.0000, 0.6931],\n",
      "        [1.0986, 1.3863]])\n"
     ]
    }
   ],
   "source": [
    "y = torch.log(x)\n",
    "print(y)"
   ]
  },
  {
   "cell_type": "markdown",
   "metadata": {},
   "source": [
    "PyTorch has auto-differentiation functionality.\n",
    "\n",
    "Below, z is a node in the expression graph that yields y."
   ]
  },
  {
   "cell_type": "code",
   "execution_count": 4,
   "metadata": {},
   "outputs": [
    {
     "name": "stderr",
     "output_type": "stream",
     "text": [
      "/home/dennis/Desktop/4B/CS489/env/lib/python3.6/site-packages/torch/autograd/__init__.py:132: UserWarning: CUDA initialization: The NVIDIA driver on your system is too old (found version 9010). Please update your GPU driver by downloading and installing a new version from the URL: http://www.nvidia.com/Download/index.aspx Alternatively, go to: https://pytorch.org to install a PyTorch version that has been compiled with your version of the CUDA driver. (Triggered internally at  /pytorch/c10/cuda/CUDAFunctions.cpp:100.)\n",
      "  allow_unreachable=True)  # allow_unreachable flag\n"
     ]
    },
    {
     "data": {
      "text/plain": [
       "tensor([2., 1.])"
      ]
     },
     "execution_count": 4,
     "metadata": {},
     "output_type": "execute_result"
    }
   ],
   "source": [
    "z = torch.tensor([1,2], dtype=torch.float, requires_grad=True)\n",
    "y = torch.prod(z)   # y = z[0]*z[1] = 1*2\n",
    "\n",
    "y.backward()\n",
    "z.grad     # dy/dz = [2,1]"
   ]
  },
  {
   "cell_type": "markdown",
   "metadata": {
    "Collapsed": "false"
   },
   "source": [
    "<div class=\"alert alert-block alert-info\">\n",
    "    Try creating your own mathematical expression, and use AD to compute its derivative.\n",
    "</div>"
   ]
  },
  {
   "cell_type": "code",
   "execution_count": null,
   "metadata": {},
   "outputs": [],
   "source": []
  },
  {
   "cell_type": "markdown",
   "metadata": {},
   "source": [
    "You can also temporarily suspend autograd."
   ]
  },
  {
   "cell_type": "code",
   "execution_count": 5,
   "metadata": {},
   "outputs": [
    {
     "name": "stdout",
     "output_type": "stream",
     "text": [
      "tensor([2., 1.])\n",
      "(Without the no_grad, it would have been different.)\n"
     ]
    }
   ],
   "source": [
    "z = torch.tensor([1,2], dtype=torch.float, requires_grad=True)\n",
    "y1 = torch.prod(z)  # dy1/dz = [2,1]\n",
    "with torch.no_grad():\n",
    "    y2 = torch.sum(z)  # dy2/dz = [1,1]\n",
    "y = y1 + y2\n",
    "y.backward()\n",
    "print(z.grad)\n",
    "print('(Without the no_grad, it would have been different.)')"
   ]
  },
  {
   "cell_type": "markdown",
   "metadata": {},
   "source": [
    "It's pretty easy to convert back and forth between `numpy` arrays and `torch` tensors."
   ]
  },
  {
   "cell_type": "code",
   "execution_count": 6,
   "metadata": {},
   "outputs": [
    {
     "name": "stdout",
     "output_type": "stream",
     "text": [
      "torch version: tensor([1., 2.], dtype=torch.float64)\n"
     ]
    }
   ],
   "source": [
    "# array -> tensor\n",
    "zn = np.array([1,2], dtype=float)\n",
    "zt = torch.tensor(zn)    # makes a copy\n",
    "print(f'torch version: {zt}')"
   ]
  },
  {
   "cell_type": "code",
   "execution_count": 7,
   "metadata": {},
   "outputs": [
    {
     "name": "stdout",
     "output_type": "stream",
     "text": [
      "numpy version: [1. 2.]\n",
      "tensor([-1000.,     2.])\n"
     ]
    }
   ],
   "source": [
    "# tensor -> array\n",
    "zt = torch.tensor([1,2], dtype=torch.float)\n",
    "zn = zt.numpy()    # does NOT make a copy\n",
    "print(f'numpy version: {zn}')\n",
    "zn[0] = -1000.\n",
    "print(zt)"
   ]
  },
  {
   "cell_type": "code",
   "execution_count": 8,
   "metadata": {},
   "outputs": [
    {
     "ename": "RuntimeError",
     "evalue": "Can't call numpy() on Tensor that requires grad. Use tensor.detach().numpy() instead.",
     "output_type": "error",
     "traceback": [
      "\u001b[0;31m---------------------------------------------------------------------------\u001b[0m",
      "\u001b[0;31mRuntimeError\u001b[0m                              Traceback (most recent call last)",
      "\u001b[0;32m<ipython-input-8-dfae4b9d9e05>\u001b[0m in \u001b[0;36m<module>\u001b[0;34m\u001b[0m\n\u001b[1;32m      1\u001b[0m \u001b[0mzt\u001b[0m \u001b[0;34m=\u001b[0m \u001b[0mtorch\u001b[0m\u001b[0;34m.\u001b[0m\u001b[0mtensor\u001b[0m\u001b[0;34m(\u001b[0m\u001b[0;34m[\u001b[0m\u001b[0;36m1\u001b[0m\u001b[0;34m,\u001b[0m\u001b[0;36m2\u001b[0m\u001b[0;34m]\u001b[0m\u001b[0;34m,\u001b[0m \u001b[0mdtype\u001b[0m\u001b[0;34m=\u001b[0m\u001b[0mtorch\u001b[0m\u001b[0;34m.\u001b[0m\u001b[0mfloat\u001b[0m\u001b[0;34m,\u001b[0m \u001b[0mrequires_grad\u001b[0m\u001b[0;34m=\u001b[0m\u001b[0;32mTrue\u001b[0m\u001b[0;34m)\u001b[0m\u001b[0;34m\u001b[0m\u001b[0;34m\u001b[0m\u001b[0m\n\u001b[0;32m----> 2\u001b[0;31m \u001b[0mzn\u001b[0m \u001b[0;34m=\u001b[0m \u001b[0mzt\u001b[0m\u001b[0;34m.\u001b[0m\u001b[0mnumpy\u001b[0m\u001b[0;34m(\u001b[0m\u001b[0;34m)\u001b[0m\u001b[0;34m\u001b[0m\u001b[0;34m\u001b[0m\u001b[0m\n\u001b[0m\u001b[1;32m      3\u001b[0m \u001b[0mprint\u001b[0m\u001b[0;34m(\u001b[0m\u001b[0;34mf'numpy version: {zn}'\u001b[0m\u001b[0;34m)\u001b[0m\u001b[0;34m\u001b[0m\u001b[0;34m\u001b[0m\u001b[0m\n",
      "\u001b[0;31mRuntimeError\u001b[0m: Can't call numpy() on Tensor that requires grad. Use tensor.detach().numpy() instead."
     ]
    }
   ],
   "source": [
    "zt = torch.tensor([1,2], dtype=torch.float, requires_grad=True)\n",
    "zn = zt.numpy()\n",
    "print(f'numpy version: {zn}')"
   ]
  },
  {
   "cell_type": "code",
   "execution_count": 9,
   "metadata": {},
   "outputs": [
    {
     "name": "stdout",
     "output_type": "stream",
     "text": [
      "numpy version: [1. 2.]\n"
     ]
    }
   ],
   "source": [
    "zt = torch.tensor([1,2], dtype=torch.float, requires_grad=True)\n",
    "zn = zt.detach().numpy()    # detaches zt from the expression graph, so grad is gone\n",
    "print(f'numpy version: {zn}')"
   ]
  },
  {
   "cell_type": "markdown",
   "metadata": {},
   "source": [
    "When a tensor is used in multiple calculations, its gradients are be **added** together (when you specify `retain_graph=True`)."
   ]
  },
  {
   "cell_type": "code",
   "execution_count": 10,
   "metadata": {},
   "outputs": [
    {
     "data": {
      "text/plain": [
       "tensor([2., 1.])"
      ]
     },
     "execution_count": 10,
     "metadata": {},
     "output_type": "execute_result"
    }
   ],
   "source": [
    "z = torch.tensor([1,2], dtype=torch.float, requires_grad=True)\n",
    "y = torch.prod(z)  # dy/dz = [2,1]\n",
    "y.backward(retain_graph=True)\n",
    "z.grad"
   ]
  },
  {
   "cell_type": "code",
   "execution_count": 11,
   "metadata": {},
   "outputs": [
    {
     "data": {
      "text/plain": [
       "tensor([3., 2.])"
      ]
     },
     "execution_count": 11,
     "metadata": {},
     "output_type": "execute_result"
    }
   ],
   "source": [
    "b = torch.sum(z)  # dy/dz = [1,1]\n",
    "b.backward()\n",
    "z.grad"
   ]
  },
  {
   "cell_type": "markdown",
   "metadata": {
    "Collapsed": "false"
   },
   "source": [
    "# Classification Dataset\n",
    "We will use PyTorch's `Dataset` class."
   ]
  },
  {
   "cell_type": "code",
   "execution_count": 12,
   "metadata": {},
   "outputs": [],
   "source": [
    "from torch.utils.data import Dataset, DataLoader"
   ]
  },
  {
   "cell_type": "code",
   "execution_count": 13,
   "metadata": {
    "Collapsed": "false"
   },
   "outputs": [
    {
     "name": "stdout",
     "output_type": "stream",
     "text": [
      "Input vectors\n",
      "tensor([[-1.3455,  0.6580, -0.2041, -0.0052,  0.2841, -0.6806],\n",
      "        [-0.3096,  0.4767,  0.0416,  0.8221,  0.3553, -0.9552],\n",
      "        [ 0.0603,  1.0587,  0.6078, -0.5603,  0.9886, -1.1840]])\n",
      "Target vectors\n",
      "tensor([[1., 0., 0.],\n",
      "        [0., 1., 0.],\n",
      "        [0., 0., 1.]])\n"
     ]
    }
   ],
   "source": [
    "B = torch.eye(3)\n",
    "A = 3.*(torch.rand((3, 6)) - 0.5)\n",
    "print('Input vectors')\n",
    "print(A)\n",
    "print('Target vectors')\n",
    "print(B)"
   ]
  },
  {
   "cell_type": "code",
   "execution_count": 14,
   "metadata": {
    "Collapsed": "false"
   },
   "outputs": [],
   "source": [
    "class DiscreteMapping(Dataset):\n",
    "    def __init__(self, A, B, n=300, noise=0.1):\n",
    "        self.samples = []\n",
    "        self.n_classes = len(A)\n",
    "        self.input_dim = len(A[0])\n",
    "        for i in range(n):\n",
    "            r = np.random.randint(self.n_classes)\n",
    "            t = B[r]\n",
    "            sample = [A[r]+noise*torch.randn_like(A[r]), t]\n",
    "            self.samples.append(sample)\n",
    "        \n",
    "    def __getitem__(self, idx):\n",
    "        return self.samples[idx]\n",
    "        \n",
    "    def __len__(self):\n",
    "        return len(self.samples)\n",
    "    \n",
    "    def inputs(self):\n",
    "        x = []\n",
    "        for s in self.samples:\n",
    "            x.append(s[0])\n",
    "        return torch.stack(x)\n",
    "    \n",
    "    def targets(self):\n",
    "        t = []\n",
    "        for s in self.samples:\n",
    "            t.append(s[1])\n",
    "        return torch.stack(t)\n",
    "    \n",
    "    def classes(self):\n",
    "        c = []\n",
    "        for s in self.samples:\n",
    "            k = torch.argmax(s[1])\n",
    "            c.append(k)\n",
    "        return torch.tensor(c, dtype=torch.long)\n",
    "    \n",
    "    def plot(self, labels=[], idx=(0,1), equal=True):\n",
    "        X = self.inputs()\n",
    "        if len(labels)==0:\n",
    "            labels = self.classes()\n",
    "        colour_options = ['y', 'r', 'g', 'b', 'k']\n",
    "        cidx = self.classes()\n",
    "        colours = [colour_options[k] for k in cidx]\n",
    "        plt.scatter(X[:,idx[0]], X[:,idx[1]], color=colours, marker='.')\n",
    "\n",
    "        if equal:\n",
    "            plt.axis('equal');"
   ]
  },
  {
   "cell_type": "code",
   "execution_count": 15,
   "metadata": {
    "Collapsed": "false"
   },
   "outputs": [],
   "source": [
    "ds = DiscreteMapping(A, B)"
   ]
  },
  {
   "cell_type": "code",
   "execution_count": 16,
   "metadata": {
    "Collapsed": "false",
    "scrolled": true
   },
   "outputs": [
    {
     "data": {
      "image/png": "[encoded data removed]",
      "text/plain": [
       "<Figure size 432x288 with 1 Axes>"
      ]
     },
     "metadata": {
      "needs_background": "light"
     },
     "output_type": "display_data"
    }
   ],
   "source": [
    "ds.plot()"
   ]
  },
  {
   "cell_type": "code",
   "execution_count": 17,
   "metadata": {},
   "outputs": [
    {
     "name": "stdout",
     "output_type": "stream",
     "text": [
      "tensor([[ 0.0648,  1.0591,  0.3801, -0.4864,  0.9960, -1.1367],\n",
      "        [-0.4479,  0.5487,  0.1092,  0.7356,  0.3301, -0.9817],\n",
      "        [ 0.0445,  1.0273,  0.5690, -0.5552,  1.1006, -1.1681],\n",
      "        [ 0.0491,  1.0013,  0.7913, -0.5124,  1.0008, -1.1813],\n",
      "        [-0.0058,  1.0477,  0.7242, -0.7067,  0.8411, -1.2293]])\n"
     ]
    }
   ],
   "source": [
    "print(ds.inputs()[:5])"
   ]
  },
  {
   "cell_type": "code",
   "execution_count": 18,
   "metadata": {},
   "outputs": [
    {
     "name": "stdout",
     "output_type": "stream",
     "text": [
      "tensor([[0., 0., 1.],\n",
      "        [0., 1., 0.],\n",
      "        [0., 0., 1.],\n",
      "        [0., 0., 1.],\n",
      "        [0., 0., 1.]])\n",
      "tensor([2, 1, 2, 2, 2])\n"
     ]
    }
   ],
   "source": [
    "print(ds.targets()[:5])\n",
    "print(ds.classes()[:5])"
   ]
  },
  {
   "cell_type": "markdown",
   "metadata": {
    "Collapsed": "false"
   },
   "source": [
    "# Neural Networks with PyTorch\n",
    "We can use the `torch.nn` module."
   ]
  },
  {
   "cell_type": "markdown",
   "metadata": {
    "Collapsed": "false"
   },
   "source": [
    "## Sequential\n",
    "Assumes that each layer is connected to the previous layer."
   ]
  },
  {
   "cell_type": "code",
   "execution_count": 19,
   "metadata": {
    "Collapsed": "false"
   },
   "outputs": [],
   "source": [
    "net = torch.nn.Sequential(\n",
    "    torch.nn.Linear(6,10),\n",
    "    torch.nn.ReLU(),\n",
    "    torch.nn.Linear(10,5),\n",
    "    torch.nn.ReLU(),\n",
    "    torch.nn.Linear(5,3),\n",
    "    torch.nn.LogSoftmax(dim=1))"
   ]
  },
  {
   "cell_type": "markdown",
   "metadata": {
    "Collapsed": "false"
   },
   "source": [
    "## Module\n",
    "More flexibility, since you get to specify the `forward` function."
   ]
  },
  {
   "cell_type": "code",
   "execution_count": 20,
   "metadata": {
    "Collapsed": "false"
   },
   "outputs": [],
   "source": [
    "class mynet(torch.nn.Module):\n",
    "    def __init__(self):\n",
    "        super().__init__()\n",
    "        self.lyr = torch.nn.ModuleList()   # self.lyr = []  DOES NOT WORK\n",
    "        self.lyr.append(torch.nn.Linear(6,10, bias=False))\n",
    "        self.lyr.append(torch.nn.Sigmoid())\n",
    "        self.lyr.append(torch.nn.Linear(10,5))\n",
    "        self.lyr.append(torch.nn.Sigmoid())\n",
    "        self.lyr.append(torch.nn.Linear(5,3))\n",
    "        self.lyr.append(torch.nn.LogSoftmax(dim=1))\n",
    "\n",
    "    def forward(self, x):\n",
    "        # Here is where you can be creative.\n",
    "        y = x\n",
    "        for l in self.lyr:\n",
    "            y = l(y)\n",
    "        return y"
   ]
  },
  {
   "cell_type": "code",
   "execution_count": 21,
   "metadata": {
    "Collapsed": "false"
   },
   "outputs": [],
   "source": [
    "net = mynet()  # <=== Create the network model"
   ]
  },
  {
   "cell_type": "markdown",
   "metadata": {},
   "source": [
    "Choose a [loss function](https://pytorch.org/docs/stable/nn.html#loss-functions)."
   ]
  },
  {
   "cell_type": "code",
   "execution_count": 22,
   "metadata": {
    "Collapsed": "false"
   },
   "outputs": [],
   "source": [
    "#loss = torch.nn.CrossEntropyLoss(reduction='mean')\n",
    "loss_fcn = torch.nn.NLLLoss(reduction='mean')  # <=== Choose a cost function"
   ]
  },
  {
   "cell_type": "code",
   "execution_count": 23,
   "metadata": {},
   "outputs": [
    {
     "name": "stdout",
     "output_type": "stream",
     "text": [
      "tensor(1.1310, grad_fn=<NllLossBackward>)\n"
     ]
    }
   ],
   "source": [
    "y = net(ds.inputs())\n",
    "loss = loss_fcn(y, ds.classes())\n",
    "print(loss)"
   ]
  },
  {
   "cell_type": "code",
   "execution_count": 24,
   "metadata": {},
   "outputs": [
    {
     "data": {
      "text/plain": [
       "tensor([[-1.4273, -0.7353, -1.2706],\n",
       "        [-1.4209, -0.7427, -1.2635],\n",
       "        [-1.4283, -0.7337, -1.2724],\n",
       "        [-1.4285, -0.7332, -1.2730],\n",
       "        [-1.4284, -0.7338, -1.2722]], grad_fn=<SliceBackward>)"
      ]
     },
     "execution_count": 24,
     "metadata": {},
     "output_type": "execute_result"
    }
   ],
   "source": [
    "y[:5]"
   ]
  },
  {
   "cell_type": "code",
   "execution_count": 25,
   "metadata": {},
   "outputs": [
    {
     "data": {
      "text/plain": [
       "tensor([2, 1, 2, 2, 2])"
      ]
     },
     "execution_count": 25,
     "metadata": {},
     "output_type": "execute_result"
    }
   ],
   "source": [
    "ds.classes()[:5]"
   ]
  },
  {
   "cell_type": "markdown",
   "metadata": {},
   "source": [
    "## Network weights and biases are accessible through `net.parameters()`."
   ]
  },
  {
   "cell_type": "code",
   "execution_count": 26,
   "metadata": {},
   "outputs": [
    {
     "name": "stdout",
     "output_type": "stream",
     "text": [
      "torch.Size([10, 6])\n",
      "torch.Size([5, 10])\n",
      "torch.Size([5])\n",
      "torch.Size([3, 5])\n",
      "torch.Size([3])\n"
     ]
    }
   ],
   "source": [
    "for p in net.parameters():\n",
    "    print(p.shape)"
   ]
  },
  {
   "cell_type": "code",
   "execution_count": 27,
   "metadata": {},
   "outputs": [
    {
     "name": "stdout",
     "output_type": "stream",
     "text": [
      "Parameter containing:\n",
      "tensor([[-0.3228,  0.0081, -0.0883, -0.4144,  0.3328],\n",
      "        [-0.2009,  0.4071, -0.3278,  0.2306,  0.3318],\n",
      "        [-0.2310, -0.2475,  0.2652, -0.3249,  0.3833]], requires_grad=True)\n"
     ]
    }
   ],
   "source": [
    "params = list(net.parameters())\n",
    "print(params[3])"
   ]
  },
  {
   "cell_type": "markdown",
   "metadata": {
    "Collapsed": "false"
   },
   "source": [
    "## Train the classification model myself\n",
    "We can access the parameter gradients and implement gradient descent ourselves."
   ]
  },
  {
   "cell_type": "code",
   "execution_count": 28,
   "metadata": {
    "Collapsed": "false"
   },
   "outputs": [],
   "source": [
    "x = ds.inputs()\n",
    "targets = ds.targets()\n",
    "classes = ds.classes()"
   ]
  },
  {
   "cell_type": "code",
   "execution_count": 29,
   "metadata": {
    "Collapsed": "false"
   },
   "outputs": [
    {
     "data": {
      "image/png": "[encoded data removed]",
      "text/plain": [
       "<Figure size 432x288 with 1 Axes>"
      ]
     },
     "metadata": {
      "needs_background": "light"
     },
     "output_type": "display_data"
    }
   ],
   "source": [
    "net = mynet()\n",
    "lrate = 1.\n",
    "n_epochs = 200\n",
    "losses = []\n",
    "for epoch in range(n_epochs):\n",
    "    y = net(x)\n",
    "    err = loss_fcn(y, classes) # for CE\n",
    "    losses.append(err.item())\n",
    "    net.zero_grad()\n",
    "    err.backward()\n",
    "    with torch.no_grad():\n",
    "        for p in net.parameters():\n",
    "            p -= lrate * p.grad\n",
    "plt.plot(losses);"
   ]
  },
  {
   "cell_type": "code",
   "execution_count": 30,
   "metadata": {
    "Collapsed": "false"
   },
   "outputs": [
    {
     "name": "stdout",
     "output_type": "stream",
     "text": [
      "tensor([[-7.4972, -3.5146, -0.0308],\n",
      "        [-3.5309, -0.0422, -4.4191],\n",
      "        [-7.6813, -3.7001, -0.0255],\n",
      "        [-7.7775, -3.6704, -0.0262],\n",
      "        [-7.5764, -3.7796, -0.0236]], grad_fn=<SliceBackward>)\n",
      "tensor([[5.5464e-04, 2.9759e-02, 9.6969e-01],\n",
      "        [2.9277e-02, 9.5868e-01, 1.2045e-02],\n",
      "        [4.6137e-04, 2.4722e-02, 9.7482e-01],\n",
      "        [4.1906e-04, 2.5466e-02, 9.7411e-01],\n",
      "        [5.1240e-04, 2.2832e-02, 9.7666e-01]], grad_fn=<ExpBackward>)\n"
     ]
    }
   ],
   "source": [
    "y = net(x)\n",
    "print(y[:5])\n",
    "print(torch.exp(y[:5]))"
   ]
  },
  {
   "cell_type": "code",
   "execution_count": 31,
   "metadata": {
    "Collapsed": "false"
   },
   "outputs": [
    {
     "data": {
      "text/plain": [
       "tensor([[0., 0., 1.],\n",
       "        [0., 1., 0.],\n",
       "        [0., 0., 1.],\n",
       "        [0., 0., 1.],\n",
       "        [0., 0., 1.]])"
      ]
     },
     "execution_count": 31,
     "metadata": {},
     "output_type": "execute_result"
    }
   ],
   "source": [
    "targets[:5]"
   ]
  },
  {
   "cell_type": "code",
   "execution_count": 32,
   "metadata": {},
   "outputs": [
    {
     "data": {
      "image/png": "[encoded data removed]",
      "text/plain": [
       "<Figure size 432x288 with 1 Axes>"
      ]
     },
     "metadata": {
      "needs_background": "light"
     },
     "output_type": "display_data"
    }
   ],
   "source": [
    "ds.plot(labels=y)"
   ]
  },
  {
   "cell_type": "markdown",
   "metadata": {
    "Collapsed": "false"
   },
   "source": [
    "## Train the model automatically"
   ]
  },
  {
   "cell_type": "code",
   "execution_count": 33,
   "metadata": {
    "Collapsed": "false"
   },
   "outputs": [],
   "source": [
    "net = mynet()\n",
    "loss_fcn = torch.nn.NLLLoss(reduction='mean')\n",
    "optim = torch.optim.SGD(net.parameters(), lr=1)"
   ]
  },
  {
   "cell_type": "code",
   "execution_count": 34,
   "metadata": {
    "Collapsed": "false"
   },
   "outputs": [
    {
     "data": {
      "image/png": "[encoded data removed]",
      "text/plain": [
       "<Figure size 432x288 with 1 Axes>"
      ]
     },
     "metadata": {
      "needs_background": "light"
     },
     "output_type": "display_data"
    }
   ],
   "source": [
    "n_epochs = 200\n",
    "losses = []\n",
    "for epoch in range(n_epochs):\n",
    "    y = net(x)\n",
    "    err = loss_fcn(y, classes) # for CE\n",
    "    losses.append(err.item())\n",
    "    optim.zero_grad()\n",
    "    err.backward()\n",
    "    optim.step()\n",
    "plt.plot(losses);"
   ]
  },
  {
   "cell_type": "code",
   "execution_count": 35,
   "metadata": {
    "Collapsed": "false"
   },
   "outputs": [
    {
     "name": "stdout",
     "output_type": "stream",
     "text": [
      "tensor([[0.0104, 0.0035, 0.9860],\n",
      "        [0.0449, 0.9537, 0.0015],\n",
      "        [0.0082, 0.0027, 0.9892],\n",
      "        [0.0076, 0.0027, 0.9897],\n",
      "        [0.0074, 0.0022, 0.9904]], grad_fn=<ExpBackward>)\n",
      "tensor([2, 1, 2, 2, 2])\n"
     ]
    }
   ],
   "source": [
    "y = net(x)\n",
    "print(torch.exp(y[:5]))\n",
    "print(classes[:5])"
   ]
  },
  {
   "cell_type": "markdown",
   "metadata": {
    "Collapsed": "false"
   },
   "source": [
    "<div class=\"alert alert-block alert-info\">\n",
    "    Try creating a network and training it on the <code>UClasses</code> dataset. To do so, you could create a wrapper for the <code>UClasses</code> class, and have it output torch tensors instead of NumPy arrays. See the <code>utils.py</code> from A4.\n",
    "</div>"
   ]
  },
  {
   "cell_type": "code",
   "execution_count": null,
   "metadata": {},
   "outputs": [],
   "source": []
  }
 ],
 "metadata": {
  "kernelspec": {
   "display_name": "Python 3",
   "language": "python",
   "name": "python3"
  },
  "language_info": {
   "codemirror_mode": {
    "name": "ipython",
    "version": 3
   },
   "file_extension": ".py",
   "mimetype": "text/x-python",
   "name": "python",
   "nbconvert_exporter": "python",
   "pygments_lexer": "ipython3",
   "version": "3.6.9"
  }
 },
 "nbformat": 4,
 "nbformat_minor": 4
}
