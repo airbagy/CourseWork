{
 "cells": [
  {
   "cell_type": "markdown",
   "metadata": {},
   "source": [
    "# Week 1 Assignment: Neuron Models"
   ]
  },
  {
   "cell_type": "code",
   "execution_count": 1,
   "metadata": {},
   "outputs": [],
   "source": [
    "import numpy as np\n",
    "import matplotlib.pyplot as plt"
   ]
  },
  {
   "cell_type": "markdown",
   "metadata": {},
   "source": [
    "# Helper functions"
   ]
  },
  {
   "cell_type": "code",
   "execution_count": 2,
   "metadata": {},
   "outputs": [],
   "source": [
    "def PlotSpikeRaster(st, y_range=[0, 1.]):\n",
    "    '''\n",
    "    PlotSpikeRaster(spiketimes, y_range=[0, 1.])\n",
    "\n",
    "    Plots a spike raster plot for a list of arrays of spike times.\n",
    "\n",
    "    Input:\n",
    "      spiketimes is a list of arrays of spike times. For example,\n",
    "          spiketimes = [ np.array([0.1,0.3]), np.array([0.2,0.5,0.7]) ]\n",
    "      y_range is a 2-tuple that holds the y-values that the raster ticks\n",
    "          should be drawn between\n",
    "    '''\n",
    "    N = len(st)  # number of neurons\n",
    "\n",
    "    levels = np.linspace(y_range[1], y_range[0], N+1, endpoint=True)\n",
    "    for n in range(N):\n",
    "        nspikes = len(st[n])\n",
    "        y = [ [levels[n+1]]*nspikes , [levels[n]]*nspikes ]\n",
    "        plt.plot(np.vstack((st[n],st[n])), y, color=np.random.rand(3))\n",
    "    plt.ylim(y_range)\n",
    "    plt.xlabel('Time (s)')\n",
    "    return\n",
    "\n",
    "\n",
    "def GenerateSpikeTrain(rates, T, jitter=0.):\n",
    "    '''\n",
    "    spike_times = GenerateSpikeTrain(rates, T)\n",
    "    \n",
    "    Creates a spike train (as an array of time stamps).\n",
    "    \n",
    "    Input:\n",
    "    rates is an array or list of firing rates (in Hz), one\n",
    "        firing rate for each interval.\n",
    "    T is an array or list (the same size as 'rates') that gives\n",
    "        the ending time for each interval\n",
    "    jitter is a scalar that determines how much the spikes\n",
    "        are randomly moved\n",
    "        \n",
    "    Output:\n",
    "    spike_times is an array of times when spikes occurred\n",
    "    \n",
    "    Example: To create a spike train of 10Hz for 0.5s, followed\n",
    "             by 25Hz that starts at 0.5s and ends at 2s, use\n",
    "             \n",
    "               GenerateSpikeTrain([10, 25], [0.5, 2])\n",
    "    '''\n",
    "    s = []\n",
    "    t = 0.\n",
    "    for idx in range(0,len(rates)):\n",
    "        Trange = T[idx] - t\n",
    "        if rates[idx]!=0:\n",
    "            delta = 1. / rates[idx]\n",
    "            N = rates[idx] * Trange\n",
    "            times = np.arange(t+delta/2., T[idx], delta)\n",
    "            times += np.random.normal(scale=delta*jitter, size=np.shape(times))\n",
    "            s.extend(times)\n",
    "        t = T[idx]\n",
    "    s.sort()\n",
    "    return np.array(s)\n",
    "\n",
    "\n",
    "def spikes_between(spiketrain, t_start, t_end):\n",
    "    '''\n",
    "     numspikes = spikes_between(spiketrain, t_start, t_end)\n",
    "\n",
    "     Returns the number of times between t_start and t_end.\n",
    "     Specifically, it counts a spike if it occurred at t, where\n",
    "     t_start <= t < t_end\n",
    "    \n",
    "     Inputs:\n",
    "       spiketrain   array-like list of spike times\n",
    "       t_start      start time\n",
    "       t_end        end time\n",
    "       \n",
    "     Output:\n",
    "       numspikes    number of spikes, where t_start <= t < t_end\n",
    "    '''\n",
    "    sp_bool = np.logical_and( np.array(spiketrain)>=t_start, np.array(spiketrain)<t_end )\n",
    "    return np.sum(sp_bool)"
   ]
  },
  {
   "cell_type": "markdown",
   "metadata": {},
   "source": [
    "# Classes"
   ]
  },
  {
   "cell_type": "markdown",
   "metadata": {},
   "source": [
    "## `Neuron` class\n",
    "This is the base class for different types of neurons."
   ]
  },
  {
   "cell_type": "code",
   "execution_count": 3,
   "metadata": {},
   "outputs": [],
   "source": [
    "class Neuron(object):\n",
    "    '''\n",
    "     neur = Neuron()\n",
    "     \n",
    "     This is an abstract base class for Neuron objects.   \n",
    "    '''\n",
    "    def __init__(self):\n",
    "        self.t = 0.       # current time\n",
    "        self.axon = []    # list of outgoing connections\n",
    "        \n",
    "    def slope(self):\n",
    "        return 0.\n",
    "        \n",
    "    def step(self, dt):\n",
    "        raise NotImplementedError\n",
    "        \n",
    "    def send_spike(self, n=1):\n",
    "        for a in self.axon:\n",
    "            a.transmit(n)\n"
   ]
  },
  {
   "cell_type": "markdown",
   "metadata": {},
   "source": [
    "## `Synapse` class\n",
    "This class represents a connection between two neurons."
   ]
  },
  {
   "cell_type": "code",
   "execution_count": 4,
   "metadata": {},
   "outputs": [],
   "source": [
    "class Synapse(object):\n",
    "    '''\n",
    "     The Synapse class represents a connection between a pre-synaptic neuron and\n",
    "     post-synaptic neuron. This class implements the presence and strength (weight)\n",
    "     of the connection, but does NOT model the dynamics of the connection.\n",
    "    '''\n",
    "    def __init__(self, pre, post, w):\n",
    "        self.pre = pre               # pre-synaptic neuron (object)\n",
    "        self.post = post             # post-synaptic neuron (object)\n",
    "        self.pre.axon.append(self)   # record this synapse in the pre-syn neuron\n",
    "        self.w = w                   # connection weight\n",
    "        \n",
    "    def transmit(self, n=1):\n",
    "        '''\n",
    "         syn.transmit(n=1)\n",
    "         \n",
    "         Transmit n spikes through this synapse, from the\n",
    "         pre-syn neuron to the post-syn neuron. The spikes get multiplied\n",
    "         by this Synapse's connection weight.\n",
    "        '''\n",
    "        self.post.receive_current(n*self.w)"
   ]
  },
  {
   "cell_type": "markdown",
   "metadata": {},
   "source": [
    "## `InputNeuron` class\n",
    "Derived from the `Neuron` class, this class is for generating input to feed into a network."
   ]
  },
  {
   "cell_type": "code",
   "execution_count": 5,
   "metadata": {},
   "outputs": [],
   "source": [
    "class InputNeuron(Neuron):\n",
    "    '''\n",
    "     InputNeuron(spiketrain)\n",
    "\n",
    "     Constructor for InputNeuron class.\n",
    "\n",
    "     InputNeuron is a class of neuron that can be used to inject spikes into\n",
    "     the network. When involved in a simulation, an InputNeuron will generate\n",
    "     spikes at the times specified during its construction.\n",
    "\n",
    "     Inputs:\n",
    "       spiketrain is an array or list of spike times\n",
    "    '''    \n",
    "    def __init__(self, spiketrain):\n",
    "        super().__init__()\n",
    "        self.spikes = np.array(spiketrain)\n",
    "\n",
    "    def step(self, slopes, dt):\n",
    "        n_spikes = spikes_between(self.spikes, self.t, self.t+dt)\n",
    "        self.t += dt\n",
    "        if n_spikes>0:\n",
    "            self.send_spike(n_spikes)\n"
   ]
  },
  {
   "cell_type": "markdown",
   "metadata": {},
   "source": [
    "## `LIFNeuron` class\n",
    "Derived from the `Neuron` class, this class implements the Leaky Integrate-and-Fire (LIF) neuron."
   ]
  },
  {
   "cell_type": "code",
   "execution_count": 6,
   "metadata": {},
   "outputs": [],
   "source": [
    "class LIFNeuron(Neuron):\n",
    "\n",
    "    def __init__(self, Tau_m=0.02, Tau_ref=0.002, Tau_s=0.05):\n",
    "        '''\n",
    "         LIFNeuron(Tau_m=0.02, Tau_ref=0.002, Tau_s=0.05)\n",
    "        \n",
    "         Constructor for LIFNeuron class\n",
    "        \n",
    "         Inputs:\n",
    "           Tau_m   membrane time constant, in seconds (s)\n",
    "           Tau_ref refractory period (s)\n",
    "           Tau_s   synaptic time constant (s)\n",
    "        '''\n",
    "        super().__init__()\n",
    "        # self.t and self.axon are defined in the super-class, Neuron.\n",
    "        self.tau_m = Tau_m      # membrane time constant\n",
    "        self.tau_ref = Tau_ref  # refractory period\n",
    "        self.tau_s = Tau_s      # synaptic time constant\n",
    "        self.v = 0.             # sub-threshold membrane potential (voltage)\n",
    "        self.s = 0.             # post-synaptic current (PSC)\n",
    "        \n",
    "        self.weighted_incoming_spikes = 0.  # weighted sum of incoming spikes (for one time step)\n",
    "        self.ref_remaining = 0. # amount of time remaining in the refractory period\n",
    "        \n",
    "        # For plotting\n",
    "        self.v_history = []     # records v over time\n",
    "        self.s_history = []\n",
    "        self.spikes = []        # list of times when this neuron spiked\n",
    "    \n",
    "    def slope(self):\n",
    "        '''\n",
    "         LIFNeuron.slope()\n",
    "        \n",
    "         Evaluates the right-hand side of the differential equations that\n",
    "         govern v and s.\n",
    "         \n",
    "         Output\n",
    "          [dvdt, dsdt]  the slopes, in a list\n",
    "        '''\n",
    "        dvdt = ( self.s - self.v ) / self.tau_m # [1]\n",
    "        dsdt = -self.s / self.tau_s  # [1]\n",
    "        \n",
    "        return [dvdt, dsdt]\n",
    "        \n",
    "        \n",
    "    def step(self, slopes, dt):\n",
    "        '''\n",
    "         LIFNeuron.step(dt)\n",
    "        \n",
    "         Updates the LIF neuron state by taking an Euler step in v and s.\n",
    "         The length of the step is dt seconds.\n",
    "         \n",
    "         Input\n",
    "          slopes   list-like, containing the slopes of v and s\n",
    "          dt       time step (in seconds)\n",
    "          \n",
    "         If v reaches the threshold of 1, the neuron fires an action potential\n",
    "         (spike). Linear interpolation is used to estimate the time that v=1.\n",
    "         The spike time is appended to the list self.spikes, and v\n",
    "         is set to zero. After a spike, the neuron is dormant for self.tau_ref\n",
    "         seconds.\n",
    "        '''\n",
    "        dvdt, dsdt = slopes\n",
    "        # Update input current, included newly-arrived spikes\n",
    "        self.s += dt*dsdt + self.weighted_incoming_spikes/self.tau_s\n",
    "        \n",
    "        v_previous = self.v\n",
    "        t = self.t\n",
    "        dt_integrate = dt\n",
    "        \n",
    "        # Implement refractory period\n",
    "        if dt-self.ref_remaining>0:\n",
    "            dt_integrate = max(0, dt-self.ref_remaining)\n",
    "            t = self.t + self.ref_remaining\n",
    "            self.v += dt_integrate*dvdt  # Euler step\n",
    "            self.ref_remaining = 0\n",
    "        else:\n",
    "            self.v = 0.\n",
    "            self.ref_remaining -= dt\n",
    "        \n",
    "        # Detect spike: if v reaches 1, spike\n",
    "        if self.v>=1.0:\n",
    "            # SPIKE!\n",
    "\n",
    "            # Interpolate spike time\n",
    "            v0 = v_previous\n",
    "            v1 = self.v\n",
    "            tstar = t + dt_integrate * (1.-v0) / (v1-v0)\n",
    "            self.spikes.append(tstar)  # Record spike time\n",
    "\n",
    "            self.v = 1.  # Set v to 1 (or zero)\n",
    "\n",
    "            self.ref_remaining = self.tau_ref - (dt - (tstar-self.t))\n",
    "            \n",
    "            # Broadcast the spike to downstream neurons\n",
    "            self.send_spike()\n",
    "\n",
    "        # Store v (for plotting), and reset incoming spike accumulator\n",
    "        self.v_history.append(self.v)\n",
    "        self.s_history.append(self.s)\n",
    "        self.weighted_incoming_spikes = 0.\n",
    "        self.t += dt\n",
    "        \n",
    "    def receive_current(self, c):\n",
    "        '''\n",
    "         LIFNeuron.receive_current(c)\n",
    "        \n",
    "         Registers the arrival of current from a synapse. The\n",
    "         member variable self.total_injected_current keeps track of all\n",
    "         the incoming current for a time step.\n",
    "        \n",
    "         It is sufficient to add all currents together to tabulate the\n",
    "         total incoming current (from all presynaptic neurons).\n",
    "        \n",
    "         Input:\n",
    "           c    incoming current\n",
    "        '''\n",
    "        self.weighted_incoming_spikes += c\n",
    "        \n",
    "        \n",
    "    def __repr__(self):\n",
    "        '''\n",
    "         print(neur)\n",
    "         \n",
    "         Prints the current time, membrane potential, input current, and\n",
    "         remaining refractory time.\n",
    "        '''\n",
    "        return '{0:6.4f}s: s={1:5.3f}, v={2:6.4f}, ref remaining={3:7.5f}'.format(self.t, self.s, self.v, self.ref_remaining)\n"
   ]
  },
  {
   "cell_type": "markdown",
   "metadata": {},
   "source": [
    "## `SpikingNetwork` class\n",
    "This class represents a collection of neurons and their connections to each other. Add neurons, connect them, and then simulate the network."
   ]
  },
  {
   "cell_type": "code",
   "execution_count": 7,
   "metadata": {},
   "outputs": [],
   "source": [
    "class SpikingNetwork(object):\n",
    "    '''\n",
    "     SpikingNetwork()\n",
    "\n",
    "     Constructor for SpikingNetwork class.\n",
    "\n",
    "     The SpikingNetwork class contains a collection of neurons,\n",
    "     and the connections between those neurons.\n",
    "    '''\n",
    "    def __init__(self):\n",
    "        self.neur = []         # List of neurons (of various kinds)\n",
    "        self.conn = []         # List of connections\n",
    "        self.t_history = []    # List of time stamps for the Euler steps\n",
    "                               # (Useful for plotting)\n",
    "            \n",
    "    def add_neuron(self, neur):\n",
    "        '''\n",
    "         SpikingNetwork.add_neuron(neuron)\n",
    "        \n",
    "         Adds a neuron to the network.\n",
    "        \n",
    "         Input:\n",
    "           neuron is an object of type LIFNeuron or InputNeuron\n",
    "        '''\n",
    "        self.neur.append(neur)\n",
    "        \n",
    "    def connect(self, pre, post, w):\n",
    "        '''\n",
    "         SpikingNetwork.connect(pre, post, w)\n",
    "        \n",
    "         Connects neuron 'pre' to neuron 'post' with a connection\n",
    "         weigth of w.\n",
    "        \n",
    "         where\n",
    "          pre    is the pre-synaptic neuron object,\n",
    "          post   is the post-synaptic neuron object, and\n",
    "          weight is the connection weight.\n",
    "        '''\n",
    "        syn = Synapse(pre, post, w)\n",
    "        self.conn.append(syn)\n",
    "        \n",
    "    def simulate(self, T, dt):\n",
    "        '''\n",
    "         SpikingNetwork.simulate(T, dt)\n",
    "        \n",
    "         Simulates the network for T seconds by taking Euler steps\n",
    "         of size dt.\n",
    "        \n",
    "         Inputs:\n",
    "           T    how long to integrate for\n",
    "           dt   time step for Euler's method\n",
    "        '''\n",
    "        \n",
    "        current = 0 if len(self.t_history)==0 else self.t_history[-1]\n",
    "        t_segment = np.arange(current, current+T, dt)\n",
    "        \n",
    "        for tt in t_segment:\n",
    "            self.t_history.append(tt)\n",
    "            \n",
    "            # Compute slopes for all neurons first...\n",
    "            slopes = []\n",
    "            for neur in self.neur:\n",
    "                slopes.append(neur.slope())\n",
    "                \n",
    "            # ... then update the neurons using an Euler step.\n",
    "            for neur,slope in zip(self.neur, slopes):\n",
    "                neur.step(slope, dt)\n",
    "                    \n",
    "    def all_spike_times(self):\n",
    "        '''\n",
    "         SpikingNetwork.AllSpikeTimes()\n",
    "        \n",
    "         Returns all the spikes of all the neurons in the network.\n",
    "         Useful for making spike-raster plots of network activity.\n",
    "        \n",
    "         Output:\n",
    "           all_spikes  a list of sublists, where each sublist holds\n",
    "                       the spike times of one of the neurons\n",
    "        '''\n",
    "        all_spikes = []\n",
    "        for neur in self.neur:\n",
    "            all_spikes.append(np.array(neur.spikes))\n",
    "        return all_spikes"
   ]
  },
  {
   "cell_type": "markdown",
   "metadata": {},
   "source": [
    "# Assignment Questions"
   ]
  },
  {
   "cell_type": "markdown",
   "metadata": {},
   "source": [
    "## Q1: Two LIF Neurons"
   ]
  },
  {
   "cell_type": "markdown",
   "metadata": {},
   "source": [
    "### (a)"
   ]
  },
  {
   "cell_type": "code",
   "execution_count": 8,
   "metadata": {},
   "outputs": [],
   "source": [
    "# Start with network from previous question.\n",
    "net = SpikingNetwork()      # Create network\n",
    "A = LIFNeuron()   # Create and add LIF neurons A and B\n",
    "B = LIFNeuron()\n",
    "net.add_neuron(A)\n",
    "net.add_neuron(B)\n",
    "# Two input neurons with prescribed spike trains\n",
    "InA = InputNeuron(GenerateSpikeTrain([30], [0.2]))\n",
    "net.add_neuron(InA)\n",
    "InB = InputNeuron(GenerateSpikeTrain([0, 90], [0.7, 0.8]))  # Input 2\n",
    "net.add_neuron(InB)\n",
    "# Connections\n",
    "net.connect(A, B, 0.05)  # A -> B\n",
    "net.connect(B, A, 0.05)  # B -> A\n",
    "net.connect(InA, A, 0.05)  # InA -> A\n",
    "net.connect(InB, B, -0.25) # InB -> B\n"
   ]
  },
  {
   "cell_type": "markdown",
   "metadata": {},
   "source": [
    "### (b)"
   ]
  },
  {
   "cell_type": "code",
   "execution_count": 9,
   "metadata": {},
   "outputs": [
    {
     "data": {
      "image/png": "[encoded data removed]",
      "text/plain": [
       "<Figure size 432x288 with 1 Axes>"
      ]
     },
     "metadata": {
      "needs_background": "light"
     },
     "output_type": "display_data"
    }
   ],
   "source": [
    "net.simulate(1.5, 0.001)\n",
    "PlotSpikeRaster(net.all_spike_times())\n"
   ]
  },
  {
   "cell_type": "markdown",
   "metadata": {},
   "source": [
    "### (c)\n",
    "The interaction between neurons A and B is most like (b) the positive feedback you get when you place a microphone too close to its loudspeaker. The sound from the loudspeaker going into the microphone is the spikes going from A to B. And the signal picked up by the mic and being set to the loudspeaker is like the spikes going from B to A. Each element sends its signal to the other, resulting in a positive feedback loop.\n",
    "\n",
    "(a) is incorrect because the system stabilizes (does not keep \"building speed\")\n",
    "\n",
    "(c) is incorrect because the guitar string immediately decays in amplitude.\n"
   ]
  },
  {
   "cell_type": "markdown",
   "metadata": {},
   "source": [
    "## Q2: Ring Oscillator"
   ]
  },
  {
   "cell_type": "markdown",
   "metadata": {},
   "source": [
    "### (a)"
   ]
  },
  {
   "cell_type": "code",
   "execution_count": 10,
   "metadata": {},
   "outputs": [],
   "source": [
    "net = SpikingNetwork()\n",
    "# [1] Eight identical LIF neurons with the correct tau_s and tau_m\n",
    "tau_s = 0.1\n",
    "tau_m = 0.05\n",
    "A = LIFNeuron(Tau_s=tau_s, Tau_m=tau_m); net.add_neuron(A)\n",
    "B = LIFNeuron(Tau_s=tau_s, Tau_m=tau_m); net.add_neuron(B)\n",
    "C = LIFNeuron(Tau_s=tau_s, Tau_m=tau_m); net.add_neuron(C)\n",
    "D = LIFNeuron(Tau_s=tau_s, Tau_m=tau_m); net.add_neuron(D)\n",
    "E = LIFNeuron(Tau_s=tau_s, Tau_m=tau_m); net.add_neuron(E)\n",
    "F = LIFNeuron(Tau_s=tau_s, Tau_m=tau_m); net.add_neuron(F)\n",
    "G = LIFNeuron(Tau_s=tau_s, Tau_m=tau_m); net.add_neuron(G)\n",
    "H = LIFNeuron(Tau_s=tau_s, Tau_m=tau_m); net.add_neuron(H)\n",
    "# [1] Connections for excitatory ring\n",
    "w = 0.2\n",
    "net.connect(A, B, w)\n",
    "net.connect(B, C, w)\n",
    "net.connect(C, D, w)\n",
    "net.connect(D, E, w)\n",
    "net.connect(E, F, w)\n",
    "net.connect(F, G, w)\n",
    "net.connect(G, H, w)\n",
    "net.connect(H, A, w)  # close loop\n"
   ]
  },
  {
   "cell_type": "markdown",
   "metadata": {},
   "source": [
    "### (b)"
   ]
  },
  {
   "cell_type": "code",
   "execution_count": 11,
   "metadata": {},
   "outputs": [],
   "source": [
    "# Connections for inhibitory ring\n",
    "w = -2*w\n",
    "net.connect(B, A, w)\n",
    "net.connect(C, B, w)\n",
    "net.connect(D, C, w)\n",
    "net.connect(E, D, w)\n",
    "net.connect(F, E, w)\n",
    "net.connect(G, F, w)\n",
    "net.connect(H, G, w)\n",
    "net.connect(A, H, w)\n"
   ]
  },
  {
   "cell_type": "markdown",
   "metadata": {},
   "source": [
    "### (c)"
   ]
  },
  {
   "cell_type": "code",
   "execution_count": 12,
   "metadata": {},
   "outputs": [],
   "source": [
    "# Create and connect input neuron\n",
    "# Can be connected to any neuron in the ring.\n",
    "input_neuron = InputNeuron(GenerateSpikeTrain([25], [0.3]))\n",
    "net.add_neuron(input_neuron)\n",
    "net.connect(input_neuron, A, 0.2) # Seed one element in the ring\n"
   ]
  },
  {
   "cell_type": "markdown",
   "metadata": {},
   "source": [
    "### (d)"
   ]
  },
  {
   "cell_type": "code",
   "execution_count": 13,
   "metadata": {},
   "outputs": [
    {
     "data": {
      "image/png": "[encoded data removed]",
      "text/plain": [
       "<Figure size 432x288 with 1 Axes>"
      ]
     },
     "metadata": {
      "needs_background": "light"
     },
     "output_type": "display_data"
    }
   ],
   "source": [
    "# Simulate and Plot spike rasters\n",
    "net.simulate(4., 0.001)\n",
    "PlotSpikeRaster(net.all_spike_times());\n",
    "plt.grid('on');  # this grid command is not necessary\n"
   ]
  },
  {
   "cell_type": "markdown",
   "metadata": {},
   "source": [
    "### (e)\n",
    "\n",
    "Judging by the fact that we see 9 periods between 0.6 and 3.9 seconds, the period must be around $\\frac{3.9-0.6}{9}$ or 0.37 seconds.\n",
    "\n",
    "**For the sake of grading, we will also accept the reciprocal of that answer, which gives 2.7 Hz (cycles per second).**\n"
   ]
  },
  {
   "cell_type": "code",
   "execution_count": 14,
   "metadata": {},
   "outputs": [
    {
     "name": "stdout",
     "output_type": "stream",
     "text": [
      "0.36666666666666664\n"
     ]
    }
   ],
   "source": [
    "print((3.9-0.6)/9)\n"
   ]
  },
  {
   "cell_type": "code",
   "execution_count": null,
   "metadata": {},
   "outputs": [],
   "source": []
  }
 ],
 "metadata": {
  "kernelspec": {
   "display_name": "Python 3",
   "language": "python",
   "name": "python3"
  },
  "language_info": {
   "codemirror_mode": {
    "name": "ipython",
    "version": 3
   },
   "file_extension": ".py",
   "mimetype": "text/x-python",
   "name": "python",
   "nbconvert_exporter": "python",
   "pygments_lexer": "ipython3",
   "version": "3.6.9"
  }
 },
 "nbformat": 4,
 "nbformat_minor": 4
}
