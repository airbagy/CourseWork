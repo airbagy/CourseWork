{
 "cells": [
  {
   "cell_type": "markdown",
   "metadata": {},
   "source": [
    "# Solving Differential Equations"
   ]
  },
  {
   "cell_type": "code",
   "execution_count": 1,
   "metadata": {},
   "outputs": [],
   "source": [
    "import numpy as np\n",
    "import matplotlib.pyplot as plt"
   ]
  },
  {
   "cell_type": "markdown",
   "metadata": {},
   "source": [
    "## Differential Equation"
   ]
  },
  {
   "cell_type": "markdown",
   "metadata": {},
   "source": [
    "$$\n",
    "\\tau_n \\frac{dn}{dt} = n_\\infty - n \\quad \\Rightarrow \\quad \\frac{dn}{dt} = \\frac{1}{\\tau_n} \\left( n_\\infty - n \\right)\n",
    "$$\n",
    "In this case, $n_\\infty$ is the equilibrium solution, and $\\tau_n$ is the time constant that dictates how quickly the solution converges."
   ]
  },
  {
   "cell_type": "markdown",
   "metadata": {},
   "source": [
    "<div class=\"alert alert-block alert-info\">\n",
    "<b>Exercise 2a</b><br>\n",
    "    Check out the function below. It evalutates the RHS of the differential equations -- that is, the slope.</div>"
   ]
  },
  {
   "cell_type": "code",
   "execution_count": 2,
   "metadata": {},
   "outputs": [],
   "source": [
    "def de(t, z):\n",
    "    n = z[0]\n",
    "    dndt = (n_inf - n) / tau_n\n",
    "    return np.array([dndt])"
   ]
  },
  {
   "cell_type": "markdown",
   "metadata": {},
   "source": [
    "## Euler's Method\n",
    "You can find out more about <a href=\"https://en.wikipedia.org/wiki/Euler_method\">Euler's Method on Wikipedia</a>, or other pages."
   ]
  },
  {
   "cell_type": "code",
   "execution_count": 3,
   "metadata": {},
   "outputs": [],
   "source": [
    "def Euler(f, tspan, y0, N=100):\n",
    "    '''\n",
    "    t,y = Euler(f, tspan, y0, N=100)\n",
    "    \n",
    "    Use Euler's method to approximate the solution of y' = f(t,y).\n",
    "    \n",
    "     Input\n",
    "       f     is a Python dynamics function with calling signature\n",
    "                  dydt = f(t, y)\n",
    "       tspan is a 2-vector with the start and end times\n",
    "       y0    is the initial state of the system\n",
    "       N     is the number of steps to take\n",
    "\n",
    "     Output\n",
    "       t  is a vector of time stamps\n",
    "       y  is an array with the solution for each time stamp on each row\n",
    "    '''\n",
    "\n",
    "    # Initialize output arrays\n",
    "    t_history = np.linspace(tspan[0], tspan[1], N+1)\n",
    "    dt = t_history[1] - t_history[0]  # step size\n",
    "    \n",
    "    y = y0\n",
    "    y_history = [y]\n",
    "\n",
    "    for t in t_history[:-1]:\n",
    "        y = y + dt * f(t, y)   # Euler step (f returns the slope)\n",
    "        y_history.append(y)\n",
    "\n",
    "    return t_history, np.array(y_history)"
   ]
  },
  {
   "cell_type": "markdown",
   "metadata": {},
   "source": [
    "## Numerical Solution"
   ]
  },
  {
   "cell_type": "code",
   "execution_count": 4,
   "metadata": {},
   "outputs": [],
   "source": [
    "tspan = [0, 1]   # start and end times\n",
    "n0 = 0.1         # initial state\n",
    "\n",
    "# Parameters that govern n(t)\n",
    "n_inf = 0.9\n",
    "tau_n = 0.1\n",
    "\n",
    "# Solve (numerically)\n",
    "t, y = Euler(de, tspan, [n0])"
   ]
  },
  {
   "cell_type": "markdown",
   "metadata": {},
   "source": [
    "Plot the solution. Notice the axis labels."
   ]
  },
  {
   "cell_type": "code",
   "execution_count": 5,
   "metadata": {
    "scrolled": true
   },
   "outputs": [
    {
     "data": {
      "image/png": "[encoded data removed]",
      "text/plain": [
       "<Figure size 432x288 with 1 Axes>"
      ]
     },
     "metadata": {
      "needs_background": "light"
     },
     "output_type": "display_data"
    }
   ],
   "source": [
    "plt.plot(t,y, 'g')\n",
    "plt.xlabel('Time (s)')\n",
    "plt.ylabel('n(t)');"
   ]
  },
  {
   "cell_type": "markdown",
   "metadata": {},
   "source": [
    "<div class=\"alert alert-block alert-info\">\n",
    "<b>Exercise 2b</b><br>\n",
    "On a single axis, try plotting $n(t)$ for 3 different values of $\\tau_n$:\n",
    "    <itemize>\n",
    "    <li> $\\tau_n = 0.05 s$\n",
    "    <li> $\\tau_n = 0.1 s$\n",
    "    <li> $\\tau_n = 0.2 s$\n",
    "    </itemize><br>\n",
    "Remember to label the axes.</div>"
   ]
  },
  {
   "cell_type": "code",
   "execution_count": 6,
   "metadata": {},
   "outputs": [],
   "source": [
    "# Plotting code here.\n",
    "# Note that you have to solve the DE for each different tau_n.\n"
   ]
  },
  {
   "cell_type": "code",
   "execution_count": 9,
   "metadata": {},
   "outputs": [],
   "source": [
    "tau_n = 0.05\n",
    "\n",
    "# Solve (numerically)\n",
    "t, y = Euler(de, tspan, [n0])"
   ]
  },
  {
   "cell_type": "code",
   "execution_count": 10,
   "metadata": {},
   "outputs": [
    {
     "data": {
      "image/png": "[encoded data removed]",
      "text/plain": [
       "<Figure size 432x288 with 1 Axes>"
      ]
     },
     "metadata": {
      "needs_background": "light"
     },
     "output_type": "display_data"
    }
   ],
   "source": [
    "plt.plot(t,y, 'g')\n",
    "plt.xlabel('Time (s)')\n",
    "plt.ylabel('n(t)');"
   ]
  },
  {
   "cell_type": "code",
   "execution_count": null,
   "metadata": {},
   "outputs": [],
   "source": []
  }
 ],
 "metadata": {
  "kernelspec": {
   "display_name": "Python 3",
   "language": "python",
   "name": "python3"
  },
  "language_info": {
   "codemirror_mode": {
    "name": "ipython",
    "version": 3
   },
   "file_extension": ".py",
   "mimetype": "text/x-python",
   "name": "python",
   "nbconvert_exporter": "python",
   "pygments_lexer": "ipython3",
   "version": "3.6.9"
  }
 },
 "nbformat": 4,
 "nbformat_minor": 4
}
